{
 "cells": [
  {
   "cell_type": "code",
   "execution_count": 75,
   "metadata": {},
   "outputs": [
    {
     "name": "stdout",
     "output_type": "stream",
     "text": [
      "200\n"
     ]
    }
   ],
   "source": [
    "import requests\n",
    "import ast\n",
    "import pandas as pd\n",
    "import numpy as np\n",
    "import re\n",
    "\n",
    "recipe = requests.get('https://openrecipes.s3.amazonaws.com/openrecipes.txt')\n",
    "\n",
    "print(recipe.status_code)"
   ]
  },
  {
   "cell_type": "code",
   "execution_count": 76,
   "metadata": {},
   "outputs": [
    {
     "name": "stdout",
     "output_type": "stream",
     "text": [
      "1043\n"
     ]
    }
   ],
   "source": [
    "result = recipe.text\n",
    "\n",
    "result = recipe.text.split('\\n')\n",
    "print(len(result))\n",
    "# result"
   ]
  },
  {
   "cell_type": "code",
   "execution_count": 77,
   "metadata": {},
   "outputs": [],
   "source": [
    "raw = []\n",
    "\n",
    "for i in result[0:1042]:\n",
    "    raw.append(ast.literal_eval(i))\n"
   ]
  },
  {
   "cell_type": "code",
   "execution_count": 78,
   "metadata": {},
   "outputs": [],
   "source": [
    "df = pd.DataFrame(raw)"
   ]
  },
  {
   "cell_type": "code",
   "execution_count": 79,
   "metadata": {},
   "outputs": [
    {
     "data": {
      "text/plain": [
       "Index(['name', 'ingredients', 'url', 'image', 'cookTime', 'recipeYield',\n",
       "       'datePublished', 'prepTime', 'description'],\n",
       "      dtype='object')"
      ]
     },
     "execution_count": 79,
     "metadata": {},
     "output_type": "execute_result"
    }
   ],
   "source": [
    "df.columns"
   ]
  },
  {
   "cell_type": "code",
   "execution_count": 80,
   "metadata": {},
   "outputs": [
    {
     "data": {
      "text/plain": [
       "name                                           Perfect Iced Coffee\n",
       "ingredients      1 pound Ground Coffee (good, Rich Roast)\\n8 qu...\n",
       "url              http://thepioneerwoman.com/cooking/2011/06/per...\n",
       "image            http://static.thepioneerwoman.com/cooking/file...\n",
       "cookTime                                                        PT\n",
       "recipeYield                                                     24\n",
       "datePublished                                           2011-06-13\n",
       "prepTime                                                      PT8H\n",
       "description      Iced coffee is my life. When I wake up, often ...\n",
       "Name: 4, dtype: object"
      ]
     },
     "execution_count": 80,
     "metadata": {},
     "output_type": "execute_result"
    }
   ],
   "source": [
    "df.loc[4]"
   ]
  },
  {
   "cell_type": "code",
   "execution_count": 81,
   "metadata": {},
   "outputs": [
    {
     "data": {
      "text/plain": [
       "count    1042.000000\n",
       "mean       10.709213\n",
       "std         4.575432\n",
       "min         1.000000\n",
       "25%         8.000000\n",
       "50%        10.000000\n",
       "75%        13.000000\n",
       "max        36.000000\n",
       "Name: ingredients, dtype: float64"
      ]
     },
     "execution_count": 81,
     "metadata": {},
     "output_type": "execute_result"
    }
   ],
   "source": [
    "df['ingredients'].str.split('\\n').str.len().describe()"
   ]
  },
  {
   "cell_type": "code",
   "execution_count": 82,
   "metadata": {},
   "outputs": [
    {
     "data": {
      "text/plain": [
       "count    1042.000000\n",
       "mean       10.709213\n",
       "std         4.575432\n",
       "min         1.000000\n",
       "25%         8.000000\n",
       "50%        10.000000\n",
       "75%        13.000000\n",
       "max        36.000000\n",
       "Name: ingredients, dtype: float64"
      ]
     },
     "execution_count": 82,
     "metadata": {},
     "output_type": "execute_result"
    }
   ],
   "source": [
    "all_ingreds= df['ingredients'].str.split('\\n')\n",
    "x = all_ingreds.str.len() # returns len of ingredients for each recipe\n",
    "x.describe()"
   ]
  },
  {
   "cell_type": "code",
   "execution_count": 83,
   "metadata": {},
   "outputs": [
    {
     "data": {
      "text/plain": [
       "'A Nice Berry Pie'"
      ]
     },
     "execution_count": 83,
     "metadata": {},
     "output_type": "execute_result"
    }
   ],
   "source": [
    "# lets find the reipe with the most ingredients\n",
    "\n",
    "df['name'][np.argmax(df['ingredients'].str.len())]"
   ]
  },
  {
   "cell_type": "code",
   "execution_count": 84,
   "metadata": {},
   "outputs": [
    {
     "data": {
      "text/plain": [
       "[\"Flaky Rye Pie Crust\\n75 g / v. scant 2/3 cup rye flour\\n175g / 1 1/2 cups unbleached all-purpose flour\\n1/4 teaspoon fine grain sea salt\\n8 oz / 1 cup salted butter\\n1/3 cup / 80 ml cold water or beer\\nYou can make the crust using the quick and popular food processor technique. BUT I always make it by hand, using the above ingredients, and this technique. If you like a super-puffy crust, do the folding in Pim's instructions 4x. I usually like mine less so, and fold &amp; roll just 2 or 3 times, depending on how the dough is feeling. The pie in the photo was 3x.\\nBerry Pie Filling\\n2/3 cup / 3.5 oz / 100g natural cane or brown sugar\\n1/3 cup / 1.5 oz / 45 g flour (apf or wwp)\\n1/4 teaspoon fine grain sea salt\\n1/2 teaspoon cinnamon\\n2 sprigs thyme (prefer. lemon thyme) ~ 1/2 t.\\n2 pounds of berries, (see head notes)\\n2 tablespoons lemon juice\\n2 tablespoons butter\\n1 egg plus 1 tablespoon water, whisked\\nLarge grain sugar, for sprinkling\\nPreheat your oven to 425F / 220C, with a rack in the bottom third. Roll out your pie crust - top and bottom - on a flour dusted counter. I tend to work the edges a bit first (particularly if I'm getting cracks) - roll and turn, roll and turn, dusting with flour when necessary. Flip once or twice. Work quickly and keep the dough moving. Place between unbleached parchment paper or Silpats, and refrigerate while you make the filling. If you're nervous about rolling out the crust, have a look at the second part of Melissa Clark's video. See how she's not super fussy? Channel some of that. If you need an extra confidence booster, read this. It's o.k. if your dough doesn't roll out into a perfect circle - you can patch and pinch later if needed. Just shoot for 11 or 12-inch inch rounds.\\nMake the filling by combining the sugar, flour, salt, cinnamon, and thyme in large mixing bowl. Add the berries, and toss gently until well combined. Set aside.\\nLine a 9 or 10-inch pie plate with the bottom piece of pie dough. Guide it into place without stretching. You want about an inch of dough extending past the rim of the pie plate, trim a bit with scissors or a sharp knife if needed.\\nFill the crust with the berries, drizzle with lemon juice, and dot with the butter. Brush the rim of the bottom crust with a bit of egg wash, then top with the other piece of pie crust. Trim the top crust a bit if needed, then press the top and bottom crusts together at the edges. Working around the rim, tuck the overhanging dough under itself, and crimp with a fork or flute using your fingers (see picture up above). Brush the crust with more of the egg wash, cut a few slits into the top, and place in the oven for about 45 minutes - until the crust is deeply golden. Check your pie regularly after 25 minutes. If you need to foil the edges of the pie - pull it out and do so - this way the edges wont get too dark and dry. I don't have to foil in my oven for this pie, even at this temp, but your oven might be a bit different. I also sprinkle with large-grain sugar about 25 minutes in - for a little extra crunch and sweetness. Let cool a bit, slice and serve.\\nServes 8.\\n\\nPrep time: 90 min  - \\n   Cook time: 45 min   \\n  \\nPrint Recipe\"]"
      ]
     },
     "execution_count": 84,
     "metadata": {},
     "output_type": "execute_result"
    }
   ],
   "source": [
    "# return a record where the column name is a Nice Berry Pie\n",
    "list_ = df[df['name'] == 'A Nice Berry Pie']['ingredients']\n",
    "list_.to_list()"
   ]
  },
  {
   "cell_type": "code",
   "execution_count": 85,
   "metadata": {},
   "outputs": [
    {
     "data": {
      "text/plain": [
       "11"
      ]
     },
     "execution_count": 85,
     "metadata": {},
     "output_type": "execute_result"
    }
   ],
   "source": [
    "df['description'].str.contains('[Bb]reakfast').sum()"
   ]
  },
  {
   "cell_type": "code",
   "execution_count": 88,
   "metadata": {},
   "outputs": [
    {
     "data": {
      "text/html": [
       "<div>\n",
       "<style scoped>\n",
       "    .dataframe tbody tr th:only-of-type {\n",
       "        vertical-align: middle;\n",
       "    }\n",
       "\n",
       "    .dataframe tbody tr th {\n",
       "        vertical-align: top;\n",
       "    }\n",
       "\n",
       "    .dataframe thead th {\n",
       "        text-align: right;\n",
       "    }\n",
       "</style>\n",
       "<table border=\"1\" class=\"dataframe\">\n",
       "  <thead>\n",
       "    <tr style=\"text-align: right;\">\n",
       "      <th></th>\n",
       "      <th>salt</th>\n",
       "      <th>pepper</th>\n",
       "      <th>oregano</th>\n",
       "      <th>parsly</th>\n",
       "      <th>basil</th>\n",
       "      <th>ginger</th>\n",
       "      <th>turmeric</th>\n",
       "      <th>cumin</th>\n",
       "      <th>cinnamon</th>\n",
       "    </tr>\n",
       "  </thead>\n",
       "  <tbody>\n",
       "    <tr>\n",
       "      <th>0</th>\n",
       "      <td>False</td>\n",
       "      <td>False</td>\n",
       "      <td>False</td>\n",
       "      <td>False</td>\n",
       "      <td>False</td>\n",
       "      <td>False</td>\n",
       "      <td>False</td>\n",
       "      <td>False</td>\n",
       "      <td>False</td>\n",
       "    </tr>\n",
       "    <tr>\n",
       "      <th>1</th>\n",
       "      <td>False</td>\n",
       "      <td>False</td>\n",
       "      <td>False</td>\n",
       "      <td>False</td>\n",
       "      <td>False</td>\n",
       "      <td>False</td>\n",
       "      <td>False</td>\n",
       "      <td>False</td>\n",
       "      <td>False</td>\n",
       "    </tr>\n",
       "    <tr>\n",
       "      <th>2</th>\n",
       "      <td>False</td>\n",
       "      <td>False</td>\n",
       "      <td>False</td>\n",
       "      <td>False</td>\n",
       "      <td>False</td>\n",
       "      <td>False</td>\n",
       "      <td>False</td>\n",
       "      <td>False</td>\n",
       "      <td>False</td>\n",
       "    </tr>\n",
       "    <tr>\n",
       "      <th>3</th>\n",
       "      <td>False</td>\n",
       "      <td>False</td>\n",
       "      <td>False</td>\n",
       "      <td>False</td>\n",
       "      <td>False</td>\n",
       "      <td>False</td>\n",
       "      <td>False</td>\n",
       "      <td>False</td>\n",
       "      <td>False</td>\n",
       "    </tr>\n",
       "    <tr>\n",
       "      <th>4</th>\n",
       "      <td>False</td>\n",
       "      <td>False</td>\n",
       "      <td>False</td>\n",
       "      <td>False</td>\n",
       "      <td>False</td>\n",
       "      <td>False</td>\n",
       "      <td>False</td>\n",
       "      <td>False</td>\n",
       "      <td>False</td>\n",
       "    </tr>\n",
       "    <tr>\n",
       "      <th>...</th>\n",
       "      <td>...</td>\n",
       "      <td>...</td>\n",
       "      <td>...</td>\n",
       "      <td>...</td>\n",
       "      <td>...</td>\n",
       "      <td>...</td>\n",
       "      <td>...</td>\n",
       "      <td>...</td>\n",
       "      <td>...</td>\n",
       "    </tr>\n",
       "    <tr>\n",
       "      <th>1037</th>\n",
       "      <td>True</td>\n",
       "      <td>False</td>\n",
       "      <td>False</td>\n",
       "      <td>False</td>\n",
       "      <td>False</td>\n",
       "      <td>False</td>\n",
       "      <td>False</td>\n",
       "      <td>False</td>\n",
       "      <td>False</td>\n",
       "    </tr>\n",
       "    <tr>\n",
       "      <th>1038</th>\n",
       "      <td>True</td>\n",
       "      <td>False</td>\n",
       "      <td>False</td>\n",
       "      <td>False</td>\n",
       "      <td>False</td>\n",
       "      <td>False</td>\n",
       "      <td>False</td>\n",
       "      <td>False</td>\n",
       "      <td>False</td>\n",
       "    </tr>\n",
       "    <tr>\n",
       "      <th>1039</th>\n",
       "      <td>False</td>\n",
       "      <td>True</td>\n",
       "      <td>False</td>\n",
       "      <td>False</td>\n",
       "      <td>False</td>\n",
       "      <td>False</td>\n",
       "      <td>False</td>\n",
       "      <td>False</td>\n",
       "      <td>False</td>\n",
       "    </tr>\n",
       "    <tr>\n",
       "      <th>1040</th>\n",
       "      <td>True</td>\n",
       "      <td>False</td>\n",
       "      <td>False</td>\n",
       "      <td>False</td>\n",
       "      <td>False</td>\n",
       "      <td>False</td>\n",
       "      <td>False</td>\n",
       "      <td>False</td>\n",
       "      <td>False</td>\n",
       "    </tr>\n",
       "    <tr>\n",
       "      <th>1041</th>\n",
       "      <td>True</td>\n",
       "      <td>True</td>\n",
       "      <td>False</td>\n",
       "      <td>False</td>\n",
       "      <td>False</td>\n",
       "      <td>False</td>\n",
       "      <td>False</td>\n",
       "      <td>False</td>\n",
       "      <td>False</td>\n",
       "    </tr>\n",
       "  </tbody>\n",
       "</table>\n",
       "<p>1042 rows × 9 columns</p>\n",
       "</div>"
      ],
      "text/plain": [
       "       salt  pepper  oregano  parsly  basil  ginger  turmeric  cumin  cinnamon\n",
       "0     False   False    False   False  False   False     False  False     False\n",
       "1     False   False    False   False  False   False     False  False     False\n",
       "2     False   False    False   False  False   False     False  False     False\n",
       "3     False   False    False   False  False   False     False  False     False\n",
       "4     False   False    False   False  False   False     False  False     False\n",
       "...     ...     ...      ...     ...    ...     ...       ...    ...       ...\n",
       "1037   True   False    False   False  False   False     False  False     False\n",
       "1038   True   False    False   False  False   False     False  False     False\n",
       "1039  False    True    False   False  False   False     False  False     False\n",
       "1040   True   False    False   False  False   False     False  False     False\n",
       "1041   True    True    False   False  False   False     False  False     False\n",
       "\n",
       "[1042 rows x 9 columns]"
      ]
     },
     "execution_count": 88,
     "metadata": {},
     "output_type": "execute_result"
    }
   ],
   "source": [
    "spice_list = ['salt', 'pepper', 'oregano', 'parsly','basil', 'ginger', 'turmeric', 'cumin', 'cinnamon']\n",
    "spice_df = pd.DataFrame(dict((spice,df.ingredients.str.contains(spice, re.IGNORECASE)) for spice in spice_list))\n",
    "spice_df"
   ]
  },
  {
   "cell_type": "code",
   "execution_count": 91,
   "metadata": {},
   "outputs": [
    {
     "data": {
      "text/html": [
       "<div>\n",
       "<style scoped>\n",
       "    .dataframe tbody tr th:only-of-type {\n",
       "        vertical-align: middle;\n",
       "    }\n",
       "\n",
       "    .dataframe tbody tr th {\n",
       "        vertical-align: top;\n",
       "    }\n",
       "\n",
       "    .dataframe thead th {\n",
       "        text-align: right;\n",
       "    }\n",
       "</style>\n",
       "<table border=\"1\" class=\"dataframe\">\n",
       "  <thead>\n",
       "    <tr style=\"text-align: right;\">\n",
       "      <th></th>\n",
       "      <th>salt</th>\n",
       "      <th>pepper</th>\n",
       "      <th>oregano</th>\n",
       "      <th>parsly</th>\n",
       "      <th>basil</th>\n",
       "      <th>ginger</th>\n",
       "      <th>turmeric</th>\n",
       "      <th>cumin</th>\n",
       "      <th>cinnamon</th>\n",
       "    </tr>\n",
       "  </thead>\n",
       "  <tbody>\n",
       "    <tr>\n",
       "      <th>641</th>\n",
       "      <td>True</td>\n",
       "      <td>True</td>\n",
       "      <td>False</td>\n",
       "      <td>False</td>\n",
       "      <td>True</td>\n",
       "      <td>False</td>\n",
       "      <td>True</td>\n",
       "      <td>True</td>\n",
       "      <td>False</td>\n",
       "    </tr>\n",
       "    <tr>\n",
       "      <th>784</th>\n",
       "      <td>False</td>\n",
       "      <td>True</td>\n",
       "      <td>False</td>\n",
       "      <td>False</td>\n",
       "      <td>True</td>\n",
       "      <td>True</td>\n",
       "      <td>True</td>\n",
       "      <td>True</td>\n",
       "      <td>False</td>\n",
       "    </tr>\n",
       "  </tbody>\n",
       "</table>\n",
       "</div>"
      ],
      "text/plain": [
       "      salt  pepper  oregano  parsly  basil  ginger  turmeric  cumin  cinnamon\n",
       "641   True    True    False   False   True   False      True   True     False\n",
       "784  False    True    False   False   True    True      True   True     False"
      ]
     },
     "execution_count": 91,
     "metadata": {},
     "output_type": "execute_result"
    }
   ],
   "source": [
    "# Recipes with a combination of turmeric and basil\n",
    "selection = spice_df.query('turmeric & basil')\n",
    "selection"
   ]
  },
  {
   "cell_type": "code",
   "execution_count": 92,
   "metadata": {},
   "outputs": [
    {
     "data": {
      "text/plain": [
       "641    Sesame Yogurt Pasta Salad\n",
       "784            Green Curry Broth\n",
       "Name: name, dtype: object"
      ]
     },
     "execution_count": 92,
     "metadata": {},
     "output_type": "execute_result"
    }
   ],
   "source": [
    "df['name'][selection.index]"
   ]
  },
  {
   "cell_type": "code",
   "execution_count": null,
   "metadata": {},
   "outputs": [],
   "source": []
  }
 ],
 "metadata": {
  "kernelspec": {
   "display_name": "Python 3.10.5 64-bit",
   "language": "python",
   "name": "python3"
  },
  "language_info": {
   "codemirror_mode": {
    "name": "ipython",
    "version": 3
   },
   "file_extension": ".py",
   "mimetype": "text/x-python",
   "name": "python",
   "nbconvert_exporter": "python",
   "pygments_lexer": "ipython3",
   "version": "3.10.5"
  },
  "orig_nbformat": 4,
  "vscode": {
   "interpreter": {
    "hash": "e7370f93d1d0cde622a1f8e1c04877d8463912d04d973331ad4851f04de6915a"
   }
  }
 },
 "nbformat": 4,
 "nbformat_minor": 2
}
