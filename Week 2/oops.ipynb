{
 "cells": [
  {
   "cell_type": "code",
   "execution_count": 18,
   "metadata": {},
   "outputs": [
    {
     "name": "stdout",
     "output_type": "stream",
     "text": [
      "Hi, My name is ashwin and i am from India\n",
      "Hi, My name is Avyay and i am from Bengaluru\n",
      "Am i an Employee? Answer: True\n",
      "Am i an Employee? Answer: True\n",
      "Avyay ----> Managed by ----> Vivek\n",
      "John ----> Managed by ----> Vivek\n",
      "New employee added to the list\n",
      "Avyay ----> Managed by ----> Vivek\n",
      "John ----> Managed by ----> Vivek\n",
      "Aditya ----> Managed by ----> Vivek\n"
     ]
    }
   ],
   "source": [
    "#Inheritence\n",
    "class person:\n",
    "    def __init__(self,name,age,location):\n",
    "        self.name = name\n",
    "        self.location = location\n",
    "    \n",
    "    def info(self):\n",
    "        print(f\"Hi, My name is {self.name} and i am from {self.location}\")\n",
    "\n",
    "class employee(person):\n",
    "\n",
    "    def __init__(self,name,age,location, is_emp = False):\n",
    "        super().__init__(name,age,location)\n",
    "        self.is_emp = True\n",
    "    \n",
    "    def info(self):\n",
    "        print(f\"Hi, My name is {self.name} and i am from {self.location}\")\n",
    "\n",
    "    def status(self):\n",
    "        return f\"Am i an Employee? Answer: {self.is_emp}\"\n",
    "\n",
    "class manager(employee):\n",
    "\n",
    "    def __init__(self,name,age,location, list_emps=[], is_emp = True):\n",
    "        super().__init__(name,age,location, is_emp)\n",
    "        self.list_emps = list_emps\n",
    "\n",
    "    def info(self):\n",
    "        for emp in self.list_emps:\n",
    "            print(emp.name,'----> Managed by ---->', self.name)\n",
    "    \n",
    "    def add_employee(self, emp):\n",
    "        self.list_emps.append(emp)\n",
    "        print('New employee added to the list')\n",
    "\n",
    "if __name__==\"__main__\":\n",
    "    ashwin = person('ashwin', 100, 'India')\n",
    "    avyay = employee('Avyay',20,'Bengaluru')\n",
    "    john = employee('John', 23, 'Russia')\n",
    "    ashwin.info()\n",
    "    avyay.info()\n",
    "    print(avyay.status())\n",
    "    vivek = manager('Vivek', 300, 'UK',[avyay, john])\n",
    "    print(vivek.status())\n",
    "    vivek.info()\n",
    "    aditya = employee(\"Aditya\", 99, \"Japan\")\n",
    "    vivek.add_employee(aditya)\n",
    "    vivek.info()\n"
   ]
  },
  {
   "cell_type": "code",
   "execution_count": 25,
   "metadata": {},
   "outputs": [
    {
     "name": "stdout",
     "output_type": "stream",
     "text": [
      "Sensor\n",
      "Blr\n",
      "The version of sensor 1.0\n",
      "The version of sensor 2.0\n"
     ]
    }
   ],
   "source": [
    "#Encapsulation\n",
    "class sensor:\n",
    "    def __init__(self, name, location):\n",
    "        self.name = name\n",
    "        self._location = location\n",
    "        self.__version = '1.0'\n",
    "\n",
    "    def get_version(self):\n",
    "        print(f\"The version of sensor {self.__version}\")\n",
    "        \n",
    "    def set_version(self, version):\n",
    "        self.__version = version\n",
    "        \n",
    "\n",
    "if __name__ == \"__main__\":\n",
    "\n",
    "    sensor_1 = sensor('Sensor', 'Blr')\n",
    "    print(sensor_1.name)\n",
    "    print(sensor_1._location)\n",
    "#    print(sensor_1.__version)\n",
    "    sensor_1.get_version()\n",
    "    sensor_1.set_version('2.0')\n",
    "    sensor_1.get_version()   \n",
    "\n",
    "\n",
    "\n"
   ]
  },
  {
   "cell_type": "code",
   "execution_count": 29,
   "metadata": {},
   "outputs": [
    {
     "name": "stdout",
     "output_type": "stream",
     "text": [
      "I am a gas. My price is 100 and am measured in cm cube\n",
      "psssssssss\n",
      "I am a water. My price is 50 and am measured in liters\n",
      "wooooosh\n"
     ]
    }
   ],
   "source": [
    "#Polymorphism\n",
    "class gas:\n",
    "    def __init__(self,price,unit):\n",
    "        self.price = price\n",
    "        self.unit = unit\n",
    "\n",
    "    def info(self):\n",
    "        print(f\"I am a gas. My price is {self.price} and am measured in {self.unit}\")\n",
    "\n",
    "    def sound(self):\n",
    "        print(\"psssssssss\")\n",
    "\n",
    "class water:\n",
    "    def __init__(self,price,unit):\n",
    "        self.price = price\n",
    "        self.unit = unit\n",
    "\n",
    "    def info(self):\n",
    "        print(f\"I am a water. My price is {self.price} and am measured in {self.unit}\")\n",
    "\n",
    "    def sound(self):\n",
    "        print(\"wooooosh\")\n",
    "\n",
    "if __name__ == \"__main__\":\n",
    "    g = gas(100,'cm cube')\n",
    "    w = water(50, 'liters')\n",
    "\n",
    "    for obj in (g,w):\n",
    "        obj.info()\n",
    "        obj.sound()\n",
    "\n",
    "\n"
   ]
  },
  {
   "cell_type": "code",
   "execution_count": null,
   "metadata": {},
   "outputs": [],
   "source": []
  }
 ],
 "metadata": {
  "kernelspec": {
   "display_name": "Python 3.10.5 64-bit",
   "language": "python",
   "name": "python3"
  },
  "language_info": {
   "codemirror_mode": {
    "name": "ipython",
    "version": 3
   },
   "file_extension": ".py",
   "mimetype": "text/x-python",
   "name": "python",
   "nbconvert_exporter": "python",
   "pygments_lexer": "ipython3",
   "version": "3.10.5"
  },
  "orig_nbformat": 4,
  "vscode": {
   "interpreter": {
    "hash": "e7370f93d1d0cde622a1f8e1c04877d8463912d04d973331ad4851f04de6915a"
   }
  }
 },
 "nbformat": 4,
 "nbformat_minor": 2
}
