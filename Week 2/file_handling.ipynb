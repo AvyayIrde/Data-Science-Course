{
 "cells": [
  {
   "cell_type": "code",
   "execution_count": 9,
   "metadata": {},
   "outputs": [
    {
     "name": "stdout",
     "output_type": "stream",
     "text": [
      "Hello, Good Morning!\n",
      "We are learning git anf python file handling!!\n"
     ]
    }
   ],
   "source": [
    "def create():\n",
    "    open('files/test.md','x')\n",
    "    return\n",
    "\n",
    "def add_content(string = 'Hello, Good Morning!'):\n",
    "    x = open('files/test.md','w')\n",
    "    x.write(string)\n",
    "    x.close()\n",
    "\n",
    "def append_content(string = \"\\nWe are learning git anf python file handling!!\"):\n",
    "    x = open('files/test.md','a')\n",
    "    x.write(string)\n",
    "    x.close()\n",
    "\n",
    "def read_content():\n",
    "    x = open('files/test.md','r')\n",
    "    print(x.read())\n",
    "\n",
    "if __name__ == '__main__':\n",
    "#    create()\n",
    "#    add_content()\n",
    "#    append_content()\n",
    "    read_content()\n",
    "\n"
   ]
  },
  {
   "cell_type": "code",
   "execution_count": null,
   "metadata": {},
   "outputs": [],
   "source": [
    "Conflict A"
   ]
  },
  {
   "cell_type": "markdown",
   "metadata": {},
   "source": [
    "This should work now"
   ]
  },
  {
   "cell_type": "markdown",
   "metadata": {},
   "source": []
  },
  {
   "cell_type": "markdown",
   "metadata": {},
   "source": [
    "now lets break stuff"
   ]
  }
 ],
 "metadata": {
  "kernelspec": {
   "display_name": "Python 3.10.5 64-bit",
   "language": "python",
   "name": "python3"
  },
  "language_info": {
   "codemirror_mode": {
    "name": "ipython",
    "version": 3
   },
   "file_extension": ".py",
   "mimetype": "text/x-python",
   "name": "python",
   "nbconvert_exporter": "python",
   "pygments_lexer": "ipython3",
   "version": "3.10.5"
  },
  "orig_nbformat": 4,
  "vscode": {
   "interpreter": {
    "hash": "e7370f93d1d0cde622a1f8e1c04877d8463912d04d973331ad4851f04de6915a"
   }
  }
 },
 "nbformat": 4,
 "nbformat_minor": 2
}
