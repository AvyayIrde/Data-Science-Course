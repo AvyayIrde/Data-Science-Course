{
 "cells": [
  {
   "cell_type": "code",
   "execution_count": 9,
   "metadata": {},
   "outputs": [
    {
     "name": "stdout",
     "output_type": "stream",
     "text": [
      "Hello, Good Morning!\n",
      "We are learning git anf python file handling!!\n"
     ]
    }
   ],
   "source": [
    "def create_file():\n",
    "    open('files/test.md','x')\n",
    "    return\n",
    "\n",
    "def add_content(string = 'Hello, Good Morning!'):\n",
    "    x = open('files/test.md','w')\n",
    "    x.write(string)\n",
    "    x.close()\n",
    "\n",
    "def append_content(string = \"\\nWe are learning git anf python file handling!!\"):\n",
    "    x = open('files/test.md','a')\n",
    "    x.write(string)\n",
    "    x.close()\n",
    "\n",
    "def read_content():\n",
    "    x = open('files/test.md','r')\n",
    "    print(x.read())\n",
    "\n",
    "\n",
    "\n",
    "if __name__ == '__main__':\n",
    "#    create()\n",
    "#    add_content()\n",
    "#    append_content()\n",
    "    read_content()\n",
    "\n",
    "\n",
    "\n"
   ]
  },
  {
   "cell_type": "code",
   "execution_count": 6,
   "metadata": {},
   "outputs": [],
   "source": [
    "def using_print():\n",
    "    x = open('files/test.md','a')\n",
    "    print('New line', file =x)\n",
    "    print('This sould be another line.', file = x)\n",
    "    print ('Lets stop typing', file = x)\n",
    "    x.close()\n",
    "    return\n",
    "\n",
    "def pdf_func():\n",
    "    x=open('files/test.pdf', 'a')\n",
    "    x.write('This is a new pdf bro')\n",
    "    x.write('\\nPDF in python damnnn')  \n",
    "    return\n",
    "\n",
    "def read_pdf():\n",
    "    x = open('files/test.pdf','r')\n",
    "    print(x.read())\n",
    "    return\n",
    "\n",
    "def docs():\n",
    "    from docx import Document\n",
    "    doc = Document()\n",
    "    doc.add_heading(\"Good Morning\", level = 1)\n",
    "    doc.add_paragraph(\"this is a docx again wow\")\n",
    "    doc.add_page_break()\n",
    "    doc.save('files/test.docx')\n",
    "    return\n",
    "\n",
    "if __name__ == \"__main__\":\n",
    "#    using_print()\n",
    "#   pdf_func()\n",
    "#    read_pdf()\n",
    "    docs()"
   ]
  },
  {
   "cell_type": "markdown",
   "metadata": {},
   "source": [
    "# PANDAS"
   ]
  },
  {
   "cell_type": "code",
   "execution_count": 29,
   "metadata": {},
   "outputs": [],
   "source": [
    "#using pandas to open excel and csvs\n",
    "import pandas as pd\n",
    "\n",
    "#print(dir(pd))\n",
    "\n",
    "df_sheet1 = pd.read_excel('/home/avyay/OneDrive/Documents/Data-Science-Course/Week 2/data/Data1 Coupled Pendulum.xlsx',sheet_name = 0)\n",
    "\n",
    "df_sheet2 = pd.read_excel('/home/avyay/OneDrive/Documents/Data-Science-Course/Week 2/data/Data1 Coupled Pendulum.xlsx',sheet_name = 1)\n",
    "\n",
    "df = pd.concat([df_sheet1, df_sheet2])"
   ]
  },
  {
   "cell_type": "code",
   "execution_count": 30,
   "metadata": {},
   "outputs": [
    {
     "data": {
      "text/html": [
       "<div>\n",
       "<style scoped>\n",
       "    .dataframe tbody tr th:only-of-type {\n",
       "        vertical-align: middle;\n",
       "    }\n",
       "\n",
       "    .dataframe tbody tr th {\n",
       "        vertical-align: top;\n",
       "    }\n",
       "\n",
       "    .dataframe thead th {\n",
       "        text-align: right;\n",
       "    }\n",
       "</style>\n",
       "<table border=\"1\" class=\"dataframe\">\n",
       "  <thead>\n",
       "    <tr style=\"text-align: right;\">\n",
       "      <th></th>\n",
       "      <th>t</th>\n",
       "      <th>x</th>\n",
       "      <th>Unnamed: 2</th>\n",
       "      <th>t.1</th>\n",
       "      <th>x.1</th>\n",
       "    </tr>\n",
       "  </thead>\n",
       "  <tbody>\n",
       "    <tr>\n",
       "      <th>0</th>\n",
       "      <td>0.000000</td>\n",
       "      <td>0.090312</td>\n",
       "      <td>NaN</td>\n",
       "      <td>0.000000</td>\n",
       "      <td>0.297208</td>\n",
       "    </tr>\n",
       "    <tr>\n",
       "      <th>1</th>\n",
       "      <td>0.034033</td>\n",
       "      <td>0.090312</td>\n",
       "      <td>NaN</td>\n",
       "      <td>0.034033</td>\n",
       "      <td>0.296060</td>\n",
       "    </tr>\n",
       "    <tr>\n",
       "      <th>2</th>\n",
       "      <td>0.067344</td>\n",
       "      <td>0.102026</td>\n",
       "      <td>NaN</td>\n",
       "      <td>0.067344</td>\n",
       "      <td>0.294879</td>\n",
       "    </tr>\n",
       "    <tr>\n",
       "      <th>3</th>\n",
       "      <td>0.100656</td>\n",
       "      <td>0.108727</td>\n",
       "      <td>NaN</td>\n",
       "      <td>0.100656</td>\n",
       "      <td>0.293821</td>\n",
       "    </tr>\n",
       "    <tr>\n",
       "      <th>4</th>\n",
       "      <td>0.133967</td>\n",
       "      <td>0.115337</td>\n",
       "      <td>NaN</td>\n",
       "      <td>0.133967</td>\n",
       "      <td>0.293229</td>\n",
       "    </tr>\n",
       "    <tr>\n",
       "      <th>...</th>\n",
       "      <td>...</td>\n",
       "      <td>...</td>\n",
       "      <td>...</td>\n",
       "      <td>...</td>\n",
       "      <td>...</td>\n",
       "    </tr>\n",
       "    <tr>\n",
       "      <th>2074</th>\n",
       "      <td>69.082022</td>\n",
       "      <td>0.099990</td>\n",
       "      <td>NaN</td>\n",
       "      <td>69.082022</td>\n",
       "      <td>0.333579</td>\n",
       "    </tr>\n",
       "    <tr>\n",
       "      <th>2075</th>\n",
       "      <td>69.115233</td>\n",
       "      <td>0.098608</td>\n",
       "      <td>NaN</td>\n",
       "      <td>69.115233</td>\n",
       "      <td>0.336224</td>\n",
       "    </tr>\n",
       "    <tr>\n",
       "      <th>2076</th>\n",
       "      <td>69.148644</td>\n",
       "      <td>0.097604</td>\n",
       "      <td>NaN</td>\n",
       "      <td>69.148644</td>\n",
       "      <td>0.339041</td>\n",
       "    </tr>\n",
       "    <tr>\n",
       "      <th>2077</th>\n",
       "      <td>69.181867</td>\n",
       "      <td>0.097607</td>\n",
       "      <td>NaN</td>\n",
       "      <td>69.181867</td>\n",
       "      <td>0.343097</td>\n",
       "    </tr>\n",
       "    <tr>\n",
       "      <th>2078</th>\n",
       "      <td>69.215089</td>\n",
       "      <td>0.098721</td>\n",
       "      <td>NaN</td>\n",
       "      <td>69.215089</td>\n",
       "      <td>0.349225</td>\n",
       "    </tr>\n",
       "  </tbody>\n",
       "</table>\n",
       "<p>3891 rows × 5 columns</p>\n",
       "</div>"
      ],
      "text/plain": [
       "              t         x  Unnamed: 2        t.1       x.1\n",
       "0      0.000000  0.090312         NaN   0.000000  0.297208\n",
       "1      0.034033  0.090312         NaN   0.034033  0.296060\n",
       "2      0.067344  0.102026         NaN   0.067344  0.294879\n",
       "3      0.100656  0.108727         NaN   0.100656  0.293821\n",
       "4      0.133967  0.115337         NaN   0.133967  0.293229\n",
       "...         ...       ...         ...        ...       ...\n",
       "2074  69.082022  0.099990         NaN  69.082022  0.333579\n",
       "2075  69.115233  0.098608         NaN  69.115233  0.336224\n",
       "2076  69.148644  0.097604         NaN  69.148644  0.339041\n",
       "2077  69.181867  0.097607         NaN  69.181867  0.343097\n",
       "2078  69.215089  0.098721         NaN  69.215089  0.349225\n",
       "\n",
       "[3891 rows x 5 columns]"
      ]
     },
     "execution_count": 30,
     "metadata": {},
     "output_type": "execute_result"
    }
   ],
   "source": [
    "df"
   ]
  },
  {
   "cell_type": "code",
   "execution_count": 31,
   "metadata": {},
   "outputs": [
    {
     "data": {
      "text/plain": [
       "3891"
      ]
     },
     "execution_count": 31,
     "metadata": {},
     "output_type": "execute_result"
    }
   ],
   "source": [
    "df.shape # rows x columns\n",
    "len(df)"
   ]
  },
  {
   "cell_type": "code",
   "execution_count": 24,
   "metadata": {},
   "outputs": [
    {
     "data": {
      "text/plain": [
       "3893"
      ]
     },
     "execution_count": 24,
     "metadata": {},
     "output_type": "execute_result"
    }
   ],
   "source": [
    "len(df)"
   ]
  },
  {
   "cell_type": "code",
   "execution_count": 25,
   "metadata": {},
   "outputs": [
    {
     "data": {
      "text/plain": [
       "19465"
      ]
     },
     "execution_count": 25,
     "metadata": {},
     "output_type": "execute_result"
    }
   ],
   "source": [
    "df.size #rotal number of dataa points in df"
   ]
  },
  {
   "cell_type": "code",
   "execution_count": 32,
   "metadata": {},
   "outputs": [
    {
     "data": {
      "text/plain": [
       "Index(['t', 'x', 'Unnamed: 2', 't.1', 'x.1'], dtype='object')"
      ]
     },
     "execution_count": 32,
     "metadata": {},
     "output_type": "execute_result"
    }
   ],
   "source": [
    "df.columns"
   ]
  },
  {
   "cell_type": "code",
   "execution_count": 33,
   "metadata": {},
   "outputs": [
    {
     "name": "stdout",
     "output_type": "stream",
     "text": [
      "<class 'pandas.core.frame.DataFrame'>\n",
      "Int64Index: 3891 entries, 0 to 2078\n",
      "Data columns (total 5 columns):\n",
      " #   Column      Non-Null Count  Dtype  \n",
      "---  ------      --------------  -----  \n",
      " 0   t           3891 non-null   float64\n",
      " 1   x           3891 non-null   float64\n",
      " 2   Unnamed: 2  0 non-null      float64\n",
      " 3   t.1         3891 non-null   float64\n",
      " 4   x.1         3891 non-null   float64\n",
      "dtypes: float64(5)\n",
      "memory usage: 182.4 KB\n"
     ]
    }
   ],
   "source": [
    "df.info()"
   ]
  },
  {
   "cell_type": "code",
   "execution_count": 35,
   "metadata": {},
   "outputs": [
    {
     "data": {
      "text/html": [
       "<div>\n",
       "<style scoped>\n",
       "    .dataframe tbody tr th:only-of-type {\n",
       "        vertical-align: middle;\n",
       "    }\n",
       "\n",
       "    .dataframe tbody tr th {\n",
       "        vertical-align: top;\n",
       "    }\n",
       "\n",
       "    .dataframe thead th {\n",
       "        text-align: right;\n",
       "    }\n",
       "</style>\n",
       "<table border=\"1\" class=\"dataframe\">\n",
       "  <thead>\n",
       "    <tr style=\"text-align: right;\">\n",
       "      <th></th>\n",
       "      <th>t</th>\n",
       "      <th>x</th>\n",
       "      <th>Unnamed: 2</th>\n",
       "      <th>t.1</th>\n",
       "      <th>x.1</th>\n",
       "    </tr>\n",
       "  </thead>\n",
       "  <tbody>\n",
       "    <tr>\n",
       "      <th>count</th>\n",
       "      <td>3891.000000</td>\n",
       "      <td>3891.000000</td>\n",
       "      <td>0.0</td>\n",
       "      <td>3891.000000</td>\n",
       "      <td>3891.000000</td>\n",
       "    </tr>\n",
       "    <tr>\n",
       "      <th>mean</th>\n",
       "      <td>32.537201</td>\n",
       "      <td>0.134610</td>\n",
       "      <td>NaN</td>\n",
       "      <td>32.537201</td>\n",
       "      <td>0.351498</td>\n",
       "    </tr>\n",
       "    <tr>\n",
       "      <th>std</th>\n",
       "      <td>18.970639</td>\n",
       "      <td>0.037614</td>\n",
       "      <td>NaN</td>\n",
       "      <td>18.970639</td>\n",
       "      <td>0.055115</td>\n",
       "    </tr>\n",
       "    <tr>\n",
       "      <th>min</th>\n",
       "      <td>0.000000</td>\n",
       "      <td>0.027026</td>\n",
       "      <td>NaN</td>\n",
       "      <td>0.000000</td>\n",
       "      <td>0.265387</td>\n",
       "    </tr>\n",
       "    <tr>\n",
       "      <th>25%</th>\n",
       "      <td>16.188656</td>\n",
       "      <td>0.109624</td>\n",
       "      <td>NaN</td>\n",
       "      <td>16.188656</td>\n",
       "      <td>0.308156</td>\n",
       "    </tr>\n",
       "    <tr>\n",
       "      <th>50%</th>\n",
       "      <td>32.376522</td>\n",
       "      <td>0.128382</td>\n",
       "      <td>NaN</td>\n",
       "      <td>32.376522</td>\n",
       "      <td>0.331390</td>\n",
       "    </tr>\n",
       "    <tr>\n",
       "      <th>75%</th>\n",
       "      <td>48.580617</td>\n",
       "      <td>0.153871</td>\n",
       "      <td>NaN</td>\n",
       "      <td>48.580617</td>\n",
       "      <td>0.394242</td>\n",
       "    </tr>\n",
       "    <tr>\n",
       "      <th>max</th>\n",
       "      <td>69.215089</td>\n",
       "      <td>0.251980</td>\n",
       "      <td>NaN</td>\n",
       "      <td>69.215089</td>\n",
       "      <td>0.502478</td>\n",
       "    </tr>\n",
       "  </tbody>\n",
       "</table>\n",
       "</div>"
      ],
      "text/plain": [
       "                 t            x  Unnamed: 2          t.1          x.1\n",
       "count  3891.000000  3891.000000         0.0  3891.000000  3891.000000\n",
       "mean     32.537201     0.134610         NaN    32.537201     0.351498\n",
       "std      18.970639     0.037614         NaN    18.970639     0.055115\n",
       "min       0.000000     0.027026         NaN     0.000000     0.265387\n",
       "25%      16.188656     0.109624         NaN    16.188656     0.308156\n",
       "50%      32.376522     0.128382         NaN    32.376522     0.331390\n",
       "75%      48.580617     0.153871         NaN    48.580617     0.394242\n",
       "max      69.215089     0.251980         NaN    69.215089     0.502478"
      ]
     },
     "execution_count": 35,
     "metadata": {},
     "output_type": "execute_result"
    }
   ],
   "source": [
    "df.describe(include = 'all')"
   ]
  },
  {
   "cell_type": "code",
   "execution_count": 39,
   "metadata": {},
   "outputs": [
    {
     "data": {
      "text/plain": [
       "t                0\n",
       "x                0\n",
       "Unnamed: 2    3891\n",
       "t.1              0\n",
       "x.1              0\n",
       "dtype: int64"
      ]
     },
     "execution_count": 39,
     "metadata": {},
     "output_type": "execute_result"
    }
   ],
   "source": [
    "df.isnull().any()\n",
    "df.isnull().sum() # returns number of nulls\n"
   ]
  },
  {
   "cell_type": "code",
   "execution_count": 44,
   "metadata": {},
   "outputs": [
    {
     "data": {
      "text/html": [
       "<div>\n",
       "<style scoped>\n",
       "    .dataframe tbody tr th:only-of-type {\n",
       "        vertical-align: middle;\n",
       "    }\n",
       "\n",
       "    .dataframe tbody tr th {\n",
       "        vertical-align: top;\n",
       "    }\n",
       "\n",
       "    .dataframe thead th {\n",
       "        text-align: right;\n",
       "    }\n",
       "</style>\n",
       "<table border=\"1\" class=\"dataframe\">\n",
       "  <thead>\n",
       "    <tr style=\"text-align: right;\">\n",
       "      <th></th>\n",
       "      <th>t</th>\n",
       "      <th>x</th>\n",
       "      <th>Unnamed: 2</th>\n",
       "      <th>t.1</th>\n",
       "      <th>x.1</th>\n",
       "    </tr>\n",
       "  </thead>\n",
       "  <tbody>\n",
       "    <tr>\n",
       "      <th>2074</th>\n",
       "      <td>69.082022</td>\n",
       "      <td>0.099990</td>\n",
       "      <td>NaN</td>\n",
       "      <td>69.082022</td>\n",
       "      <td>0.333579</td>\n",
       "    </tr>\n",
       "    <tr>\n",
       "      <th>2075</th>\n",
       "      <td>69.115233</td>\n",
       "      <td>0.098608</td>\n",
       "      <td>NaN</td>\n",
       "      <td>69.115233</td>\n",
       "      <td>0.336224</td>\n",
       "    </tr>\n",
       "    <tr>\n",
       "      <th>2076</th>\n",
       "      <td>69.148644</td>\n",
       "      <td>0.097604</td>\n",
       "      <td>NaN</td>\n",
       "      <td>69.148644</td>\n",
       "      <td>0.339041</td>\n",
       "    </tr>\n",
       "    <tr>\n",
       "      <th>2077</th>\n",
       "      <td>69.181867</td>\n",
       "      <td>0.097607</td>\n",
       "      <td>NaN</td>\n",
       "      <td>69.181867</td>\n",
       "      <td>0.343097</td>\n",
       "    </tr>\n",
       "    <tr>\n",
       "      <th>2078</th>\n",
       "      <td>69.215089</td>\n",
       "      <td>0.098721</td>\n",
       "      <td>NaN</td>\n",
       "      <td>69.215089</td>\n",
       "      <td>0.349225</td>\n",
       "    </tr>\n",
       "  </tbody>\n",
       "</table>\n",
       "</div>"
      ],
      "text/plain": [
       "              t         x  Unnamed: 2        t.1       x.1\n",
       "2074  69.082022  0.099990         NaN  69.082022  0.333579\n",
       "2075  69.115233  0.098608         NaN  69.115233  0.336224\n",
       "2076  69.148644  0.097604         NaN  69.148644  0.339041\n",
       "2077  69.181867  0.097607         NaN  69.181867  0.343097\n",
       "2078  69.215089  0.098721         NaN  69.215089  0.349225"
      ]
     },
     "execution_count": 44,
     "metadata": {},
     "output_type": "execute_result"
    }
   ],
   "source": [
    "    df.head()\n",
    "    df.tail()"
   ]
  },
  {
   "cell_type": "code",
   "execution_count": 50,
   "metadata": {},
   "outputs": [
    {
     "data": {
      "text/html": [
       "<div>\n",
       "<style scoped>\n",
       "    .dataframe tbody tr th:only-of-type {\n",
       "        vertical-align: middle;\n",
       "    }\n",
       "\n",
       "    .dataframe tbody tr th {\n",
       "        vertical-align: top;\n",
       "    }\n",
       "\n",
       "    .dataframe thead th {\n",
       "        text-align: right;\n",
       "    }\n",
       "</style>\n",
       "<table border=\"1\" class=\"dataframe\">\n",
       "  <thead>\n",
       "    <tr style=\"text-align: right;\">\n",
       "      <th></th>\n",
       "      <th>t</th>\n",
       "      <th>x</th>\n",
       "    </tr>\n",
       "  </thead>\n",
       "  <tbody>\n",
       "    <tr>\n",
       "      <th>0</th>\n",
       "      <td>0.000000</td>\n",
       "      <td>0.090312</td>\n",
       "    </tr>\n",
       "    <tr>\n",
       "      <th>1</th>\n",
       "      <td>0.034033</td>\n",
       "      <td>0.090312</td>\n",
       "    </tr>\n",
       "    <tr>\n",
       "      <th>2</th>\n",
       "      <td>0.067344</td>\n",
       "      <td>0.102026</td>\n",
       "    </tr>\n",
       "    <tr>\n",
       "      <th>3</th>\n",
       "      <td>0.100656</td>\n",
       "      <td>0.108727</td>\n",
       "    </tr>\n",
       "    <tr>\n",
       "      <th>4</th>\n",
       "      <td>0.133967</td>\n",
       "      <td>0.115337</td>\n",
       "    </tr>\n",
       "    <tr>\n",
       "      <th>...</th>\n",
       "      <td>...</td>\n",
       "      <td>...</td>\n",
       "    </tr>\n",
       "    <tr>\n",
       "      <th>2074</th>\n",
       "      <td>69.082022</td>\n",
       "      <td>0.099990</td>\n",
       "    </tr>\n",
       "    <tr>\n",
       "      <th>2075</th>\n",
       "      <td>69.115233</td>\n",
       "      <td>0.098608</td>\n",
       "    </tr>\n",
       "    <tr>\n",
       "      <th>2076</th>\n",
       "      <td>69.148644</td>\n",
       "      <td>0.097604</td>\n",
       "    </tr>\n",
       "    <tr>\n",
       "      <th>2077</th>\n",
       "      <td>69.181867</td>\n",
       "      <td>0.097607</td>\n",
       "    </tr>\n",
       "    <tr>\n",
       "      <th>2078</th>\n",
       "      <td>69.215089</td>\n",
       "      <td>0.098721</td>\n",
       "    </tr>\n",
       "  </tbody>\n",
       "</table>\n",
       "<p>3891 rows × 2 columns</p>\n",
       "</div>"
      ],
      "text/plain": [
       "              t         x\n",
       "0      0.000000  0.090312\n",
       "1      0.034033  0.090312\n",
       "2      0.067344  0.102026\n",
       "3      0.100656  0.108727\n",
       "4      0.133967  0.115337\n",
       "...         ...       ...\n",
       "2074  69.082022  0.099990\n",
       "2075  69.115233  0.098608\n",
       "2076  69.148644  0.097604\n",
       "2077  69.181867  0.097607\n",
       "2078  69.215089  0.098721\n",
       "\n",
       "[3891 rows x 2 columns]"
      ]
     },
     "execution_count": 50,
     "metadata": {},
     "output_type": "execute_result"
    }
   ],
   "source": [
    "df[['t','x']]"
   ]
  },
  {
   "cell_type": "markdown",
   "metadata": {},
   "source": []
  },
  {
   "cell_type": "code",
   "execution_count": 54,
   "metadata": {},
   "outputs": [
    {
     "data": {
      "text/plain": [
       "986    32.842633\n",
       "986    32.842700\n",
       "Name: t, dtype: float64"
      ]
     },
     "execution_count": 54,
     "metadata": {},
     "output_type": "execute_result"
    }
   ],
   "source": [
    "df.loc[986,'t'] #first parameter will be int representing row, second will be str representing colummn"
   ]
  },
  {
   "cell_type": "code",
   "execution_count": 58,
   "metadata": {},
   "outputs": [
    {
     "data": {
      "text/html": [
       "<div>\n",
       "<style scoped>\n",
       "    .dataframe tbody tr th:only-of-type {\n",
       "        vertical-align: middle;\n",
       "    }\n",
       "\n",
       "    .dataframe tbody tr th {\n",
       "        vertical-align: top;\n",
       "    }\n",
       "\n",
       "    .dataframe thead th {\n",
       "        text-align: right;\n",
       "    }\n",
       "</style>\n",
       "<table border=\"1\" class=\"dataframe\">\n",
       "  <thead>\n",
       "    <tr style=\"text-align: right;\">\n",
       "      <th></th>\n",
       "      <th>t</th>\n",
       "      <th>x</th>\n",
       "      <th>Unnamed: 2</th>\n",
       "      <th>t.1</th>\n",
       "      <th>x.1</th>\n",
       "    </tr>\n",
       "  </thead>\n",
       "  <tbody>\n",
       "    <tr>\n",
       "      <th>0</th>\n",
       "      <td>0.000000</td>\n",
       "      <td>0.090312</td>\n",
       "      <td>NaN</td>\n",
       "      <td>0.000000</td>\n",
       "      <td>0.297208</td>\n",
       "    </tr>\n",
       "    <tr>\n",
       "      <th>1</th>\n",
       "      <td>0.034033</td>\n",
       "      <td>0.090312</td>\n",
       "      <td>NaN</td>\n",
       "      <td>0.034033</td>\n",
       "      <td>0.296060</td>\n",
       "    </tr>\n",
       "    <tr>\n",
       "      <th>2</th>\n",
       "      <td>0.067344</td>\n",
       "      <td>0.102026</td>\n",
       "      <td>NaN</td>\n",
       "      <td>0.067344</td>\n",
       "      <td>0.294879</td>\n",
       "    </tr>\n",
       "    <tr>\n",
       "      <th>3</th>\n",
       "      <td>0.100656</td>\n",
       "      <td>0.108727</td>\n",
       "      <td>NaN</td>\n",
       "      <td>0.100656</td>\n",
       "      <td>0.293821</td>\n",
       "    </tr>\n",
       "  </tbody>\n",
       "</table>\n",
       "</div>"
      ],
      "text/plain": [
       "          t         x  Unnamed: 2       t.1       x.1\n",
       "0  0.000000  0.090312         NaN  0.000000  0.297208\n",
       "1  0.034033  0.090312         NaN  0.034033  0.296060\n",
       "2  0.067344  0.102026         NaN  0.067344  0.294879\n",
       "3  0.100656  0.108727         NaN  0.100656  0.293821"
      ]
     },
     "execution_count": 58,
     "metadata": {},
     "output_type": "execute_result"
    }
   ],
   "source": [
    "df[0:4]"
   ]
  },
  {
   "cell_type": "code",
   "execution_count": 63,
   "metadata": {},
   "outputs": [
    {
     "data": {
      "text/plain": [
       "0.0"
      ]
     },
     "execution_count": 63,
     "metadata": {},
     "output_type": "execute_result"
    }
   ],
   "source": [
    "df.iloc[0,0]# rows(indexed as the data) x col(indexed as the data)"
   ]
  },
  {
   "cell_type": "code",
   "execution_count": 76,
   "metadata": {},
   "outputs": [
    {
     "data": {
      "text/html": [
       "<div>\n",
       "<style scoped>\n",
       "    .dataframe tbody tr th:only-of-type {\n",
       "        vertical-align: middle;\n",
       "    }\n",
       "\n",
       "    .dataframe tbody tr th {\n",
       "        vertical-align: top;\n",
       "    }\n",
       "\n",
       "    .dataframe thead th {\n",
       "        text-align: right;\n",
       "    }\n",
       "</style>\n",
       "<table border=\"1\" class=\"dataframe\">\n",
       "  <thead>\n",
       "    <tr style=\"text-align: right;\">\n",
       "      <th></th>\n",
       "      <th>t</th>\n",
       "      <th>x</th>\n",
       "      <th>Unnamed: 2</th>\n",
       "      <th>t.1</th>\n",
       "      <th>x.1</th>\n",
       "    </tr>\n",
       "  </thead>\n",
       "  <tbody>\n",
       "    <tr>\n",
       "      <th>0</th>\n",
       "      <td>0.000000</td>\n",
       "      <td>0.090312</td>\n",
       "      <td>NaN</td>\n",
       "      <td>0.000000</td>\n",
       "      <td>0.297208</td>\n",
       "    </tr>\n",
       "    <tr>\n",
       "      <th>1</th>\n",
       "      <td>0.034033</td>\n",
       "      <td>0.090312</td>\n",
       "      <td>NaN</td>\n",
       "      <td>0.034033</td>\n",
       "      <td>0.296060</td>\n",
       "    </tr>\n",
       "    <tr>\n",
       "      <th>83</th>\n",
       "      <td>2.765400</td>\n",
       "      <td>0.094533</td>\n",
       "      <td>NaN</td>\n",
       "      <td>2.765400</td>\n",
       "      <td>0.298629</td>\n",
       "    </tr>\n",
       "    <tr>\n",
       "      <th>84</th>\n",
       "      <td>2.798711</td>\n",
       "      <td>0.089467</td>\n",
       "      <td>NaN</td>\n",
       "      <td>2.798711</td>\n",
       "      <td>0.299495</td>\n",
       "    </tr>\n",
       "    <tr>\n",
       "      <th>85</th>\n",
       "      <td>2.831911</td>\n",
       "      <td>0.085335</td>\n",
       "      <td>NaN</td>\n",
       "      <td>2.831911</td>\n",
       "      <td>0.300296</td>\n",
       "    </tr>\n",
       "    <tr>\n",
       "      <th>...</th>\n",
       "      <td>...</td>\n",
       "      <td>...</td>\n",
       "      <td>...</td>\n",
       "      <td>...</td>\n",
       "      <td>...</td>\n",
       "    </tr>\n",
       "    <tr>\n",
       "      <th>666</th>\n",
       "      <td>22.184022</td>\n",
       "      <td>0.064446</td>\n",
       "      <td>NaN</td>\n",
       "      <td>22.184022</td>\n",
       "      <td>0.332955</td>\n",
       "    </tr>\n",
       "    <tr>\n",
       "      <th>667</th>\n",
       "      <td>22.217333</td>\n",
       "      <td>0.070143</td>\n",
       "      <td>NaN</td>\n",
       "      <td>22.217333</td>\n",
       "      <td>0.330217</td>\n",
       "    </tr>\n",
       "    <tr>\n",
       "      <th>668</th>\n",
       "      <td>22.250644</td>\n",
       "      <td>0.077252</td>\n",
       "      <td>NaN</td>\n",
       "      <td>22.250644</td>\n",
       "      <td>0.328511</td>\n",
       "    </tr>\n",
       "    <tr>\n",
       "      <th>669</th>\n",
       "      <td>22.284111</td>\n",
       "      <td>0.085951</td>\n",
       "      <td>NaN</td>\n",
       "      <td>22.284111</td>\n",
       "      <td>0.327714</td>\n",
       "    </tr>\n",
       "    <tr>\n",
       "      <th>670</th>\n",
       "      <td>22.317456</td>\n",
       "      <td>0.095191</td>\n",
       "      <td>NaN</td>\n",
       "      <td>22.317456</td>\n",
       "      <td>0.328085</td>\n",
       "    </tr>\n",
       "  </tbody>\n",
       "</table>\n",
       "<p>281 rows × 5 columns</p>\n",
       "</div>"
      ],
      "text/plain": [
       "             t         x  Unnamed: 2        t.1       x.1\n",
       "0     0.000000  0.090312         NaN   0.000000  0.297208\n",
       "1     0.034033  0.090312         NaN   0.034033  0.296060\n",
       "83    2.765400  0.094533         NaN   2.765400  0.298629\n",
       "84    2.798711  0.089467         NaN   2.798711  0.299495\n",
       "85    2.831911  0.085335         NaN   2.831911  0.300296\n",
       "..         ...       ...         ...        ...       ...\n",
       "666  22.184022  0.064446         NaN  22.184022  0.332955\n",
       "667  22.217333  0.070143         NaN  22.217333  0.330217\n",
       "668  22.250644  0.077252         NaN  22.250644  0.328511\n",
       "669  22.284111  0.085951         NaN  22.284111  0.327714\n",
       "670  22.317456  0.095191         NaN  22.317456  0.328085\n",
       "\n",
       "[281 rows x 5 columns]"
      ]
     },
     "execution_count": 76,
     "metadata": {},
     "output_type": "execute_result"
    }
   ],
   "source": [
    "#df[df['t']>25 and df['x']<0.5]\n",
    "df.query('t<25 and x < 0.1')"
   ]
  },
  {
   "cell_type": "code",
   "execution_count": null,
   "metadata": {},
   "outputs": [],
   "source": []
  }
 ],
 "metadata": {
  "kernelspec": {
   "display_name": "Python 3.10.5 64-bit",
   "language": "python",
   "name": "python3"
  },
  "language_info": {
   "codemirror_mode": {
    "name": "ipython",
    "version": 3
   },
   "file_extension": ".py",
   "mimetype": "text/x-python",
   "name": "python",
   "nbconvert_exporter": "python",
   "pygments_lexer": "ipython3",
   "version": "3.10.5"
  },
  "orig_nbformat": 4,
  "vscode": {
   "interpreter": {
    "hash": "e7370f93d1d0cde622a1f8e1c04877d8463912d04d973331ad4851f04de6915a"
   }
  }
 },
 "nbformat": 4,
 "nbformat_minor": 2
}
