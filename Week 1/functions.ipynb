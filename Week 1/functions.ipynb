{
 "cells": [
  {
   "cell_type": "markdown",
   "metadata": {},
   "source": [
    "### Built in Functions"
   ]
  },
  {
   "cell_type": "markdown",
   "metadata": {},
   "source": [
    "Built-in functions are developed by creators of Python and  we can use them without defining them. we can just call them using the function name and with argument (if they accept any). "
   ]
  },
  {
   "cell_type": "markdown",
   "metadata": {},
   "source": [
    "len() is built-in function that returns the number of elements present in data structure."
   ]
  },
  {
   "cell_type": "code",
   "execution_count": 3,
   "metadata": {},
   "outputs": [
    {
     "name": "stdout",
     "output_type": "stream",
     "text": [
      "Help on built-in function len in module builtins:\n",
      "\n",
      "len(obj, /)\n",
      "    Return the number of items in a container.\n",
      "\n"
     ]
    }
   ],
   "source": [
    "help(len)"
   ]
  },
  {
   "cell_type": "code",
   "execution_count": 4,
   "metadata": {},
   "outputs": [
    {
     "data": {
      "text/plain": [
       "5"
      ]
     },
     "execution_count": 4,
     "metadata": {},
     "output_type": "execute_result"
    }
   ],
   "source": [
    "my_list = ['a', 'f', 1, 3, 4]\n",
    "len(my_list)"
   ]
  },
  {
   "cell_type": "markdown",
   "metadata": {},
   "source": [
    "max() is built-in function that returns the maximum element from the given data structure"
   ]
  },
  {
   "cell_type": "code",
   "execution_count": 5,
   "metadata": {},
   "outputs": [
    {
     "name": "stdout",
     "output_type": "stream",
     "text": [
      "Help on built-in function max in module builtins:\n",
      "\n",
      "max(...)\n",
      "    max(iterable, *[, default=obj, key=func]) -> value\n",
      "    max(arg1, arg2, *args, *[, key=func]) -> value\n",
      "    \n",
      "    With a single iterable argument, return its biggest item. The\n",
      "    default keyword-only argument specifies an object to return if\n",
      "    the provided iterable is empty.\n",
      "    With two or more arguments, return the largest argument.\n",
      "\n"
     ]
    }
   ],
   "source": [
    "help(max)"
   ]
  },
  {
   "cell_type": "code",
   "execution_count": 6,
   "metadata": {},
   "outputs": [
    {
     "data": {
      "text/plain": [
       "5"
      ]
     },
     "execution_count": 6,
     "metadata": {},
     "output_type": "execute_result"
    }
   ],
   "source": [
    "my_list = [1, 2, 3, 4, 5]\n",
    "max(my_list)"
   ]
  },
  {
   "cell_type": "markdown",
   "metadata": {},
   "source": [
    "min() is built-in function that returns the minimum element from the given data structure"
   ]
  },
  {
   "cell_type": "code",
   "execution_count": 7,
   "metadata": {},
   "outputs": [
    {
     "data": {
      "text/plain": [
       "1"
      ]
     },
     "execution_count": 7,
     "metadata": {},
     "output_type": "execute_result"
    }
   ],
   "source": [
    "my_list = [1, 2, 3, 4, 5]\n",
    "min(my_list)"
   ]
  },
  {
   "cell_type": "markdown",
   "metadata": {},
   "source": [
    "sum() is built-in function that returns the sum of elements in the given data structure"
   ]
  },
  {
   "cell_type": "code",
   "execution_count": 8,
   "metadata": {},
   "outputs": [
    {
     "data": {
      "text/plain": [
       "15"
      ]
     },
     "execution_count": 8,
     "metadata": {},
     "output_type": "execute_result"
    }
   ],
   "source": [
    "my_list = [1, 2, 3, 4, 5]\n",
    "sum(my_list)"
   ]
  },
  {
   "cell_type": "markdown",
   "metadata": {},
   "source": [
    "type() - returns the type of variable or object"
   ]
  },
  {
   "cell_type": "code",
   "execution_count": 9,
   "metadata": {},
   "outputs": [
    {
     "name": "stdout",
     "output_type": "stream",
     "text": [
      "type of x is  <class 'float'>\n",
      "type of x is  <class 'int'>\n",
      "type of x is  <class 'str'>\n"
     ]
    }
   ],
   "source": [
    "x = 5.6 \n",
    "print(\"type of x is \", type(x))\n",
    "\n",
    "x = 4 \n",
    "print(\"type of x is \", type(x))\n",
    "\n",
    "x = \"string\"\n",
    "print(\"type of x is \", type(x))\n"
   ]
  },
  {
   "cell_type": "markdown",
   "metadata": {},
   "source": [
    "sorted() arranges the list of elements in specified order."
   ]
  },
  {
   "cell_type": "code",
   "execution_count": 10,
   "metadata": {},
   "outputs": [
    {
     "name": "stdout",
     "output_type": "stream",
     "text": [
      "[-4, -3, 0, 1, 4, 5]\n",
      "[-4, -3, 0, 1, 4, 5]\n"
     ]
    }
   ],
   "source": [
    "my_list = [1, 4, -3, -4, 0, 5 ]\n",
    "print(sorted(my_list))\n",
    "\n",
    "my_tuple = (1, 4, -3, -4, 0, 5 )\n",
    "print(sorted(my_tuple))"
   ]
  },
  {
   "cell_type": "markdown",
   "metadata": {},
   "source": [
    "reversed() returns the list of elements in reversed order"
   ]
  },
  {
   "cell_type": "code",
   "execution_count": 11,
   "metadata": {},
   "outputs": [
    {
     "name": "stdout",
     "output_type": "stream",
     "text": [
      "[5, 0, -4, -3, 4, 1]\n",
      "[5, 0, -4, -3, 4, 1]\n"
     ]
    }
   ],
   "source": [
    "my_list = [1, 4, -3, -4, 0, 5 ]\n",
    "reversed_list = list(reversed(my_list))\n",
    "print(reversed_list)\n",
    "\n",
    "my_tuple = (1, 4, -3, -4, 0, 5 )\n",
    "reversed_tuple = list(reversed(my_tuple))\n",
    "print(reversed_tuple)"
   ]
  },
  {
   "cell_type": "markdown",
   "metadata": {},
   "source": [
    "### Calling functions from built-in modules"
   ]
  },
  {
   "cell_type": "markdown",
   "metadata": {},
   "source": [
    "<b> Random number functions <b>"
   ]
  },
  {
   "cell_type": "markdown",
   "metadata": {},
   "source": [
    "Functions are part of modules as well. For example,Random module is available as part of core Python language. One just need to import random module in order to use the functions defined in it. Once imported, the fucntions can be called in as usual i.e. with or without passing arguments to it."
   ]
  },
  {
   "cell_type": "code",
   "execution_count": 14,
   "metadata": {},
   "outputs": [
    {
     "name": "stdout",
     "output_type": "stream",
     "text": [
      "0.17434610735343015\n"
     ]
    }
   ],
   "source": [
    "import random\n",
    "\n",
    "# dir(random)\n",
    "print(random.random())"
   ]
  },
  {
   "cell_type": "markdown",
   "metadata": {},
   "source": [
    "<b> Math functions<b>"
   ]
  },
  {
   "cell_type": "markdown",
   "metadata": {},
   "source": [
    "Math package is available by default. One can import it in the program and can call the functions defined in it. "
   ]
  },
  {
   "cell_type": "code",
   "execution_count": 15,
   "metadata": {},
   "outputs": [
    {
     "name": "stdout",
     "output_type": "stream",
     "text": [
      "1\n",
      "2\n",
      "False\n",
      "2.23606797749979\n"
     ]
    }
   ],
   "source": [
    "import math\n",
    "\n",
    "print(math.floor(1.4))\n",
    "print(math.ceil(1.4))\n",
    "print(math.isnan(2))\n",
    "print(math.sqrt(5)) "
   ]
  },
  {
   "cell_type": "markdown",
   "metadata": {},
   "source": [
    "Q1. Explore different built in functions available on string data structure for <br>\n",
    "\n",
    "        - determining whether a string is alphanumeric or not\n",
    "        \n",
    "        - finding out index of a substring\n",
    "        \n",
    "        - finding out whether string is identifier or not"
   ]
  },
  {
   "cell_type": "markdown",
   "metadata": {},
   "source": []
  },
  {
   "cell_type": "markdown",
   "metadata": {},
   "source": [
    "### Functions are the collection of named statements. It can be considered as grouped collection of organized statements which can be reused at multiple places to perform a single or related action by just calling the function itself."
   ]
  },
  {
   "cell_type": "markdown",
   "metadata": {},
   "source": [
    "The functions has a purpose associated with it. i.e. A function to compute the average of given numbers. In a program, if the average calculation needs to done multiple times for the numbers, then the same code will be repeated again and again. If afterwards some change needs to be done in that code, multiple places it needs to be modified. Istead of that, a grouped collection of those statements can be done which has a specific name associated with it, which will accepts collection of numbers as input and produces average as output. This collection is nothing but function. "
   ]
  },
  {
   "cell_type": "markdown",
   "metadata": {},
   "source": [
    "<b>Example of average computation function<b>"
   ]
  },
  {
   "cell_type": "markdown",
   "metadata": {},
   "source": [
    "Lets assume that we need to use following set of statements to compute the average of numbers. If the average needs to be computed again and again with different numbers the same statements will appear again and again in the program."
   ]
  },
  {
   "cell_type": "code",
   "execution_count": 16,
   "metadata": {},
   "outputs": [
    {
     "name": "stdout",
     "output_type": "stream",
     "text": [
      "first average is     3.5\n"
     ]
    }
   ],
   "source": [
    "number_list = [1, 2, 4, 3, 5, 6]  \n",
    "# Showcasing the tedious task of writing multiple lines of logic for different input parameters ( NOT BEST PRACTICE)\n",
    "\n",
    "total = 0 \n",
    "average = 0 \n",
    "count = len(number_list)\n",
    "\n",
    "#Compute the total first  \n",
    "for number in number_list:\n",
    "    total = total + number\n",
    "    \n",
    "average = total / count \n",
    "\n",
    "print(\"first average is    \", average)\n",
    "\n",
    "\n",
    "\n",
    "#........some code in between \n",
    "#...........................\n",
    "#...........................\n",
    "\n",
    "#Again needs to be compute the average of different set of numbers\n",
    "\n",
    "# number_list = [11, 22, 41, 31, 51, 61]\n",
    "\n",
    "# total = 0 \n",
    "# average = 0 \n",
    "# count = len(number_list)\n",
    "\n",
    "# #Compute the total first  \n",
    "# for number in number_list:\n",
    "#     total = total + number\n",
    "    \n",
    "# average = total / count \n",
    "\n",
    "# print(\"second average is    \", average)\n"
   ]
  },
  {
   "cell_type": "markdown",
   "metadata": {},
   "source": [
    "<b> Function definition<b>"
   ]
  },
  {
   "cell_type": "markdown",
   "metadata": {},
   "source": [
    "The statements computing average can be enclosed into a block that is function. Function may or may not accept input but will carry out the designated operations. In return, it may or may not return the outcome. "
   ]
  },
  {
   "cell_type": "markdown",
   "metadata": {},
   "source": [
    "Lets define a fuction for computing the average. It will accept list of numbers as input and will produce the average as outcome. "
   ]
  },
  {
   "cell_type": "code",
   "execution_count": 20,
   "metadata": {},
   "outputs": [
    {
     "name": "stdout",
     "output_type": "stream",
     "text": [
      "30.0\n"
     ]
    }
   ],
   "source": [
    "def compute_average(number_list):  #function definition , starts with key word def followed by name of function\n",
    "\n",
    "    #Initialize required variables\n",
    "    total = 0  \n",
    "    average = 0 \n",
    "    count = len(number_list)\n",
    "\n",
    "    #Compute the total first  \n",
    "    for number in number_list:\n",
    "        total = total + number\n",
    "\n",
    "    #Compute the average    \n",
    "    average = total / count \n",
    "\n",
    "    #Return average to the calling code\n",
    "    return average # return will return the value back to the function call \n",
    "\n",
    "list_a=[10,20,30,40,50]\n",
    "variable=compute_average(list_a)\n",
    "print(variable)"
   ]
  },
  {
   "cell_type": "markdown",
   "metadata": {},
   "source": [
    "Fuction may not accept any input , may not produce any outcome. For example, following function just does some printing of characters."
   ]
  },
  {
   "cell_type": "code",
   "execution_count": 24,
   "metadata": {},
   "outputs": [],
   "source": [
    "def print_welcome_message():\n",
    "    print('*' * 12)\n",
    "    print(\"Welcome to the ABC software\")\n",
    "    print(\"(c) All rights reserved.\")"
   ]
  },
  {
   "cell_type": "code",
   "execution_count": 25,
   "metadata": {},
   "outputs": [
    {
     "name": "stdout",
     "output_type": "stream",
     "text": [
      "************\n",
      "Welcome to the ABC software\n",
      "(c) All rights reserved.\n"
     ]
    }
   ],
   "source": [
    "print_welcome_message()"
   ]
  },
  {
   "cell_type": "code",
   "execution_count": null,
   "metadata": {},
   "outputs": [],
   "source": []
  },
  {
   "cell_type": "markdown",
   "metadata": {},
   "source": [
    "Function may accept input values, does some computation but does not return any value to the calling code. For example, following function accepts number list, finds out even and odd numbers and prints them. "
   ]
  },
  {
   "cell_type": "code",
   "execution_count": 26,
   "metadata": {},
   "outputs": [],
   "source": [
    "def find_even_odd(number_list):\n",
    "    \n",
    "    #Initialize data structures to hold list of even and odd numbers\n",
    "    even_numbers = []\n",
    "    odd_numbers = []\n",
    "    \n",
    "    #Find the even and odd numbers and place them in right structure\n",
    "    for number in number_list:\n",
    "        if number % 2 == 0 :\n",
    "            even_numbers.append(number)\n",
    "        else: \n",
    "            odd_numbers.append(number)\n",
    "            \n",
    "    #Show the list even and odd numbers\n",
    "    print(\"Even numbers \")\n",
    "    for number in even_numbers:\n",
    "        print(number)\n",
    "             \n",
    "    print(\"Odd numbers \")\n",
    "    for number in odd_numbers:\n",
    "        print(number)\n",
    "        "
   ]
  },
  {
   "cell_type": "markdown",
   "metadata": {},
   "source": [
    "<b> Calling the function<b>"
   ]
  },
  {
   "cell_type": "markdown",
   "metadata": {},
   "source": [
    "The program can call functions, can pass the arguments to it and can accept outcome from it. "
   ]
  },
  {
   "cell_type": "markdown",
   "metadata": {},
   "source": [
    "Lets see how average computing function can be called from the program. "
   ]
  },
  {
   "cell_type": "code",
   "execution_count": 27,
   "metadata": {},
   "outputs": [
    {
     "name": "stdout",
     "output_type": "stream",
     "text": [
      "The average is  3.5\n"
     ]
    }
   ],
   "source": [
    "#Prepare input for the function\n",
    "number_list = [ 1, 2, 3, 4, 5, 6]\n",
    "\n",
    "#Call the function for average computation with input values\n",
    "average = compute_average(number_list)\n",
    "\n",
    "print(\"The average is \", average)"
   ]
  },
  {
   "cell_type": "markdown",
   "metadata": {},
   "source": [
    "The same function can be called again and again with different input values. "
   ]
  },
  {
   "cell_type": "code",
   "execution_count": 28,
   "metadata": {},
   "outputs": [
    {
     "name": "stdout",
     "output_type": "stream",
     "text": [
      "The average is  36.166666666666664\n"
     ]
    }
   ],
   "source": [
    "#Prepare input for the function\n",
    "number_list = [11, 22, 41, 31, 51, 61]\n",
    "\n",
    "#Call the function for average computation with input values\n",
    "average = compute_average(number_list)\n",
    "\n",
    "print(\"The average is \", average)"
   ]
  },
  {
   "cell_type": "markdown",
   "metadata": {},
   "source": [
    "Lets see how the print related function can be called. "
   ]
  },
  {
   "cell_type": "code",
   "execution_count": 30,
   "metadata": {},
   "outputs": [
    {
     "name": "stdout",
     "output_type": "stream",
     "text": [
      "************\n",
      "Welcome to the ABC software\n",
      "(c) All rights reserved.\n"
     ]
    }
   ],
   "source": [
    "#Call print_welcome_massage function which does not accept any input, does not give any output\n",
    "#but produces some characters on console\n",
    "print_welcome_message()"
   ]
  },
  {
   "cell_type": "markdown",
   "metadata": {},
   "source": [
    "Lets call the function for finding out even / odd numbers from given number list."
   ]
  },
  {
   "cell_type": "code",
   "execution_count": 31,
   "metadata": {},
   "outputs": [
    {
     "name": "stdout",
     "output_type": "stream",
     "text": [
      "Even numbers \n",
      "2\n",
      "4\n",
      "6\n",
      "Odd numbers \n",
      "1\n",
      "3\n",
      "5\n"
     ]
    }
   ],
   "source": [
    "#Prepare number list \n",
    "number_list = [ 1, 2, 3, 4, 5, 6]\n",
    "\n",
    "find_even_odd(number_list) \n"
   ]
  },
  {
   "cell_type": "code",
   "execution_count": 57,
   "metadata": {},
   "outputs": [
    {
     "name": "stdout",
     "output_type": "stream",
     "text": [
      "Even numbers \n",
      "10\n",
      "12\n",
      "14\n",
      "16\n",
      "Odd numbers \n",
      "11\n",
      "13\n",
      "15\n"
     ]
    }
   ],
   "source": [
    "'''reusability of function block'''\n",
    "\n",
    "list_1=[10,11,12,13,14,15,16]\n",
    "find_even_odd(list_1) # function call "
   ]
  },
  {
   "cell_type": "code",
   "execution_count": null,
   "metadata": {},
   "outputs": [],
   "source": []
  },
  {
   "cell_type": "markdown",
   "metadata": {},
   "source": [
    "### Parameters and Arguments"
   ]
  },
  {
   "cell_type": "markdown",
   "metadata": {},
   "source": [
    "<b> Arguments<b>"
   ]
  },
  {
   "cell_type": "markdown",
   "metadata": {},
   "source": [
    "Arguments are values passed to the functions when function is called. "
   ]
  },
  {
   "cell_type": "markdown",
   "metadata": {},
   "source": [
    "<b>Parameters<b>"
   ]
  },
  {
   "cell_type": "markdown",
   "metadata": {},
   "source": [
    "Parameters are the values received by the function when it is called."
   ]
  },
  {
   "cell_type": "markdown",
   "metadata": {},
   "source": [
    "The variable names corresponding to the arguments and parameters can be same or different. For example, in the below example,both arguments and parameters are having same name but their scopes are different."
   ]
  },
  {
   "cell_type": "code",
   "execution_count": 32,
   "metadata": {},
   "outputs": [],
   "source": [
    "def print_lines(number): #number is parameter\n",
    "    for i in range(number):\n",
    "        print(\"Line \", i , \"    \")"
   ]
  },
  {
   "cell_type": "code",
   "execution_count": 33,
   "metadata": {},
   "outputs": [
    {
     "name": "stdout",
     "output_type": "stream",
     "text": [
      "Line  0     \n",
      "Line  1     \n",
      "Line  2     \n",
      "Line  3     \n",
      "Line  4     \n"
     ]
    }
   ],
   "source": [
    "number = 5\n",
    "print_lines(number)  # number is argument"
   ]
  },
  {
   "cell_type": "markdown",
   "metadata": {},
   "source": [
    "Argument name and parameter names can be different. "
   ]
  },
  {
   "cell_type": "code",
   "execution_count": 34,
   "metadata": {},
   "outputs": [],
   "source": [
    "def print_stars(times): #times is parameter\n",
    "    for i in range(times):\n",
    "        print(\"*\" * i)"
   ]
  },
  {
   "cell_type": "code",
   "execution_count": 35,
   "metadata": {},
   "outputs": [
    {
     "name": "stdout",
     "output_type": "stream",
     "text": [
      "\n",
      "*\n",
      "**\n",
      "***\n",
      "****\n"
     ]
    }
   ],
   "source": [
    "number_of_times = 5 # number_of_times is argument\n",
    "print_stars(number_of_times)"
   ]
  },
  {
   "cell_type": "markdown",
   "metadata": {},
   "source": [
    "One can call functions with multiple arguments."
   ]
  },
  {
   "cell_type": "code",
   "execution_count": 40,
   "metadata": {},
   "outputs": [],
   "source": [
    "def print_characters(character, times) :\n",
    "    for i in range(times):\n",
    "        print(character * i )"
   ]
  },
  {
   "cell_type": "code",
   "execution_count": 41,
   "metadata": {},
   "outputs": [
    {
     "name": "stdout",
     "output_type": "stream",
     "text": [
      "\n",
      "#\n",
      "##\n",
      "###\n",
      "####\n"
     ]
    }
   ],
   "source": [
    "print_characters(\"#\", 5)  # function called with multiple arguments"
   ]
  },
  {
   "cell_type": "code",
   "execution_count": 42,
   "metadata": {},
   "outputs": [
    {
     "name": "stdout",
     "output_type": "stream",
     "text": [
      "4000\n",
      "\n",
      "#\n",
      "##\n",
      "###\n",
      "####\n"
     ]
    }
   ],
   "source": [
    "# example using return statement \n",
    "\n",
    "def addition (arg1,arg2,arg3):\n",
    "    c=(arg1+arg2+arg3)*100\n",
    "    return c  # return returns the value back to the function call \n",
    "\n",
    "def print_characters(character, times) :\n",
    "    for i in range(times):\n",
    "        print(character * i )\n",
    "\n",
    "\n",
    "if __name__==\"__main__\": # main method \n",
    "    print(addition(5,15,20))\n",
    "    print_characters(\"#\", 5)\n",
    "    \n",
    "    \n"
   ]
  },
  {
   "cell_type": "code",
   "execution_count": 43,
   "metadata": {},
   "outputs": [
    {
     "name": "stdout",
     "output_type": "stream",
     "text": [
      "Enter a number to find cube of:  4\n",
      "Enter another number to find cube of:  5\n"
     ]
    },
    {
     "name": "stdout",
     "output_type": "stream",
     "text": [
      "Number 4 cube is 64 and number 5 cube is 125\n"
     ]
    }
   ],
   "source": [
    "'''An example of passing argument values via input() from the function call ''' \n",
    "\n",
    "'''WAP to return cube of a number'''\n",
    "\n",
    "def sum_a(a,b): \n",
    "    c=a*a*a\n",
    "    d=b*b*b\n",
    "    print(f'Number {a} cube is {c} and number {b} cube is {d}')\n",
    "\n",
    "if __name__==\"__main__\":\n",
    "    b=sum_a(int(input(\"Enter a number to find cube of: \")),int(input(\"Enter another number to find cube of: \")))\n"
   ]
  },
  {
   "cell_type": "code",
   "execution_count": 44,
   "metadata": {},
   "outputs": [
    {
     "name": "stdout",
     "output_type": "stream",
     "text": [
      "Enter a number:  7\n",
      "Enter another number:  8\n",
      "Enter yet another number:  3\n"
     ]
    },
    {
     "name": "stdout",
     "output_type": "stream",
     "text": [
      "The greatest value is: 8\n"
     ]
    }
   ],
   "source": [
    "'''Write a Python function to find the Max of three numbers.''' \n",
    "\n",
    "def func_max(x,y,z): # function def \n",
    "    if x>y and x>z:\n",
    "        great=x\n",
    "    if y>x and y>z:\n",
    "        great=y\n",
    "    if z>x and z>y:\n",
    "        great=z\n",
    "    return great \n",
    "\n",
    "if __name__==\"__main__\":\n",
    "    a=int(input(\"Enter a number: \"))\n",
    "    b=int(input(\"Enter another number: \"))\n",
    "    c=int(input(\"Enter yet another number: \"))\n",
    "    print(f'The greatest value is: {func_max(a,b,c)}') # function call \n",
    "#     print(y)"
   ]
  },
  {
   "cell_type": "code",
   "execution_count": 46,
   "metadata": {},
   "outputs": [
    {
     "name": "stdout",
     "output_type": "stream",
     "text": [
      "Please enter a string:  mom\n"
     ]
    },
    {
     "name": "stdout",
     "output_type": "stream",
     "text": [
      "mom\n"
     ]
    }
   ],
   "source": [
    "'''Write a Python program to reverse a string.'''\n",
    "\n",
    "def reversestring(s):\n",
    "    \n",
    "    ns=\"\" # empty string \n",
    "    \n",
    "    for i in s: # i=0,a, i=1,s ,i=2,h\n",
    "        ns= i+ns # ns='a'+''; ns='a' ; ns='s'+'a'; ns='sa' ; ns='h'+sa'='hsa'\n",
    "    return ns   \n",
    "\n",
    "st=input(\"Please enter a string: \")\n",
    "print(reversestring(st))"
   ]
  },
  {
   "cell_type": "markdown",
   "metadata": {},
   "source": []
  },
  {
   "cell_type": "markdown",
   "metadata": {},
   "source": [
    "### Passing a List to a function\n",
    "\n",
    "#### You can send any data type to a function (string, number, list, dictionary etc.) and it will be treated as the same data type inside the function."
   ]
  },
  {
   "cell_type": "markdown",
   "metadata": {},
   "source": [
    " <b> Argument modification<b>\n",
    "    \n",
    "    Based on whether argument type is mutable or immutable, the passed argument is changed in the function. \n",
    "    If the argument type is immutable like integer, string then it will not get modified in the called function as its immutable. "
   ]
  },
  {
   "cell_type": "code",
   "execution_count": 53,
   "metadata": {},
   "outputs": [
    {
     "name": "stdout",
     "output_type": "stream",
     "text": [
      "['apple', 'banana', 'cherry', 'grape']\n",
      "['apple', 'banana', 'cherry', 'grape']\n"
     ]
    }
   ],
   "source": [
    "def my_function(fruits): # parameters are passed by reference \n",
    "#     print(f'Inside function--{type(fruits)}')\n",
    "    fruits.append('grape')\n",
    "    print(fruits)\n",
    "#     for x in fruits:\n",
    "#         print(x.upper())\n",
    "\n",
    "x=[\"apple\", \"banana\", \"cherry\"]\n",
    "# print(f'Outside function--{x}')\n",
    "my_function(x)\n",
    "print(x)"
   ]
  },
  {
   "cell_type": "code",
   "execution_count": 56,
   "metadata": {},
   "outputs": [],
   "source": [
    "def add(x):   #### more examples\n",
    "    return x + 1"
   ]
  },
  {
   "cell_type": "code",
   "execution_count": 57,
   "metadata": {},
   "outputs": [
    {
     "name": "stdout",
     "output_type": "stream",
     "text": [
      "a before function call  :  5\n",
      "6\n",
      "a after function call  :  5\n"
     ]
    }
   ],
   "source": [
    "a = 5\n",
    "print(\"a before function call  : \", a)\n",
    "print(add(a))\n",
    "print(\"a after function call  : \", a)"
   ]
  },
  {
   "cell_type": "code",
   "execution_count": 58,
   "metadata": {},
   "outputs": [],
   "source": [
    "def to_lower(string):\n",
    "    return string.lower()"
   ]
  },
  {
   "cell_type": "code",
   "execution_count": 59,
   "metadata": {},
   "outputs": [
    {
     "name": "stdout",
     "output_type": "stream",
     "text": [
      "string before function call  :  TeSt\n",
      "test\n",
      "string after function call  :  TeSt\n"
     ]
    }
   ],
   "source": [
    "string = \"TeSt\"\n",
    "print(\"string before function call  : \", string)\n",
    "print(to_lower(string))\n",
    "print(\"string after function call  : \", string)"
   ]
  },
  {
   "cell_type": "markdown",
   "metadata": {},
   "source": [
    "If the argument type is mutable like list, then it can get modified in the called function as its mutable."
   ]
  },
  {
   "cell_type": "code",
   "execution_count": 60,
   "metadata": {},
   "outputs": [],
   "source": [
    "def add_element(lista):\n",
    "    lista.append(5)"
   ]
  },
  {
   "cell_type": "code",
   "execution_count": 61,
   "metadata": {},
   "outputs": [
    {
     "name": "stdout",
     "output_type": "stream",
     "text": [
      "list before function call :  [1, 2, 3, 4]\n",
      "list after function call :  [1, 2, 3, 4, 5]\n"
     ]
    }
   ],
   "source": [
    "list1 = [1, 2, 3, 4]\n",
    "print(\"list before function call : \", list1)\n",
    "add_element(list1)\n",
    "print(\"list after function call : \", list1)"
   ]
  },
  {
   "cell_type": "markdown",
   "metadata": {},
   "source": [
    "KEEP IN MIND FOR MUTABLE TYPES-All parameters (arguments) in the Python language are passed by reference. It means if you change what a parameter refers to within a function, the change also reflects back in the calling function."
   ]
  },
  {
   "cell_type": "code",
   "execution_count": 73,
   "metadata": {},
   "outputs": [
    {
     "name": "stdout",
     "output_type": "stream",
     "text": [
      "Result after appending is  [1, 2, 3, 4, [5, 6, 7, 8]]\n"
     ]
    }
   ],
   "source": [
    "## QUICK RECAP OF FUNCTIONS  \n",
    "\n",
    "def main(para1,para2): # function defination represented by the def keyword followed the name of the function satisfying the rules of an identifier \n",
    "    list_2=list(para2)\n",
    "    para1.append(list_2)\n",
    "    return para1\n",
    "\n",
    "if __name__==\"__main__\": # main method / driver code \n",
    "    result=main([1,2,3,4],(5,6,7,8)) # function call \n",
    "    print('Result after appending is ', result )\n",
    "#     print('after function call this gets printed by compiler')"
   ]
  },
  {
   "cell_type": "markdown",
   "metadata": {},
   "source": [
    "### Types of ways to define functional arguments"
   ]
  },
  {
   "cell_type": "markdown",
   "metadata": {},
   "source": [
    "#### You can call a function by using the following types of formal arguments −\n",
    "\n",
    "#### Required arguments\n",
    "\n",
    "#### Keyword arguments\n",
    "\n",
    "#### Default arguments\n",
    "\n",
    "#### Variable-length arguments"
   ]
  },
  {
   "cell_type": "markdown",
   "metadata": {},
   "source": []
  },
  {
   "cell_type": "markdown",
   "metadata": {},
   "source": [
    " Required arguments are the arguments passed to a function in correct positional order. Here, the number of arguments in the function call should match exactly with the function definition."
   ]
  },
  {
   "cell_type": "code",
   "execution_count": 78,
   "metadata": {},
   "outputs": [],
   "source": [
    "def printme(name,age): \n",
    "    print(f'Name is {name} and age is {age}')"
   ]
  },
  {
   "cell_type": "code",
   "execution_count": 80,
   "metadata": {},
   "outputs": [
    {
     "name": "stdout",
     "output_type": "stream",
     "text": [
      "Name is ashwin and age is 100\n"
     ]
    }
   ],
   "source": [
    "printme('ashwin',100) "
   ]
  },
  {
   "cell_type": "markdown",
   "metadata": {},
   "source": [
    "A default argument is an argument that assumes a default value if a value is not provided in the function call for that argument. \n",
    "\n",
    "One can specify default value for parameter. This makes it optional. If caller sets value for it, then that value is used, otherwise default value is used.  "
   ]
  },
  {
   "cell_type": "code",
   "execution_count": 81,
   "metadata": {},
   "outputs": [],
   "source": [
    "#times has default value as 2\n",
    "def multiply(number, times = 2): \n",
    "    return number * times"
   ]
  },
  {
   "cell_type": "code",
   "execution_count": 83,
   "metadata": {},
   "outputs": [
    {
     "data": {
      "text/plain": [
       "15"
      ]
     },
     "execution_count": 83,
     "metadata": {},
     "output_type": "execute_result"
    }
   ],
   "source": [
    "#If times is not specified while calling multuply function , default of 2 is used\n",
    "multiply(5) "
   ]
  },
  {
   "cell_type": "code",
   "execution_count": 84,
   "metadata": {},
   "outputs": [
    {
     "data": {
      "text/plain": [
       "20"
      ]
     },
     "execution_count": 84,
     "metadata": {},
     "output_type": "execute_result"
    }
   ],
   "source": [
    "#If user specifies value for times then thats used\n",
    "multiply(5, 4)"
   ]
  },
  {
   "cell_type": "markdown",
   "metadata": {},
   "source": [
    "Default parameters needs to be specified at the end of parameter list, after all non default parameters."
   ]
  },
  {
   "cell_type": "code",
   "execution_count": 86,
   "metadata": {},
   "outputs": [],
   "source": [
    "def add_and_multiply(number1,number2, number3,times=4 ):\n",
    "    return (number1 + number2 + number3) * times"
   ]
  },
  {
   "cell_type": "code",
   "execution_count": 87,
   "metadata": {},
   "outputs": [
    {
     "data": {
      "text/plain": [
       "24"
      ]
     },
     "execution_count": 87,
     "metadata": {},
     "output_type": "execute_result"
    }
   ],
   "source": [
    "#user does not specify the argument value\n",
    "add_and_multiply(1, 2, 3) "
   ]
  },
  {
   "cell_type": "code",
   "execution_count": 88,
   "metadata": {},
   "outputs": [
    {
     "data": {
      "text/plain": [
       "30"
      ]
     },
     "execution_count": 88,
     "metadata": {},
     "output_type": "execute_result"
    }
   ],
   "source": [
    "#user specified value for default parameter as well\n",
    "add_and_multiply(number1=1, number2=2, number3=3, times=5)"
   ]
  },
  {
   "cell_type": "markdown",
   "metadata": {},
   "source": [
    "Keyword arguments are related to the function calls. When you use keyword arguments in a function call, the caller identifies the arguments by the parameter name."
   ]
  },
  {
   "cell_type": "code",
   "execution_count": 89,
   "metadata": {},
   "outputs": [],
   "source": [
    "def parrot(voltage, state='a stiff', action='voom', type='Norwegian Blue'):\n",
    "    print(\"$ This parrot wouldn't\", action, end=' ')\n",
    "    print(\"if you put\", voltage, \"volts through it.\")\n",
    "    print(\"-- Lovely plumage, the\", type)\n",
    "    print(\"**It's\", state, \"!**\")"
   ]
  },
  {
   "cell_type": "code",
   "execution_count": 90,
   "metadata": {},
   "outputs": [
    {
     "name": "stdout",
     "output_type": "stream",
     "text": [
      "$ This parrot wouldn't voom if you put 1000 volts through it.\n",
      "-- Lovely plumage, the Norwegian Blue\n",
      "**It's a stiff !**\n"
     ]
    }
   ],
   "source": [
    "parrot(1000)                                          # 1 positional argument\n"
   ]
  },
  {
   "cell_type": "code",
   "execution_count": 91,
   "metadata": {},
   "outputs": [
    {
     "name": "stdout",
     "output_type": "stream",
     "text": [
      "$ This parrot wouldn't voom if you put 1000 volts through it.\n",
      "-- Lovely plumage, the Norwegian Blue\n",
      "**It's a stiff !**\n"
     ]
    }
   ],
   "source": [
    "parrot(voltage=1000)                                  # 1 keyword argument\n"
   ]
  },
  {
   "cell_type": "code",
   "execution_count": 101,
   "metadata": {},
   "outputs": [
    {
     "name": "stdout",
     "output_type": "stream",
     "text": [
      "$ This parrot wouldn't voom if you put a thousand volts through it.\n",
      "-- Lovely plumage, the Norwegian Blue\n",
      "**It's pushing up the daisies !**\n"
     ]
    }
   ],
   "source": [
    "# parrot(voltage=1000000, action='VOOOOOM')             # 2 keyword arguments\n",
    "# parrot('VOOOOOM', 1000000)              # 2 required arguments \n",
    "# parrot('a million', 'bereft of life', 'jump')         # 3 positional arguments\n",
    "parrot('a thousand', state='pushing up the daisies')  # 1 positional, 1 keyword"
   ]
  },
  {
   "cell_type": "markdown",
   "metadata": {},
   "source": [
    "#### Explicitly assign data types to your parameters "
   ]
  },
  {
   "cell_type": "code",
   "execution_count": 102,
   "metadata": {},
   "outputs": [],
   "source": [
    "def add(x: float, y: float) -> float: # this is explicitly telling your parameters which data type to refer to and also mention the data type of the value your function should return\n",
    "    return x+y"
   ]
  },
  {
   "cell_type": "code",
   "execution_count": 104,
   "metadata": {},
   "outputs": [
    {
     "name": "stdout",
     "output_type": "stream",
     "text": [
      "12.1\n"
     ]
    }
   ],
   "source": [
    "print(add(7.1,5)) # this will throw error as y is set to float type but we are passing a string value "
   ]
  },
  {
   "cell_type": "code",
   "execution_count": 156,
   "metadata": {},
   "outputs": [],
   "source": [
    "def something(a: int,b: int)->int: # another example to specify args \n",
    "    return a+b\n",
    "# print(something('9',7))# gives error as it converts to string   \n",
    "# something(7,'7')# gives error as it converts to string \n",
    "# something('7','7')# does a string concat\n",
    "# something(7,7)# does an integer addition\n"
   ]
  },
  {
   "cell_type": "markdown",
   "metadata": {},
   "source": [
    "Unknown number of parameters\n",
    "\n",
    "If number of parameters passed to the function are unknown then \"*\" can be used in the parameter list to specify that number of parameters are unknown.\n",
    "\n",
    "You may need to process a function for more arguments than you specified while defining the function. These arguments are called variable-length arguments\n"
   ]
  },
  {
   "cell_type": "markdown",
   "metadata": {},
   "source": [
    "Lets define a product function that accepts variable number of arguments as input and returns product of those numbers."
   ]
  },
  {
   "cell_type": "code",
   "execution_count": 105,
   "metadata": {},
   "outputs": [],
   "source": [
    "def product(*times): # *args in python \n",
    "    print(type(times))\n",
    "    prod = 1\n",
    "    for i in times:\n",
    "        prod = prod * i \n",
    "    return prod    "
   ]
  },
  {
   "cell_type": "code",
   "execution_count": 106,
   "metadata": {},
   "outputs": [
    {
     "name": "stdout",
     "output_type": "stream",
     "text": [
      "<class 'tuple'>\n"
     ]
    },
    {
     "data": {
      "text/plain": [
       "39916800"
      ]
     },
     "execution_count": 106,
     "metadata": {},
     "output_type": "execute_result"
    }
   ],
   "source": [
    "#Calling product with three numbers\n",
    "product(2,3, 4,5,6,7,8,9,10,11)"
   ]
  },
  {
   "cell_type": "code",
   "execution_count": 107,
   "metadata": {},
   "outputs": [
    {
     "name": "stdout",
     "output_type": "stream",
     "text": [
      "<class 'tuple'>\n"
     ]
    },
    {
     "data": {
      "text/plain": [
       "6"
      ]
     },
     "execution_count": 107,
     "metadata": {},
     "output_type": "execute_result"
    }
   ],
   "source": [
    "#Calling product with two numbers\n",
    "product(2, 3)"
   ]
  },
  {
   "cell_type": "code",
   "execution_count": 166,
   "metadata": {},
   "outputs": [
    {
     "name": "stdout",
     "output_type": "stream",
     "text": [
      "<class 'tuple'>\n",
      "Sum: 21\n"
     ]
    }
   ],
   "source": [
    "'''In Python, we can pass a variable number of arguments to a function using special symbols. There are two special symbols:\n",
    "\n",
    "*args (Non Keyword Arguments)\n",
    "**kwargs (Keyword Arguments) '''\n",
    "\n",
    "'''We use *args and **kwargs as an argument when we are unsure about the number of arguments to pass in the functions. '''\n",
    "\n",
    "def adder(*num): \n",
    "    print(type(num))\n",
    "    sum = 0\n",
    "    \n",
    "    for n in num:\n",
    "        sum = sum + n\n",
    "    print(\"Sum:\",sum)\n",
    "\n",
    "adder(1,2,3,4,5,6)"
   ]
  },
  {
   "cell_type": "code",
   "execution_count": 108,
   "metadata": {},
   "outputs": [
    {
     "name": "stdout",
     "output_type": "stream",
     "text": [
      "Output type is:  <class 'dict'>\n",
      "a 1\n",
      "b 2\n",
      "c 3\n",
      "d 4\n",
      "e 5\n"
     ]
    }
   ],
   "source": [
    "def printinfo(**a): # **kwargs (keyword arguments)\n",
    "    print(\"Output type is: \",type(a))\n",
    "    for key,value in a.items():\n",
    "        print(key,value)\n",
    "\n",
    "printinfo(a=1,b=2,c=3,d=4,e=5)"
   ]
  },
  {
   "cell_type": "code",
   "execution_count": 110,
   "metadata": {},
   "outputs": [
    {
     "name": "stdout",
     "output_type": "stream",
     "text": [
      "Data type of argument: <class 'dict'>\n",
      "Firstname is Ashwin\n",
      "Lastname is Ravi\n",
      "Age is 100\n",
      "Phone is 9686175911\n"
     ]
    }
   ],
   "source": [
    "def intro(**data): # **kwargs refers to keyword args \n",
    "    print(\"Data type of argument:\",type(data))\n",
    "    for key, value in data.items():\n",
    "        print(\"{} is {}\".format(key,value))\n",
    "\n",
    "intro(Firstname=\"Ashwin\", Lastname=\"Ravi\", Age=100, Phone=9686175911) "
   ]
  },
  {
   "cell_type": "code",
   "execution_count": 111,
   "metadata": {},
   "outputs": [
    {
     "name": "stdout",
     "output_type": "stream",
     "text": [
      "Data type of argument: <class 'dict'>\n",
      "Firstname is Kevin\n",
      "Lastname is Joshua\n",
      "Email is joshuakevin123@nomail.com\n",
      "Country is India\n",
      "Age is 99\n",
      "Phone is 9898989899\n"
     ]
    }
   ],
   "source": [
    "intro(Firstname=\"Kevin\", Lastname=\"Joshua\", Email=\"joshuakevin123@nomail.com\", Country=\"India\", Age=99, Phone=9898989899)"
   ]
  },
  {
   "cell_type": "markdown",
   "metadata": {},
   "source": [
    "#### Points to Remember:\n",
    "\n",
    "##### *args and *kwargs are special keyword which allows function to take variable length argument.\n",
    "\n",
    "##### *args passes variable number of non-keyworded arguments tuple and on which operation of the tuple can be performed.\n",
    "\n",
    "##### **kwargs passes variable number of keyword arguments dictionary to function on which operation of a dictionary can be performed.\n",
    "\n",
    "#####  *args and **kwargs make the function flexible."
   ]
  },
  {
   "cell_type": "markdown",
   "metadata": {},
   "source": [
    "### A lambda function is a small anonymous function.\n",
    "\n",
    "#### A lambda function can take any number of arguments, but can only have one expression."
   ]
  },
  {
   "cell_type": "markdown",
   "metadata": {},
   "source": [
    "Syntax\n",
    "\n",
    "lambda arguments : expression"
   ]
  },
  {
   "cell_type": "code",
   "execution_count": 1,
   "metadata": {},
   "outputs": [
    {
     "data": {
      "text/plain": [
       "15"
      ]
     },
     "execution_count": 1,
     "metadata": {},
     "output_type": "execute_result"
    }
   ],
   "source": [
    "'''Simple lambda example'''\n",
    "\n",
    "x = lambda a : a + 10 # lambda defination \n",
    "x(5) # lambda function call "
   ]
  },
  {
   "cell_type": "code",
   "execution_count": 113,
   "metadata": {},
   "outputs": [
    {
     "name": "stdout",
     "output_type": "stream",
     "text": [
      "13\n"
     ]
    }
   ],
   "source": [
    "x = lambda a, b, c : a + b + c # here x is \n",
    "print(x(5, 6, 2)) "
   ]
  },
  {
   "cell_type": "markdown",
   "metadata": {},
   "source": [
    "### Why Use Lambda Functions?\n",
    "\n",
    "In Python, we generally use it as an argument to a higher-order function (a function that takes in other functions as arguments). Lambda functions are used along with built-in functions like filter(), map()"
   ]
  },
  {
   "cell_type": "code",
   "execution_count": 115,
   "metadata": {},
   "outputs": [
    {
     "name": "stdout",
     "output_type": "stream",
     "text": [
      "[4, 6, 8, 12, 44, 12]\n"
     ]
    }
   ],
   "source": [
    "'''Program to filter out only the even items from a list'''\n",
    "\n",
    "my_list = [1, 5, 4, 6, 8, 11, 3, 12,33,44,55,12]\n",
    "\n",
    "new_list = list(filter(lambda x: (x%2 == 0) , my_list))\n",
    "\n",
    "# Output: [4, 6, 8, 12]\n",
    "print(new_list)"
   ]
  },
  {
   "cell_type": "code",
   "execution_count": 117,
   "metadata": {},
   "outputs": [
    {
     "name": "stdout",
     "output_type": "stream",
     "text": [
      "[10, 40, 90, 30]\n"
     ]
    }
   ],
   "source": [
    "'''WAP to multiply two lists '''\n",
    "\n",
    "list_a = [1, 2, 3,5]\n",
    "list_b = [10, 20, 30,6]\n",
    "d=map(lambda a, b: a*b,list_a,list_b)\n",
    "# print(d)\n",
    "print(list(d))"
   ]
  },
  {
   "cell_type": "code",
   "execution_count": 3,
   "metadata": {},
   "outputs": [
    {
     "name": "stdout",
     "output_type": "stream",
     "text": [
      "22\n"
     ]
    }
   ],
   "source": [
    "'''possible to have a lambda function inside a regular function def'''\n",
    "\n",
    "def myfunc(n):# outer function \n",
    "    return lambda a : a * n # inner small function \n",
    "\n",
    "x = myfunc(2)\n",
    "y=x(11)\n",
    "print(y)\n"
   ]
  },
  {
   "cell_type": "markdown",
   "metadata": {},
   "source": [
    "### Scope of Variables\n",
    "\n",
    "All variables in a program may not be accessible at all locations in that program. This depends on where you have declared a variable.\n",
    "\n",
    "The scope of a variable determines the portion of the program where you can access a particular identifier. "
   ]
  },
  {
   "cell_type": "code",
   "execution_count": 63,
   "metadata": {},
   "outputs": [
    {
     "name": "stdout",
     "output_type": "stream",
     "text": [
      "0\n",
      "10\n",
      "10\n"
     ]
    }
   ],
   "source": [
    "'''Use case of global variable '''\n",
    "\n",
    "total = 0 \n",
    "\n",
    "def sum( arg1 ):\n",
    "    global total # uses the existing variable defined outside of the function defination \n",
    "#     total = 0 # comment this and uncomment abobe \n",
    "    total+=arg1\n",
    "    return total \n",
    "\n",
    "# Now you can call sum function\n",
    "print(total) # 0\n",
    "a=sum( 10) # a=10\n",
    "print(total) # 0\n",
    "print(a) # 10 \n"
   ]
  },
  {
   "cell_type": "code",
   "execution_count": 65,
   "metadata": {},
   "outputs": [
    {
     "name": "stdout",
     "output_type": "stream",
     "text": [
      "inner: ravi\n",
      "outer: ravi\n"
     ]
    }
   ],
   "source": [
    "'''Use case of a nonlocal variable'''\n",
    "\n",
    "'''Nonlocal variable are used in nested function whose local scope is not defined. \n",
    "This means, the variable can be neither in the local nor the global scope.'''\n",
    "\n",
    "def outer():\n",
    "    x = \"ash\"\n",
    "    \n",
    "    def inner():\n",
    "        nonlocal x #non local refers to the outside function variable \n",
    "        x = \"ravi\"\n",
    "        print(\"inner:\", x)\n",
    "    \n",
    "    inner()\n",
    "    print(\"outer:\", x)\n",
    "\n",
    "outer() "
   ]
  },
  {
   "cell_type": "markdown",
   "metadata": {},
   "source": [
    "<b> Returning multiple values from function <b>"
   ]
  },
  {
   "cell_type": "markdown",
   "metadata": {},
   "source": [
    "Lets write a function that returns the min, max values from a function that accepts list of numbers as input."
   ]
  },
  {
   "cell_type": "code",
   "execution_count": 43,
   "metadata": {},
   "outputs": [],
   "source": [
    "def get_min_max(list1):\n",
    "    min1 = min(list1)\n",
    "    max1 = max(list1)\n",
    "    return min1, max1"
   ]
  },
  {
   "cell_type": "code",
   "execution_count": 44,
   "metadata": {},
   "outputs": [
    {
     "name": "stdout",
     "output_type": "stream",
     "text": [
      "minimum    1\n",
      "maximum    56\n"
     ]
    }
   ],
   "source": [
    "list1 = [ 23, 45, 1, 56, 40] \n",
    "minimum, maximum = get_min_max(list1) # multiple assignment \n",
    "print('minimum   ', minimum)\n",
    "print('maximum   ', maximum)"
   ]
  },
  {
   "cell_type": "code",
   "execution_count": 131,
   "metadata": {},
   "outputs": [
    {
     "name": "stdout",
     "output_type": "stream",
     "text": [
      "True\n",
      "-1\n",
      "True\n"
     ]
    }
   ],
   "source": [
    "# # #Solution 1\n",
    "\n",
    "# string =\"text78text56\"\n",
    "\n",
    "# #determining whether a string is alphanumeric or not\n",
    "# print(string.isalnum()) # using alnum() will return True if there is no space bw substrings, else False with a comb of letters and numbers \n",
    "\n",
    "# #finding out index of a substring\n",
    "# print(string.find(\"is\"))\n",
    "\n",
    "\n",
    "# #finding out whether string is identifier or not \n",
    "# print(string.isidentifier()) # works for invalid identifiers / not just for empty string "
   ]
  },
  {
   "cell_type": "markdown",
   "metadata": {},
   "source": [
    "Q2. Write a function called draw_rectangle that takes two arguments length and height and prints an outcome of length * height box consisting of asterisks. <br> \n",
    "\n",
    "- Call that function with length = 5 and height = 3\n",
    "\n",
    "- Call that function with length = 10 and height = 5\n"
   ]
  },
  {
   "cell_type": "code",
   "execution_count": 29,
   "metadata": {},
   "outputs": [
    {
     "name": "stdout",
     "output_type": "stream",
     "text": [
      "**********\n",
      "**********\n",
      "**********\n",
      "**********\n",
      "**********\n"
     ]
    }
   ],
   "source": [
    "# # Solution 2\n",
    "\n",
    "# def draw_rectange(length, height):\n",
    "#     for i in range(height):\n",
    "#         print(\"*\" * length)\n",
    "        \n",
    "# # draw_rectange(5, 3)\n",
    "# draw_rectange(10, 5)"
   ]
  },
  {
   "cell_type": "markdown",
   "metadata": {},
   "source": [
    "Q3. Write a function called sum_digits that is given an integer num and returns the sum of the digits of sum."
   ]
  },
  {
   "cell_type": "code",
   "execution_count": 132,
   "metadata": {},
   "outputs": [
    {
     "name": "stdout",
     "output_type": "stream",
     "text": [
      "sum of digits of number  1234  is  10\n"
     ]
    }
   ],
   "source": [
    "#Solution 3\n",
    "# def sum_digits(num):\n",
    "#     sum = 0 \n",
    "    \n",
    "#     string = str(num)\n",
    "    \n",
    "#     for letter in string:\n",
    "#         number = int(letter)\n",
    "#         sum = sum + number\n",
    "    \n",
    "#     return sum \n",
    "    \n",
    "    \n",
    "# #Test the function    \n",
    "# number = 1234\n",
    "# sum = sum_digits(number)\n",
    "# print(\"sum of digits of number \", number , \" is \", sum )\n",
    "\n",
    "# number = 124\n",
    "# sum = sum_digits(number)\n",
    "# print(\"sum of digits of number \", number, \" is \", sum )"
   ]
  },
  {
   "cell_type": "markdown",
   "metadata": {},
   "source": [
    "Q4. Write a function called len_upper that accepts string as input and returns the number of capital letters present in the string. If no capital letters are present in the then prints the error message in the function then returns -1 as output."
   ]
  },
  {
   "cell_type": "code",
   "execution_count": 133,
   "metadata": {},
   "outputs": [
    {
     "name": "stdout",
     "output_type": "stream",
     "text": [
      "The count of capital letters in the string  AbCdEf  is  3\n"
     ]
    }
   ],
   "source": [
    "# #Solution 4\n",
    "\n",
    "# def len_upper(string):\n",
    "    \n",
    "#     count = 0 \n",
    "    \n",
    "#     for letter in string:\n",
    "#         if letter.isupper():\n",
    "#             count = count + 1\n",
    "    \n",
    "#     if count == 0 :\n",
    "# #         print(\"No capital letters are present in the given string \", string)\n",
    "#         count = -1\n",
    "            \n",
    "#     return count\n",
    "\n",
    "# #Test the function \n",
    "# string = \"AbCdEf\"\n",
    "# count = len_upper(string)\n",
    "# print(\"The count of capital letters in the string \", string , \" is \", count )\n",
    "\n",
    "# # string = \"abcdef\"\n",
    "# # count = len_upper(string)\n",
    "# # print(\"The count of capital letters in the string \", string , \" is \", count )"
   ]
  },
  {
   "cell_type": "markdown",
   "metadata": {},
   "source": [
    "\n",
    "\n",
    "Q5.Write a function call one_way that takes two strings and returns True if the strings are of the same length and differ in exactly one letter, like bike/hike or water/wafer.\n",
    "\n"
   ]
  },
  {
   "cell_type": "code",
   "execution_count": 134,
   "metadata": {},
   "outputs": [
    {
     "name": "stdout",
     "output_type": "stream",
     "text": [
      "False\n"
     ]
    }
   ],
   "source": [
    "# # # #Solution5\n",
    "# def one_way(string1, string2):\n",
    "    \n",
    "#     is_one_way = False\n",
    "#     count = 0 \n",
    "    \n",
    "#     len1 = len(string1) # 4\n",
    "#     len2 = len(string2) # 4 \n",
    "    \n",
    "#     if(len1 == len2): # True \n",
    "#         for i in range(len(string1)): # i=0->4 ; i=1 , i=2 ,i=3 \n",
    "#             if string1[i] != string2[i]: # string1[0] != string2[0] -> b != h -> True , i!=i -> False ; k!=k -> False ; e!=e -> False \n",
    "#                 count = count + 1 # count=0+1-> 1 \n",
    "    \n",
    "#     if count == 1: # 1==1 -> True \n",
    "#         is_one_way = True \n",
    "        \n",
    "#     return is_one_way\n",
    "\n",
    "# # string1 = \"bike\"\n",
    "# # string2 = \"hike\"\n",
    "\n",
    "# # is_one_way = one_way(string1, string2)\n",
    "# # print(is_one_way)\n",
    "\n",
    "\n",
    "# # string1 = \"bike\"\n",
    "# # string2 = \"hiki\"\n",
    "\n",
    "# # is_one_way = one_way(string1, string2)\n",
    "# # print(is_one_way)"
   ]
  },
  {
   "cell_type": "markdown",
   "metadata": {},
   "source": [
    "Q6. Recall that if s is string, then s.find('a') will find the location of fist a in s. The problem is that it does not find the location of every a. Write a function called findall that given a string and a single character, returns a list containing all of the locations of that character in the string. It should return an empty list if there are no occurences o fthe character in list. \n",
    "\n"
   ]
  },
  {
   "cell_type": "code",
   "execution_count": 135,
   "metadata": {},
   "outputs": [
    {
     "name": "stdout",
     "output_type": "stream",
     "text": [
      "Location list :  [0, 3]\n"
     ]
    }
   ],
   "source": [
    "#Solution6\n",
    "\n",
    "# def findall(string, character):\n",
    "#     location_list = []\n",
    "    \n",
    "#     for i in range(len(string)): # i=0,i=1,i=2,i=3\n",
    "#         if character == string[i]: #a==a , a==d ,a==f,a==a\n",
    "#             location_list.append(i) # [0,3]\n",
    "    \n",
    "#     return location_list\n",
    "\n",
    "# s = 'adfa'\n",
    "# char = 'a'\n",
    "# outcome = findall(s, char)\n",
    "# print(\"Location list : \", outcome)\n",
    "\n",
    "# s = 'adfa'\n",
    "# char = '1'\n",
    "# outcome = findall(s, char)\n",
    "# print(\"Location list : \", outcome)"
   ]
  },
  {
   "cell_type": "code",
   "execution_count": null,
   "metadata": {},
   "outputs": [],
   "source": []
  }
 ],
 "metadata": {
  "kernelspec": {
   "display_name": "Python 3",
   "language": "python",
   "name": "python3"
  },
  "language_info": {
   "codemirror_mode": {
    "name": "ipython",
    "version": 3
   },
   "file_extension": ".py",
   "mimetype": "text/x-python",
   "name": "python",
   "nbconvert_exporter": "python",
   "pygments_lexer": "ipython3",
   "version": "3.7.4"
  }
 },
 "nbformat": 4,
 "nbformat_minor": 4
}
