{
 "cells": [
  {
   "cell_type": "code",
   "execution_count": 4,
   "metadata": {},
   "outputs": [
    {
     "name": "stdout",
     "output_type": "stream",
     "text": [
      "Hello World!!\n",
      "We are gonna be experts soon!!\n"
     ]
    }
   ],
   "source": [
    "print(\"Hello World!!\\nWe are gonna be experts soon!!\")"
   ]
  },
  {
   "cell_type": "code",
   "execution_count": 20,
   "metadata": {},
   "outputs": [],
   "source": [
    "name = input('''Tell Name bro...''')"
   ]
  },
  {
   "cell_type": "code",
   "execution_count": 21,
   "metadata": {},
   "outputs": [
    {
     "name": "stdout",
     "output_type": "stream",
     "text": [
      "Name entered was wow\n"
     ]
    }
   ],
   "source": [
    "print(\"Name entered was\",name)"
   ]
  },
  {
   "cell_type": "code",
   "execution_count": 22,
   "metadata": {},
   "outputs": [],
   "source": [
    "age = input(\"What's your age?\")"
   ]
  },
  {
   "cell_type": "code",
   "execution_count": 23,
   "metadata": {},
   "outputs": [
    {
     "name": "stdout",
     "output_type": "stream",
     "text": [
      "Age is 72 and its type is <class 'int'>\n"
     ]
    }
   ],
   "source": [
    "Age = int(age)\n",
    "print(\"Age is\", Age ,\"and its type is\",type(Age))"
   ]
  },
  {
   "cell_type": "code",
   "execution_count": 24,
   "metadata": {},
   "outputs": [
    {
     "data": {
      "text/plain": [
       "'This is apparantly a doc string which goes to console'"
      ]
     },
     "execution_count": 24,
     "metadata": {},
     "output_type": "execute_result"
    }
   ],
   "source": [
    "'''This is apparantly a doc string which goes to console'''"
   ]
  },
  {
   "cell_type": "code",
   "execution_count": 26,
   "metadata": {},
   "outputs": [
    {
     "name": "stdout",
     "output_type": "stream",
     "text": [
      "1\n",
      "2\n",
      "3\n",
      "4\n"
     ]
    }
   ],
   "source": [
    "a,b,c,d = 1,2,\"3\",'4'\n",
    "print(a,b,c,d,sep='\\n')"
   ]
  },
  {
   "cell_type": "code",
   "execution_count": 30,
   "metadata": {},
   "outputs": [
    {
     "name": "stdout",
     "output_type": "stream",
     "text": [
      "Help on built-in function print in module builtins:\n",
      "\n",
      "print(...)\n",
      "    print(value, ..., sep=' ', end='\\n', file=sys.stdout, flush=False)\n",
      "    \n",
      "    Prints the values to a stream, or to sys.stdout by default.\n",
      "    Optional keyword arguments:\n",
      "    file:  a file-like object (stream); defaults to the current sys.stdout.\n",
      "    sep:   string inserted between values, default a space.\n",
      "    end:   string appended after the last value, default a newline.\n",
      "    flush: whether to forcibly flush the stream.\n",
      "\n"
     ]
    }
   ],
   "source": [
    "help(print)"
   ]
  },
  {
   "cell_type": "code",
   "execution_count": 32,
   "metadata": {},
   "outputs": [
    {
     "name": "stdout",
     "output_type": "stream",
     "text": [
      "2\n"
     ]
    }
   ],
   "source": [
    "a = 1+1\n",
    "print(a)"
   ]
  },
  {
   "cell_type": "code",
   "execution_count": 43,
   "metadata": {},
   "outputs": [
    {
     "name": "stdout",
     "output_type": "stream",
     "text": [
      "2.9837467382938746e+21\n",
      "2.9837467382938746e+21\n"
     ]
    }
   ],
   "source": [
    "x = 2.5543\n",
    "y = 2983746738293874637257.8743857483998475849302980543454345676543455433789877656754345642345625742562345423254452463530398447489382789384758439827839487832\n",
    "z = 31.64\n",
    "print(x+y+z)\n",
    "print(round(x+y+z,1))"
   ]
  },
  {
   "cell_type": "code",
   "execution_count": 44,
   "metadata": {},
   "outputs": [
    {
     "name": "stdout",
     "output_type": "stream",
     "text": [
      "['ALLOW_THREADS', 'AxisError', 'BUFSIZE', 'CLIP', 'ComplexWarning', 'DataSource', 'ERR_CALL', 'ERR_DEFAULT', 'ERR_IGNORE', 'ERR_LOG', 'ERR_PRINT', 'ERR_RAISE', 'ERR_WARN', 'FLOATING_POINT_SUPPORT', 'FPE_DIVIDEBYZERO', 'FPE_INVALID', 'FPE_OVERFLOW', 'FPE_UNDERFLOW', 'False_', 'Inf', 'Infinity', 'MAXDIMS', 'MAY_SHARE_BOUNDS', 'MAY_SHARE_EXACT', 'ModuleDeprecationWarning', 'NAN', 'NINF', 'NZERO', 'NaN', 'PINF', 'PZERO', 'RAISE', 'RankWarning', 'SHIFT_DIVIDEBYZERO', 'SHIFT_INVALID', 'SHIFT_OVERFLOW', 'SHIFT_UNDERFLOW', 'ScalarType', 'Tester', 'TooHardError', 'True_', 'UFUNC_BUFSIZE_DEFAULT', 'UFUNC_PYVALS_NAME', 'VisibleDeprecationWarning', 'WRAP', '_CopyMode', '_NoValue', '_UFUNC_API', '__NUMPY_SETUP__', '__all__', '__builtins__', '__cached__', '__config__', '__deprecated_attrs__', '__dir__', '__doc__', '__expired_functions__', '__file__', '__getattr__', '__git_version__', '__loader__', '__name__', '__package__', '__path__', '__spec__', '__version__', '_add_newdoc_ufunc', '_distributor_init', '_financial_names', '_from_dlpack', '_globals', '_mat', '_pytesttester', '_version', 'abs', 'absolute', 'add', 'add_docstring', 'add_newdoc', 'add_newdoc_ufunc', 'alen', 'all', 'allclose', 'alltrue', 'amax', 'amin', 'angle', 'any', 'append', 'apply_along_axis', 'apply_over_axes', 'arange', 'arccos', 'arccosh', 'arcsin', 'arcsinh', 'arctan', 'arctan2', 'arctanh', 'argmax', 'argmin', 'argpartition', 'argsort', 'argwhere', 'around', 'array', 'array2string', 'array_equal', 'array_equiv', 'array_repr', 'array_split', 'array_str', 'asanyarray', 'asarray', 'asarray_chkfinite', 'ascontiguousarray', 'asfarray', 'asfortranarray', 'asmatrix', 'asscalar', 'atleast_1d', 'atleast_2d', 'atleast_3d', 'average', 'bartlett', 'base_repr', 'binary_repr', 'bincount', 'bitwise_and', 'bitwise_not', 'bitwise_or', 'bitwise_xor', 'blackman', 'block', 'bmat', 'bool8', 'bool_', 'broadcast', 'broadcast_arrays', 'broadcast_shapes', 'broadcast_to', 'busday_count', 'busday_offset', 'busdaycalendar', 'byte', 'byte_bounds', 'bytes0', 'bytes_', 'c_', 'can_cast', 'cast', 'cbrt', 'cdouble', 'ceil', 'cfloat', 'char', 'character', 'chararray', 'choose', 'clip', 'clongdouble', 'clongfloat', 'column_stack', 'common_type', 'compare_chararrays', 'compat', 'complex128', 'complex256', 'complex64', 'complex_', 'complexfloating', 'compress', 'concatenate', 'conj', 'conjugate', 'convolve', 'copy', 'copysign', 'copyto', 'core', 'corrcoef', 'correlate', 'cos', 'cosh', 'count_nonzero', 'cov', 'cross', 'csingle', 'ctypeslib', 'cumprod', 'cumproduct', 'cumsum', 'datetime64', 'datetime_as_string', 'datetime_data', 'deg2rad', 'degrees', 'delete', 'deprecate', 'deprecate_with_doc', 'diag', 'diag_indices', 'diag_indices_from', 'diagflat', 'diagonal', 'diff', 'digitize', 'disp', 'divide', 'divmod', 'dot', 'double', 'dsplit', 'dstack', 'dtype', 'e', 'ediff1d', 'einsum', 'einsum_path', 'emath', 'empty', 'empty_like', 'equal', 'errstate', 'euler_gamma', 'exp', 'exp2', 'expand_dims', 'expm1', 'extract', 'eye', 'fabs', 'fastCopyAndTranspose', 'fft', 'fill_diagonal', 'find_common_type', 'finfo', 'fix', 'flatiter', 'flatnonzero', 'flexible', 'flip', 'fliplr', 'flipud', 'float128', 'float16', 'float32', 'float64', 'float_', 'float_power', 'floating', 'floor', 'floor_divide', 'fmax', 'fmin', 'fmod', 'format_float_positional', 'format_float_scientific', 'format_parser', 'frexp', 'frombuffer', 'fromfile', 'fromfunction', 'fromiter', 'frompyfunc', 'fromregex', 'fromstring', 'full', 'full_like', 'gcd', 'generic', 'genfromtxt', 'geomspace', 'get_array_wrap', 'get_include', 'get_printoptions', 'getbufsize', 'geterr', 'geterrcall', 'geterrobj', 'gradient', 'greater', 'greater_equal', 'half', 'hamming', 'hanning', 'heaviside', 'histogram', 'histogram2d', 'histogram_bin_edges', 'histogramdd', 'hsplit', 'hstack', 'hypot', 'i0', 'identity', 'iinfo', 'imag', 'in1d', 'index_exp', 'indices', 'inexact', 'inf', 'info', 'infty', 'inner', 'insert', 'int0', 'int16', 'int32', 'int64', 'int8', 'int_', 'intc', 'integer', 'interp', 'intersect1d', 'intp', 'invert', 'is_busday', 'isclose', 'iscomplex', 'iscomplexobj', 'isfinite', 'isfortran', 'isin', 'isinf', 'isnan', 'isnat', 'isneginf', 'isposinf', 'isreal', 'isrealobj', 'isscalar', 'issctype', 'issubclass_', 'issubdtype', 'issubsctype', 'iterable', 'ix_', 'kaiser', 'kernel_version', 'kron', 'lcm', 'ldexp', 'left_shift', 'less', 'less_equal', 'lexsort', 'lib', 'linalg', 'linspace', 'little_endian', 'load', 'loadtxt', 'log', 'log10', 'log1p', 'log2', 'logaddexp', 'logaddexp2', 'logical_and', 'logical_not', 'logical_or', 'logical_xor', 'logspace', 'longcomplex', 'longdouble', 'longfloat', 'longlong', 'lookfor', 'ma', 'mask_indices', 'mat', 'math', 'matmul', 'matrix', 'matrixlib', 'max', 'maximum', 'maximum_sctype', 'may_share_memory', 'mean', 'median', 'memmap', 'meshgrid', 'mgrid', 'min', 'min_scalar_type', 'minimum', 'mintypecode', 'mod', 'modf', 'moveaxis', 'msort', 'multiply', 'nan', 'nan_to_num', 'nanargmax', 'nanargmin', 'nancumprod', 'nancumsum', 'nanmax', 'nanmean', 'nanmedian', 'nanmin', 'nanpercentile', 'nanprod', 'nanquantile', 'nanstd', 'nansum', 'nanvar', 'nbytes', 'ndarray', 'ndenumerate', 'ndim', 'ndindex', 'nditer', 'negative', 'nested_iters', 'newaxis', 'nextafter', 'nonzero', 'not_equal', 'numarray', 'number', 'obj2sctype', 'object0', 'object_', 'ogrid', 'oldnumeric', 'ones', 'ones_like', 'os', 'outer', 'packbits', 'pad', 'partition', 'percentile', 'pi', 'piecewise', 'place', 'poly', 'poly1d', 'polyadd', 'polyder', 'polydiv', 'polyfit', 'polyint', 'polymul', 'polynomial', 'polysub', 'polyval', 'positive', 'power', 'printoptions', 'prod', 'product', 'promote_types', 'ptp', 'put', 'put_along_axis', 'putmask', 'quantile', 'r_', 'rad2deg', 'radians', 'random', 'ravel', 'ravel_multi_index', 'real', 'real_if_close', 'rec', 'recarray', 'recfromcsv', 'recfromtxt', 'reciprocal', 'record', 'remainder', 'repeat', 'require', 'reshape', 'resize', 'result_type', 'right_shift', 'rint', 'roll', 'rollaxis', 'roots', 'rot90', 'round', 'round_', 'row_stack', 's_', 'safe_eval', 'save', 'savetxt', 'savez', 'savez_compressed', 'sctype2char', 'sctypeDict', 'sctypes', 'searchsorted', 'select', 'set_numeric_ops', 'set_printoptions', 'set_string_function', 'setbufsize', 'setdiff1d', 'seterr', 'seterrcall', 'seterrobj', 'setxor1d', 'shape', 'shares_memory', 'short', 'show_config', 'sign', 'signbit', 'signedinteger', 'sin', 'sinc', 'single', 'singlecomplex', 'sinh', 'size', 'sometrue', 'sort', 'sort_complex', 'source', 'spacing', 'split', 'sqrt', 'square', 'squeeze', 'stack', 'std', 'str0', 'str_', 'string_', 'subtract', 'sum', 'swapaxes', 'sys', 'take', 'take_along_axis', 'tan', 'tanh', 'tensordot', 'test', 'testing', 'tile', 'timedelta64', 'trace', 'tracemalloc_domain', 'transpose', 'trapz', 'tri', 'tril', 'tril_indices', 'tril_indices_from', 'trim_zeros', 'triu', 'triu_indices', 'triu_indices_from', 'true_divide', 'trunc', 'typecodes', 'typename', 'ubyte', 'ufunc', 'uint', 'uint0', 'uint16', 'uint32', 'uint64', 'uint8', 'uintc', 'uintp', 'ulonglong', 'unicode_', 'union1d', 'unique', 'unpackbits', 'unravel_index', 'unsignedinteger', 'unwrap', 'use_hugepage', 'ushort', 'vander', 'var', 'vdot', 'vectorize', 'version', 'void', 'void0', 'vsplit', 'vstack', 'warnings', 'where', 'who', 'zeros', 'zeros_like']\n"
     ]
    }
   ],
   "source": [
    "import numpy as np\n",
    "print(dir(np))"
   ]
  },
  {
   "cell_type": "code",
   "execution_count": 50,
   "metadata": {},
   "outputs": [
    {
     "name": "stdout",
     "output_type": "stream",
     "text": [
      "(-4.5+28.3j)\n",
      "<class 'int'>\n"
     ]
    }
   ],
   "source": [
    "x = 7.1 + 10.5j\n",
    "y = 4.6 - 17.8j\n",
    "a = -7\n",
    "\n",
    "z = x - y + a\n",
    "\n",
    "print(z)\n",
    "\n",
    "print(type(a))"
   ]
  },
  {
   "cell_type": "code",
   "execution_count": 49,
   "metadata": {},
   "outputs": [
    {
     "name": "stdout",
     "output_type": "stream",
     "text": [
      "27.0\n"
     ]
    }
   ],
   "source": [
    "print(z.imag)"
   ]
  },
  {
   "cell_type": "code",
   "execution_count": 51,
   "metadata": {},
   "outputs": [
    {
     "name": "stdout",
     "output_type": "stream",
     "text": [
      "(44+5j)\n"
     ]
    }
   ],
   "source": [
    "z = complex(input(\"enter the complex Number\"))\n",
    "print(z)"
   ]
  },
  {
   "cell_type": "code",
   "execution_count": 54,
   "metadata": {},
   "outputs": [
    {
     "name": "stdout",
     "output_type": "stream",
     "text": [
      "True\n"
     ]
    }
   ],
   "source": [
    "lol = bool(input(\"No val for flase, anything else is true\"))\n",
    "print(lol)"
   ]
  },
  {
   "cell_type": "code",
   "execution_count": 71,
   "metadata": {},
   "outputs": [
    {
     "name": "stdout",
     "output_type": "stream",
     "text": [
      "(5+7j)\n",
      "<class 'complex'>\n",
      "<class 'float'>\n",
      "<class 'float'>\n"
     ]
    }
   ],
   "source": [
    "#int to complex\n",
    "\n",
    "a = 5.0\n",
    "b = 7.0\n",
    "j = 1j\n",
    "\n",
    "z = a + b*j\n",
    "\n",
    "print(z)\n",
    "print(type(z))\n",
    "print(type(a))\n",
    "print(type(b))"
   ]
  },
  {
   "cell_type": "code",
   "execution_count": 72,
   "metadata": {},
   "outputs": [
    {
     "name": "stdout",
     "output_type": "stream",
     "text": [
      "Complex number = (17.5+21.2j)\n",
      "Real Part =  17.5 \n",
      "Imaginary Part 21.2\n",
      "<class 'complex'>\n",
      "<class 'float'>\n",
      "<class 'float'>\n"
     ]
    }
   ],
   "source": [
    "#Complex to int\n",
    "\n",
    "z = 17.5 + 21.2j\n",
    "\n",
    "a = z.real\n",
    "b = z.imag\n",
    "\n",
    "print(\"Complex number =\",z)\n",
    "print(\"Real Part = \",a,\"\\nImaginary Part\",b)\n",
    "print(type(z))\n",
    "print(type(a))\n",
    "print(type(b))"
   ]
  },
  {
   "cell_type": "code",
   "execution_count": 75,
   "metadata": {},
   "outputs": [
    {
     "name": "stdout",
     "output_type": "stream",
     "text": [
      "0.0\n"
     ]
    }
   ],
   "source": [
    "x = 5j\n",
    "\n",
    "z = x.real\n",
    "\n",
    "print(z)"
   ]
  },
  {
   "cell_type": "code",
   "execution_count": 77,
   "metadata": {},
   "outputs": [
    {
     "data": {
      "text/plain": [
       "complex"
      ]
     },
     "execution_count": 77,
     "metadata": {},
     "output_type": "execute_result"
    }
   ],
   "source": [
    "z = eval(input(\"whatever you enter z takes that datatype\"))\n",
    "type(z)"
   ]
  },
  {
   "cell_type": "code",
   "execution_count": 80,
   "metadata": {},
   "outputs": [
    {
     "name": "stdout",
     "output_type": "stream",
     "text": [
      "254\n"
     ]
    }
   ],
   "source": [
    "q = 763//3 # quotent without decimal (floor division)\n",
    "print(q)"
   ]
  },
  {
   "cell_type": "code",
   "execution_count": 93,
   "metadata": {},
   "outputs": [
    {
     "data": {
      "text/plain": [
       "'atyp'"
      ]
     },
     "execution_count": 93,
     "metadata": {},
     "output_type": "execute_result"
    }
   ],
   "source": [
    "s = \"whatever you enter z takes that datatype\"\n",
    "\n",
    "s[-5 : -1]"
   ]
  },
  {
   "cell_type": "code",
   "execution_count": 4,
   "metadata": {},
   "outputs": [
    {
     "name": "stdout",
     "output_type": "stream",
     "text": [
      "whats up my dude this is Avyay\n"
     ]
    }
   ],
   "source": [
    "name = \"Avyay\"\n",
    "print(\"whats up my dude this is %s\"%name)"
   ]
  },
  {
   "cell_type": "code",
   "execution_count": 7,
   "metadata": {},
   "outputs": [
    {
     "name": "stdout",
     "output_type": "stream",
     "text": [
      "66.654 was the numeber of years\n"
     ]
    }
   ],
   "source": [
    "num = 66.6543456\n",
    "print(\"%.3f was the numeber of years\"%num)"
   ]
  },
  {
   "cell_type": "code",
   "execution_count": 8,
   "metadata": {},
   "outputs": [
    {
     "name": "stdout",
     "output_type": "stream",
     "text": [
      "whats up my dude this is 'Avyay'\n"
     ]
    }
   ],
   "source": [
    "name = \"Avyay\"\n",
    "print(\"whats up my dude this is %r\"%name) #r is a sting representation  quotes added"
   ]
  },
  {
   "cell_type": "code",
   "execution_count": 12,
   "metadata": {},
   "outputs": [
    {
     "name": "stdout",
     "output_type": "stream",
     "text": [
      "My name is Avyay and im from from Bengaluru\n",
      "My name is Avyay and im from from Bengaluru\n",
      "My name is Bengaluru and im from from Avyay\n"
     ]
    }
   ],
   "source": [
    "print(\"My name is {} and im from from {}\" .format(\"Avyay\", \"Bengaluru\"))\n",
    "print(\"My name is {0} and im from from {1}\" .format(\"Avyay\", \"Bengaluru\"))\n",
    "print(\"My name is {1} and im from from {0}\" .format(\"Avyay\", \"Bengaluru\"))\n",
    "\n"
   ]
  },
  {
   "cell_type": "code",
   "execution_count": 14,
   "metadata": {},
   "outputs": [
    {
     "name": "stdout",
     "output_type": "stream",
     "text": [
      "hello hello hello \n"
     ]
    }
   ],
   "source": [
    "print(\"{h}{h}{h}\" .format(h=\"hello \"))"
   ]
  },
  {
   "cell_type": "code",
   "execution_count": 16,
   "metadata": {},
   "outputs": [
    {
     "name": "stdout",
     "output_type": "stream",
     "text": [
      "He said his name is Ganesh.\n"
     ]
    }
   ],
   "source": [
    "name = \"Ganesh\"\n",
    "\n",
    "print(f\"He said his name is {name.capitalize()}.\")"
   ]
  },
  {
   "cell_type": "code",
   "execution_count": 18,
   "metadata": {},
   "outputs": [
    {
     "data": {
      "text/plain": [
       "True"
      ]
     },
     "execution_count": 18,
     "metadata": {},
     "output_type": "execute_result"
    }
   ],
   "source": [
    "str = \"Python is kinda slow no?\"\n",
    "search = \"slow\"\n",
    "str.find(search)\n",
    "str.startswith(\"Python\")"
   ]
  },
  {
   "cell_type": "code",
   "execution_count": 23,
   "metadata": {},
   "outputs": [],
   "source": [
    "stmt =  \"     ###Hello this is chennai super kings$$      \" # good example \n",
    "\n",
    "stmt = stmt.rstrip()\n",
    "stmt = stmt.lstrip()\n",
    "stmt = stmt.rstrip(\"$\")\n",
    "stmt = stmt.lstrip(\"#\")\n",
    "stmt = stmt.rstrip().lstrip().rstrip(\"$\").lstrip(\"#\")\n"
   ]
  },
  {
   "cell_type": "code",
   "execution_count": 17,
   "metadata": {},
   "outputs": [
    {
     "name": "stdout",
     "output_type": "stream",
     "text": [
      "['P', 'y', 't', 'h', 'o', 'n', ' ', 'i', 's', ' ', 'k', 'i', 'n', 'd', 'a', ' ', 's', 'l', 'o', 'w', ' ', 'n', 'o', '?']\n"
     ]
    }
   ],
   "source": [
    "str = \"Python is kinda slow no?\"\n",
    "str = list(str)\n",
    "print(str)"
   ]
  },
  {
   "cell_type": "code",
   "execution_count": 26,
   "metadata": {},
   "outputs": [
    {
     "name": "stdout",
     "output_type": "stream",
     "text": [
      "<class 'list'>\n",
      "<class 'list'>\n"
     ]
    }
   ],
   "source": [
    "list_A = []  #Initialises a list\n",
    "#or\n",
    "list_A = list()\n",
    "\n",
    "list_A = [13, 51, 12, 51, 71] #homogeneous\n",
    "list_B = ['3qw1', 4, 6.53, 44+17j, 'f', True] #Heterogenoeus\n",
    "print(type(list_A))\n",
    "print(type(list_B))"
   ]
  },
  {
   "cell_type": "code",
   "execution_count": 29,
   "metadata": {},
   "outputs": [
    {
     "name": "stdout",
     "output_type": "stream",
     "text": [
      "6\n",
      "71\n",
      "12\n",
      "[13, 51, 12, 51, 71, '3qw1', 4, 6.53, (44+17j), 'f', True]\n"
     ]
    }
   ],
   "source": [
    "print(len(list_B))\n",
    "print(max(list_A))\n",
    "print(min(list_A))\n",
    "print(list_A+list_B)"
   ]
  },
  {
   "cell_type": "code",
   "execution_count": 35,
   "metadata": {},
   "outputs": [
    {
     "name": "stdout",
     "output_type": "stream",
     "text": [
      "[65, 5, 6, 11, 532, 5]\n",
      "[65, 5, 6, 11, 532, 5, 65, 5, 6, 11, 532]\n"
     ]
    }
   ],
   "source": [
    "list_A.append(5)\n",
    "print(list_A)\n",
    "list_A.extend([65,5,6,11,532])\n",
    "print(list_A)"
   ]
  },
  {
   "cell_type": "code",
   "execution_count": 36,
   "metadata": {},
   "outputs": [
    {
     "data": {
      "text/plain": [
       "3"
      ]
     },
     "execution_count": 36,
     "metadata": {},
     "output_type": "execute_result"
    }
   ],
   "source": [
    "list_A.index(11)\n"
   ]
  },
  {
   "cell_type": "code",
   "execution_count": 41,
   "metadata": {},
   "outputs": [
    {
     "name": "stdout",
     "output_type": "stream",
     "text": [
      "[65, 5, 6, 11, 532, 5, 65, 5, 6, 11, 532, 23, 23, 23, 3, 3]\n"
     ]
    }
   ],
   "source": [
    "list_A.insert(len(list_A),3) #runninf this in another cell makes it add multiple instances into the list.\n",
    "print(list_A)"
   ]
  },
  {
   "cell_type": "code",
   "execution_count": 44,
   "metadata": {},
   "outputs": [
    {
     "data": {
      "text/plain": [
       "[65, 5, 6, 11, 532, 5, 65, 5, 6, 11, 532, 23, 23]"
      ]
     },
     "execution_count": 44,
     "metadata": {},
     "output_type": "execute_result"
    }
   ],
   "source": [
    "list_A.pop()\n",
    "list_A"
   ]
  },
  {
   "cell_type": "code",
   "execution_count": 47,
   "metadata": {},
   "outputs": [
    {
     "data": {
      "text/plain": [
       "[23, 23, 532, 11, 6, 5, 65, 5, 532, 11, 6, 5, 65]"
      ]
     },
     "execution_count": 47,
     "metadata": {},
     "output_type": "execute_result"
    }
   ],
   "source": [
    "list_A.reverse() #Reverses the elements in list_A\n",
    "list_A"
   ]
  },
  {
   "cell_type": "code",
   "execution_count": 49,
   "metadata": {},
   "outputs": [
    {
     "data": {
      "text/plain": [
       "[5, 5, 5, 6, 6, 11, 11, 23, 23, 65, 65, 532, 532]"
      ]
     },
     "execution_count": 49,
     "metadata": {},
     "output_type": "execute_result"
    }
   ],
   "source": [
    "list_A.sort() #reverse = false is defalult in ascending order?\n",
    "list_A"
   ]
  },
  {
   "cell_type": "code",
   "execution_count": 51,
   "metadata": {},
   "outputs": [
    {
     "name": "stdout",
     "output_type": "stream",
     "text": [
      "[1, 2, 3, 4, 5]\n",
      "[1, 2, 3, 4, 5]\n",
      "[71, 2, 3, 65, 5]\n",
      "[71, 2, 3, 65, 5]\n"
     ]
    }
   ],
   "source": [
    "A = [1,2,3,4,5]\n",
    "B=A\n",
    "print(A)\n",
    "print(B)\n",
    "\n",
    "A[3] = 65\n",
    "B[0] = 71\n",
    "print(A)\n",
    "print(B)"
   ]
  },
  {
   "cell_type": "code",
   "execution_count": 52,
   "metadata": {},
   "outputs": [
    {
     "data": {
      "text/plain": [
       "2"
      ]
     },
     "execution_count": 52,
     "metadata": {},
     "output_type": "execute_result"
    }
   ],
   "source": [
    "X = [1, 2, 3, 4, [5,2,1]]\n",
    "X[4][1]"
   ]
  },
  {
   "cell_type": "markdown",
   "metadata": {},
   "source": [
    "#### TUPLES"
   ]
  },
  {
   "cell_type": "code",
   "execution_count": 63,
   "metadata": {},
   "outputs": [
    {
     "name": "stdout",
     "output_type": "stream",
     "text": [
      "['a', 'b', 'c', 'd', 'e']\n",
      "6\n",
      "['e', 'd', 'c', 'b', 'a']\n"
     ]
    }
   ],
   "source": [
    "tuple_1 = ('a', 'b', 'c', 'd', 'e') #immutable\n",
    "tuple_2 = (1, 4.5, True, 43-5j, [1, 2, 3], (10 ,11, 2))\n",
    "X = list(tuple_1) #muttable now that its a list.\n",
    "print(X)\n",
    "print(len(tuple_2))\n",
    "print(list(reversed(tuple_1)))"
   ]
  },
  {
   "cell_type": "code",
   "execution_count": 68,
   "metadata": {},
   "outputs": [
    {
     "name": "stdout",
     "output_type": "stream",
     "text": [
      "[1, 2, 4, 5, 67, 7]\n"
     ]
    }
   ],
   "source": [
    "A = [1,2,4,5,67,7]\n",
    "print(A)"
   ]
  },
  {
   "cell_type": "code",
   "execution_count": 70,
   "metadata": {},
   "outputs": [
    {
     "data": {
      "text/plain": [
       "[1, 2, 5, 67, 7]"
      ]
     },
     "execution_count": 70,
     "metadata": {},
     "output_type": "execute_result"
    }
   ],
   "source": [
    "del A[2]\n",
    "A"
   ]
  },
  {
   "cell_type": "code",
   "execution_count": null,
   "metadata": {},
   "outputs": [],
   "source": []
  },
  {
   "cell_type": "markdown",
   "metadata": {},
   "source": [
    "#### SETS\n",
    "basically like sets in math"
   ]
  },
  {
   "cell_type": "code",
   "execution_count": 90,
   "metadata": {},
   "outputs": [
    {
     "name": "stdout",
     "output_type": "stream",
     "text": [
      "{'India', 'Australia', 'USA', 'Dubai', 'Tiwan', 'Japan', 'China'}\n",
      "{'India', 'Australia', 'Nepal', 'USA', 'Dubai', 'Tiwan', 'Japan', 'China'}\n"
     ]
    },
    {
     "data": {
      "text/plain": [
       "{0, 10, 20, 30, 40, 50, 60, 70, 80, 90}"
      ]
     },
     "execution_count": 90,
     "metadata": {},
     "output_type": "execute_result"
    }
   ],
   "source": [
    "empty_set = {}\n",
    "set_a = {i for i in range(0,100,10)}\n",
    "set_b = {'India', 'China', 'Tiwan', 'Japan','USA', 'Australia', 'Dubai', 'India'}\n",
    "print(set_b) # only unique elements, unordered, \n",
    "set_c = {}\n",
    "#set_a[0:3] #No indexing or slicing\n",
    "\n",
    "set_b.add('Nepal')\n",
    "print(set_b) \n",
    "\n",
    "set_a | set_b #same as set_a.union\n",
    "\n",
    "set_a & set_b # same as set_a.intersection\n",
    "\n",
    "set_b.update({'Qutar','Mongolia'})\n",
    "set_b\n",
    "set_a"
   ]
  },
  {
   "cell_type": "markdown",
   "metadata": {},
   "source": [
    "#### DICTIONARIES\n",
    "Very powerful"
   ]
  },
  {
   "cell_type": "code",
   "execution_count": 98,
   "metadata": {},
   "outputs": [
    {
     "name": "stdout",
     "output_type": "stream",
     "text": [
      "{'id': [1, 2], 'names': ['Avyay', 'Ashwin']}\n",
      "31\n"
     ]
    },
    {
     "data": {
      "text/plain": [
       "('May', 31)"
      ]
     },
     "execution_count": 98,
     "metadata": {},
     "output_type": "execute_result"
    }
   ],
   "source": [
    "dict_months = {'jan':31, 'Feb':28, 'Mar':31, 'Apr':30, 'May':31, 'June':30, 'July':31, 'Aug':31, 'Sept':30, 'Oct':31, 'Nov':30, 'Dec':31}\n",
    "dict_a = {1:'Ashwin', 2:'Avyay'}\n",
    "dict_b = {'id':[1,2], 'names':['Avyay', 'Ashwin']}\n",
    "print(dict_b)\n",
    "print(dict_months['Mar'])\n",
    "months = list(dict_months.items())\n",
    "months[4]\n"
   ]
  },
  {
   "cell_type": "code",
   "execution_count": 104,
   "metadata": {},
   "outputs": [
    {
     "name": "stdout",
     "output_type": "stream",
     "text": [
      "Avyay\n",
      "100\n",
      "20\n",
      "Aryan\n",
      "200\n",
      "19\n",
      "Nikil\n",
      "300\n",
      "13\n"
     ]
    }
   ],
   "source": [
    "people = [\n",
    "    {\n",
    "        'name':'Avyay',\n",
    "        'id':100,\n",
    "        'age':20\n",
    "    },\n",
    "    {\n",
    "        'name':'Aryan',\n",
    "        'id':200,\n",
    "        'age':19\n",
    "    },\n",
    "    {\n",
    "        'name':'Nikil',\n",
    "        'id':300,\n",
    "        'age':13\n",
    "    }\n",
    "]\n",
    "for i in range(0,len(people)):\n",
    "    print(people[i]['name'])\n",
    "    print(people[i]['id'])\n",
    "    print(people[i]['age'])"
   ]
  },
  {
   "cell_type": "markdown",
   "metadata": {},
   "source": [
    "#### CONTROL FLOW"
   ]
  },
  {
   "cell_type": "code",
   "execution_count": 7,
   "metadata": {},
   "outputs": [
    {
     "name": "stdout",
     "output_type": "stream",
     "text": [
      "3.141592653589793\n",
      "3.141592653589793\n"
     ]
    }
   ],
   "source": [
    "import math\n",
    "import numpy as np\n",
    "print(math.pi)\n",
    "print(np.pi)"
   ]
  },
  {
   "cell_type": "code",
   "execution_count": 41,
   "metadata": {},
   "outputs": [
    {
     "name": "stdout",
     "output_type": "stream",
     "text": [
      "the entered length in inches =  2.1653543307086616\n"
     ]
    }
   ],
   "source": [
    "len_cm = float(input(\"enter a length in cm\"))\n",
    "\n",
    "if len_cm < 0:\n",
    "    print(\"invalid length\")\n",
    "else:\n",
    "    print(\"the entered length in inches = \",len_cm/2.54 )"
   ]
  },
  {
   "cell_type": "code",
   "execution_count": 47,
   "metadata": {},
   "outputs": [
    {
     "name": "stdout",
     "output_type": "stream",
     "text": [
      "hi\n",
      " my\n",
      " name\n",
      " is\n",
      " avyay\n"
     ]
    }
   ],
   "source": [
    "sent = input(\"Enter a sentence\")\n",
    "i_priv = 0 \n",
    "for i in range(0,len(sent)):\n",
    "    if ' ' in sent[i]:\n",
    "        print(sent[i_priv:i])\n",
    "        i_priv = i\n",
    "print(sent[i_priv:i+1])"
   ]
  },
  {
   "cell_type": "code",
   "execution_count": 30,
   "metadata": {},
   "outputs": [
    {
     "name": "stdout",
     "output_type": "stream",
     "text": [
      "Vowel  a  is at position  1\n",
      "Vowel  a  is at position  4\n",
      "Vowel  i  is at position  7\n",
      "Vowel  e  is at position  10\n"
     ]
    }
   ],
   "source": [
    "sent = input(\"Enter a sentence\")\n",
    "for i in range(0,len(sent)):\n",
    "    if sent[i] == 'a':\n",
    "        print(\"Vowel \", sent[i],\" is at position \", i+1)\n",
    "    elif sent[i] == 'e':\n",
    "        print(\"Vowel \", sent[i],\" is at position \", i+1)\n",
    "    elif sent[i] == 'i':\n",
    "        print(\"Vowel \", sent[i],\" is at position \", i+1)\n",
    "    elif sent[i] == 'o':\n",
    "        print(\"Vowel \", sent[i],\" is at position \", i+1)\n",
    "    elif sent[i] == 'u':\n",
    "        print(\"Vowel \", sent[i],\" is at position \", i+1)\n",
    "\n",
    "\n",
    "\n",
    "\n"
   ]
  },
  {
   "cell_type": "code",
   "execution_count": 54,
   "metadata": {},
   "outputs": [
    {
     "name": "stdout",
     "output_type": "stream",
     "text": [
      "Word is not a pallindrome -  tomato\n"
     ]
    }
   ],
   "source": [
    "word = input(\"Enter a word\")\n",
    "j = -1\n",
    "flag = 0\n",
    "for i in range(0,len(word)):\n",
    "    if word[i] != word[j]:\n",
    "        flag = 1\n",
    "    j -= 1\n",
    "if flag == 0:        \n",
    "    print(\"Word is a pallindrome - \", word)\n",
    "else:\n",
    "    print(\"Word is not a pallindrome - \", word)\n"
   ]
  },
  {
   "cell_type": "code",
   "execution_count": 51,
   "metadata": {},
   "outputs": [
    {
     "name": "stdout",
     "output_type": "stream",
     "text": [
      "1\n",
      "2\n"
     ]
    }
   ],
   "source": [
    "list = [1,1,1,1,1]\n",
    "print(list[2])\n",
    "list[2] += 1\n",
    "print(list[2])"
   ]
  },
  {
   "cell_type": "code",
   "execution_count": 1,
   "metadata": {},
   "outputs": [
    {
     "name": "stdout",
     "output_type": "stream",
     "text": [
      "Square of  1  =  1\n",
      "Cube of  1  =  1\n",
      "Square of  2  =  4\n",
      "Cube of  2  =  8\n",
      "Square of  3  =  9\n",
      "Cube of  3  =  27\n",
      "Square of  4  =  16\n",
      "Cube of  4  =  64\n",
      "Square of  5  =  25\n",
      "Cube of  5  =  125\n",
      "Square of  6  =  36\n",
      "Cube of  6  =  216\n",
      "Square of  7  =  49\n",
      "Cube of  7  =  343\n",
      "Square of  8  =  64\n",
      "Cube of  8  =  512\n",
      "Square of  9  =  81\n",
      "Cube of  9  =  729\n",
      "Square of  10  =  100\n",
      "Cube of  10  =  1000\n"
     ]
    }
   ],
   "source": [
    "i = 1\n",
    "while(i<=10):\n",
    "    print(\"Square of \",i,\" = \", i**2)\n",
    "    print(\"Cube of \",i,\" = \", i**3)\n",
    "    i+=1\n",
    "    "
   ]
  },
  {
   "cell_type": "code",
   "execution_count": 22,
   "metadata": {},
   "outputs": [
    {
     "name": "stdout",
     "output_type": "stream",
     "text": [
      "@\n",
      "@@\n",
      "@@@\n",
      "@@@@\n",
      "@@@@@\n",
      "@@@@@@\n",
      "@@@@@@@\n",
      "@@@@@@@@\n",
      "@@@@@@@@@\n",
      "@@@@@@@@@@\n"
     ]
    }
   ],
   "source": [
    "h = int(input(\"Enter height of triangle\"))\n",
    "\n",
    "for i in range(h):\n",
    "    #print(i)\n",
    "    for j in range(0,i+1):\n",
    "        print(\"@\", end=\"\")\n",
    "    print(\"\")"
   ]
  },
  {
   "cell_type": "code",
   "execution_count": 23,
   "metadata": {},
   "outputs": [
    {
     "name": "stdout",
     "output_type": "stream",
     "text": [
      "Wrong password  5  attempts remaining\n",
      "Wrong password  4  attempts remaining\n",
      "Wrong password  3  attempts remaining\n",
      "That was the correct password!!\n"
     ]
    }
   ],
   "source": [
    "import random as rand\n",
    "password = 'SuperSecretPassword'\n",
    "flag = True\n",
    "\n",
    "for i in range(5):\n",
    "    attempt = input(\"Enter the password\")\n",
    "    if attempt == password:\n",
    "        print(\"That was the correct password!!\")\n",
    "        flag = False\n",
    "        break\n",
    "    else:\n",
    "        print(\"Wrong password \", 5-i,\" attempts remaining\")\n",
    "\n",
    "if flag:\n",
    "    print(\"You have been kicked out of the system\")\n",
    "\n",
    "\n"
   ]
  },
  {
   "cell_type": "code",
   "execution_count": null,
   "metadata": {},
   "outputs": [],
   "source": []
  },
  {
   "cell_type": "markdown",
   "metadata": {},
   "source": [
    "#### Functions"
   ]
  },
  {
   "cell_type": "code",
   "execution_count": null,
   "metadata": {},
   "outputs": [],
   "source": []
  },
  {
   "cell_type": "code",
   "execution_count": 7,
   "metadata": {},
   "outputs": [
    {
     "name": "stdout",
     "output_type": "stream",
     "text": [
      "[4, 6, 8, 10, 12, 14, 16, 18, 20, 22, 24, 26, 28, 30, 32, 34, 36, 38, 40, 42, 44, 46, 48, 50]\n"
     ]
    }
   ],
   "source": [
    "def even(lim = 51):\n",
    "    even = []\n",
    "    for i in range(4,lim):\n",
    "        if i%2 == 0:\n",
    "            even.append(i)\n",
    "    return even\n",
    "\n",
    "\n",
    "if __name__ == \"__main__\":\n",
    "    print(even())"
   ]
  },
  {
   "cell_type": "code",
   "execution_count": 5,
   "metadata": {},
   "outputs": [
    {
     "name": "stdout",
     "output_type": "stream",
     "text": [
      "12\n"
     ]
    }
   ],
   "source": [
    "def fun(a,b):\n",
    "    def add():\n",
    "        return a+b\n",
    "    return add()+5\n",
    "\n",
    "\n",
    "if __name__ == \"__main__\":\n",
    "    print(fun(int(input(\"num 1\")),int(input(\"num 2\"))))"
   ]
  },
  {
   "cell_type": "code",
   "execution_count": 12,
   "metadata": {},
   "outputs": [
    {
     "name": "stdout",
     "output_type": "stream",
     "text": [
      "Abuau\n",
      "2\n"
     ]
    }
   ],
   "source": [
    "def sal(name, salary = 1000):\n",
    "    print(name)\n",
    "    print(salary)\n",
    "\n",
    "if __name__ == \"__main__\":\n",
    "    sal(input(\"Name\"),2)\n"
   ]
  },
  {
   "cell_type": "code",
   "execution_count": 2,
   "metadata": {},
   "outputs": [
    {
     "name": "stdout",
     "output_type": "stream",
     "text": [
      "[1, 9, 25, 49, 81, 121, 169, 225, 289, 361]\n"
     ]
    }
   ],
   "source": [
    "result = list(map(lambda x: x**2, range(1,20,2)))\n",
    "print(result)"
   ]
  },
  {
   "cell_type": "code",
   "execution_count": 19,
   "metadata": {},
   "outputs": [
    {
     "name": "stdout",
     "output_type": "stream",
     "text": [
      "hi My name is Disha Jain \n",
      "I am from Bengaluru\n",
      "My email address is disha.jain@xyz.co\n",
      "3\n",
      "1050.0\n",
      "1000\n",
      "{'first_name': 'Avyay', 'last_name': 'Irde', 'location': 'Bengaluru', 'email': 'avyay.irde@xyz.co', 'salary': 1000}\n"
     ]
    }
   ],
   "source": [
    "class employee:\n",
    "    emp_count = 0\n",
    "    raise_percent = 1.05\n",
    "    def __init__(self, first_name, last_name, location):\n",
    "        self.first_name = first_name.capitalize()\n",
    "        self.last_name = last_name.capitalize()\n",
    "        self.location = location.capitalize()\n",
    "        self.email = first_name.lower() + '.' + last_name.lower() + '@xyz.co'\n",
    "        employee.emp_count+=1\n",
    "\n",
    "    def info(self):\n",
    "        return f\"hi My name is {self.first_name} {self.last_name} \\nI am from {self.location}\\nMy email address is {self.email}\"\n",
    "\n",
    "    def show_count(self):\n",
    "        return f\"The totoal number of employees in my application are{self.emp_count}\"\n",
    "\n",
    "    def create_salary(self, salary):\n",
    "        self.salary = salary\n",
    "\n",
    "    def incent(self):\n",
    "        return float(self.salary*self.raise_percent)\n",
    "\n",
    "\n",
    "if __name__ == \"__main__\":\n",
    "    \n",
    "    avyay = employee('Avyay','Irde','Bengaluru')\n",
    "    dj = employee('disha','Jain','Bengaluru')\n",
    "    yashas = employee('Yashas','Anand','Bengaluru')\n",
    "    print(dj.info())\n",
    "    print(employee.emp_count)\n",
    "    avyay.create_salary(1000)\n",
    "    yashas.create_salary(1000)\n",
    "    dj.create_salary(1000)\n",
    "    yashas.raise_percent = 1.5\n",
    "    print(avyay.incent())\n",
    "    print(avyay.salary)\n",
    "    print(avyay.__dict__)\n"
   ]
  },
  {
   "cell_type": "code",
   "execution_count": null,
   "metadata": {},
   "outputs": [],
   "source": []
  }
 ],
 "metadata": {
  "kernelspec": {
   "display_name": "Python 3.10.5 64-bit",
   "language": "python",
   "name": "python3"
  },
  "language_info": {
   "codemirror_mode": {
    "name": "ipython",
    "version": 3
   },
   "file_extension": ".py",
   "mimetype": "text/x-python",
   "name": "python",
   "nbconvert_exporter": "python",
   "pygments_lexer": "ipython3",
   "version": "3.10.5"
  },
  "orig_nbformat": 4,
  "vscode": {
   "interpreter": {
    "hash": "e7370f93d1d0cde622a1f8e1c04877d8463912d04d973331ad4851f04de6915a"
   }
  }
 },
 "nbformat": 4,
 "nbformat_minor": 2
}
