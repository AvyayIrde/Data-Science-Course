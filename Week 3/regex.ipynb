{
 "cells": [
  {
   "cell_type": "code",
   "execution_count": 225,
   "metadata": {},
   "outputs": [],
   "source": [
    "import re\n",
    "\n",
    "string = \"Hello, Good morning! Today is Monday 27th of 06 year 2022 and a Hello great \\nstart to is the Hello week\"\n",
    "\n"
   ]
  },
  {
   "cell_type": "code",
   "execution_count": 226,
   "metadata": {},
   "outputs": [
    {
     "name": "stdout",
     "output_type": "stream",
     "text": [
      "['o', 'o', 'o', 'd', 'o', 'n', 'n', 'o', 'd', 'a', 'y', 'M', 'o', 'n', 'd', 'a', 'y', 'o', 'y', 'a', 'a', 'n', 'd', 'a', 'o', 'a', 'a', 'o', 'o']\n"
     ]
    }
   ],
   "source": [
    "#[] specifies a character class\n",
    "\n",
    "\n",
    "obj = re.compile(\"['Monday']\") #searches for each occurance of each letter in the word monday\n",
    "print(obj.findall(string))"
   ]
  },
  {
   "cell_type": "code",
   "execution_count": 227,
   "metadata": {},
   "outputs": [
    {
     "name": "stdout",
     "output_type": "stream",
     "text": [
      "Hello\n",
      "['H', 'e', 'l', 'l', ',', ' ', 'G', ' ', 'm', 'r', 'n', 'i', 'n', '!', ' ', 'T', 'a', 'y', ' ', 'i', 's', ' ', 'M', 'n', 'a', 'y', ' ', '2', '7', 't', 'h', ' ', 'f', ' ', '0', '6', ' ', 'y', 'e', 'a', 'r', ' ', '2', '0', '2', '2', ' ', 'a', 'n', ' ', 'a', ' ', 'H', 'e', 'l', 'l', ' ', 'r', 'e', 'a', 't', ' ', '\\n', 's', 't', 'a', 'r', 't', ' ', 't', ' ', 'i', 's', ' ', 't', 'h', 'e', ' ', 'H', 'e', 'l', 'l', ' ', 'w', 'e', 'e', 'k']\n"
     ]
    }
   ],
   "source": [
    "# ^ anchors a match at the start of a sting and complimenmts a character class\n",
    "\n",
    "obj = re.compile(\"^Hello\") # Searches for start of the string\n",
    "\n",
    "print(obj.search(string).group())\n",
    "\n",
    "\n",
    "obj = re.compile(\"[^good]\") #Returns everything other than good(compliment of good)\n",
    "\n",
    "print(obj.findall(string))\n"
   ]
  },
  {
   "cell_type": "code",
   "execution_count": 228,
   "metadata": {},
   "outputs": [
    {
     "name": "stdout",
     "output_type": "stream",
     "text": [
      "week\n"
     ]
    }
   ],
   "source": [
    "# $ anchors a match at the end of the string\n",
    "\n",
    "obj = re.compile(\"week$\") # searches for end\n",
    "\n",
    "print(obj.search(string).group())"
   ]
  },
  {
   "cell_type": "code",
   "execution_count": 229,
   "metadata": {},
   "outputs": [
    {
     "name": "stdout",
     "output_type": "stream",
     "text": [
      "['H', 'e', 'l', 'l', 'o', ',', ' ', 'G', 'o', 'o', 'd', ' ', 'm', 'o', 'r', 'n', 'i', 'n', 'g', '!', ' ', 'T', 'o', 'd', 'a', 'y', ' ', 'i', 's', ' ', 'M', 'o', 'n', 'd', 'a', 'y', ' ', '2', '7', 't', 'h', ' ', 'o', 'f', ' ', '0', '6', ' ', 'y', 'e', 'a', 'r', ' ', '2', '0', '2', '2', ' ', 'a', 'n', 'd', ' ', 'a', ' ', 'H', 'e', 'l', 'l', 'o', ' ', 'g', 'r', 'e', 'a', 't', ' ', 's', 't', 'a', 'r', 't', ' ', 't', 'o', ' ', 'i', 's', ' ', 't', 'h', 'e', ' ', 'H', 'e', 'l', 'l', 'o', ' ', 'w', 'e', 'e', 'k']\n"
     ]
    }
   ],
   "source": [
    "# . matches any character except for new line\n",
    "\n",
    "obj = re.compile(\".\")\n",
    "\n",
    "print(obj.findall(string))"
   ]
  },
  {
   "cell_type": "code",
   "execution_count": 230,
   "metadata": {},
   "outputs": [
    {
     "name": "stdout",
     "output_type": "stream",
     "text": [
      "['Hell', 'Hell', 'Hell']\n"
     ]
    }
   ],
   "source": [
    "# {} matches explicitly specified number of repetitions\n",
    "\n",
    "obj = re.compile(\"..l{2}\") #checks for repetition of l Eg g{3} -> searchs for ggg\n",
    "\n",
    "print(obj.findall(string))"
   ]
  },
  {
   "cell_type": "code",
   "execution_count": 231,
   "metadata": {},
   "outputs": [
    {
     "name": "stdout",
     "output_type": "stream",
     "text": [
      "['Today']\n"
     ]
    }
   ],
   "source": [
    "# ? matches zero or one occurence\n",
    "\n",
    "obj = re.compile(\"Todayl?\") #Returns Today cause there is a zero occerence of l\n",
    "\n",
    "print(obj.findall(string))"
   ]
  },
  {
   "cell_type": "code",
   "execution_count": 232,
   "metadata": {},
   "outputs": [
    {
     "name": "stdout",
     "output_type": "stream",
     "text": [
      "['Hell', 'Go', 'mo', 'To', 'Mo', ' o', 'Hell', 'art', 'to', 'Hell']\n"
     ]
    }
   ],
   "source": [
    "# | OR\n",
    "\n",
    "obj = re.compile(\".o|H.l{2}|art\")\n",
    "\n",
    "print(obj.findall(string))"
   ]
  },
  {
   "cell_type": "code",
   "execution_count": 233,
   "metadata": {},
   "outputs": [
    {
     "name": "stdout",
     "output_type": "stream",
     "text": [
      "['abbb', 'ab', 'abb', 'a', 'a', 'a', 'abbbb', 'abb', 'ab']\n"
     ]
    }
   ],
   "source": [
    "# * any number of occerences including 0 occerences\n",
    "\n",
    "str = \"abbbababbaaaabbbbabbab\"\n",
    "\n",
    "obj = re.compile(\"ab*\") # searches for a followed by b but returs all a irrespective if how many b follows or not\n",
    "\n",
    "print(obj.findall(str))\n",
    "\n",
    "# obj = re.compile(\"Go*\")\n",
    "\n",
    "# print(obj.findall(string))\n"
   ]
  },
  {
   "cell_type": "code",
   "execution_count": 234,
   "metadata": {},
   "outputs": [
    {
     "name": "stdout",
     "output_type": "stream",
     "text": [
      "['lo', 'Goo', 'mo', 'To', 'Mo', ' o', 'lo', 'to', 'lo']\n",
      "['Hello', 'oo', 'o', 'o', 'o', 'o', 'e', 'Hello', 'e', 'o', 'e', 'Hello', 'ee']\n"
     ]
    }
   ],
   "source": [
    "# + matches one or more repetitions\n",
    "\n",
    "obj = re.compile(\".o+\") # any char followed by one or more os\n",
    "\n",
    "print(obj.findall(string))\n",
    "\n",
    "obj = re.compile(\"[Hello]+\") #Searches for hello and all its characters for 1 or more occerence\n",
    "\n",
    "print(obj.findall(string))"
   ]
  },
  {
   "cell_type": "code",
   "execution_count": 235,
   "metadata": {},
   "outputs": [
    {
     "name": "stdout",
     "output_type": "stream",
     "text": [
      "Hello, \n",
      "Hello\n",
      ", \n",
      "[('Hello', ', '), ('Hello', ' '), ('Hello', ' ')]\n"
     ]
    }
   ],
   "source": [
    "# () group of REs\n",
    "\n",
    "obj = re.compile(\"(Hello)(,? )\") #THere is a <space> after the '?' searches until newline char \n",
    "#Searches for Hello first and then the second bracket which immideatly follws the helo\n",
    "print(obj.search(string).group(0))\n",
    "print(obj.search(string).group(1))\n",
    "print(obj.search(string).group(2))\n",
    "print(obj.findall(string))"
   ]
  },
  {
   "cell_type": "code",
   "execution_count": 236,
   "metadata": {},
   "outputs": [
    {
     "name": "stdout",
     "output_type": "stream",
     "text": [
      "['27', '06', '2022']\n"
     ]
    }
   ],
   "source": [
    "# \\b any decimal digits\n",
    "\n",
    "obj = re.compile(\"\\d+\") # one or more repetitions of \\d\n",
    "\n",
    "print(obj.findall(string))"
   ]
  },
  {
   "cell_type": "code",
   "execution_count": 237,
   "metadata": {},
   "outputs": [
    {
     "name": "stdout",
     "output_type": "stream",
     "text": [
      "['Hello, Good morning! Today is Monday ', 'th of ', ' year ', ' and a Hello great \\nstart to is the Hello week']\n"
     ]
    }
   ],
   "source": [
    "# \\D not digits\n",
    "\n",
    "obj = re.compile(\"\\D+\") # one or more repetitions of \\D\n",
    "\n",
    "print(obj.findall(string))"
   ]
  },
  {
   "cell_type": "code",
   "execution_count": 238,
   "metadata": {},
   "outputs": [
    {
     "name": "stdout",
     "output_type": "stream",
     "text": [
      "[' ', ' ', ' ', ' ', ' ', ' ', ' ', ' ', ' ', ' ', ' ', ' ', ' ', ' ', ' ', '\\n', ' ', ' ', ' ', ' ', ' ']\n"
     ]
    }
   ],
   "source": [
    "# \\s white space characters\n",
    "\n",
    "obj = re.compile(\"\\s\")\n",
    "\n",
    "print(obj.findall(string))"
   ]
  },
  {
   "cell_type": "code",
   "execution_count": 239,
   "metadata": {},
   "outputs": [
    {
     "name": "stdout",
     "output_type": "stream",
     "text": [
      "['Hello,', 'Good', 'morning!', 'Today', 'is', 'Monday', '27th', 'of', '06', 'year', '2022', 'and', 'a', 'Hello', 'great', 'start', 'to', 'is', 'the', 'Hello', 'week']\n"
     ]
    }
   ],
   "source": [
    "#\\S not white space\n",
    "\n",
    "obj = re.compile(\"\\S+\")\n",
    "\n",
    "print(obj.findall(string))"
   ]
  },
  {
   "cell_type": "code",
   "execution_count": 240,
   "metadata": {},
   "outputs": [
    {
     "name": "stdout",
     "output_type": "stream",
     "text": [
      "['Hello', 'Good', 'morning', 'Today', 'is', 'Monday', '27th', 'of', '06', 'year', '2022', 'and', 'a', 'Hello', 'great', 'start', 'to', 'is', 'the', 'Hello', 'week']\n"
     ]
    }
   ],
   "source": [
    "# \\w alpha numeric character\n",
    "\n",
    "obj = re.compile(\"\\w+\")\n",
    "\n",
    "print(obj.findall(string))"
   ]
  },
  {
   "cell_type": "code",
   "execution_count": 241,
   "metadata": {},
   "outputs": [
    {
     "name": "stdout",
     "output_type": "stream",
     "text": [
      "[', ', ' ', '! ', ' \\n']\n"
     ]
    }
   ],
   "source": [
    "# \\W non alphanumeic\n",
    "\n",
    "obj = re.compile(\"\\W+\")\n",
    "\n",
    "print(list(set(obj.findall(string))))"
   ]
  },
  {
   "cell_type": "code",
   "execution_count": 242,
   "metadata": {},
   "outputs": [
    {
     "name": "stdout",
     "output_type": "stream",
     "text": [
      "['k', 'a', 'M', 's', 'y', 'l', 'T', 'H', 'f', 'm', 'r', 'n', 'd', 'w', 'i', 'G', 'e', 'g', 't', 'h', 'o']\n"
     ]
    }
   ],
   "source": [
    "# [a-n] all from a to n\n",
    "\n",
    "obj = re.compile(\"[a-zA-Z]\")\n",
    "\n",
    "# print(obj.findall(string))\n",
    "\n",
    "print(list(set(obj.findall(string))))"
   ]
  },
  {
   "cell_type": "code",
   "execution_count": 243,
   "metadata": {},
   "outputs": [
    {
     "name": "stdout",
     "output_type": "stream",
     "text": [
      "['Python is beautiful', ' with Regex!']\n",
      "Python is wonderful, with Regex!\n"
     ]
    }
   ],
   "source": [
    "str = 'Python is beautiful, with Regex!'\n",
    "\n",
    "# split()\n",
    "print(re.split(',',str))\n",
    "\n",
    "#sub()\n",
    "print(re.sub('beautiful','wonderful',str))"
   ]
  },
  {
   "cell_type": "code",
   "execution_count": 269,
   "metadata": {},
   "outputs": [
    {
     "name": "stdout",
     "output_type": "stream",
     "text": [
      "['Hello', 'Good', 'morning', 'Today', 'is', 'Monday', '27th', 'of', '06', 'year', '2022', 'and', 'a', 'Hello', 'great', 'start', 'to', 'is', 'the', 'Hello', 'week']\n",
      "['abbb', 'ab', 'abb', 'a', 'a', 'a', 'abbbb', 'abb', 'ab', 'a', 'a', 'a', 'a', 'a', 'a', 'a']\n",
      "['ab', 'ab', 'ab', 'a', 'a', 'a', 'ab', 'ab', 'ab', 'a', 'a', 'a', 'a', 'a', 'a', 'a']\n",
      "['abbb', 'abbb']\n",
      "['aasdagsa_fatadsad']\n",
      "['abbbababbaaaabbbbabbab']\n",
      "['Hello']\n",
      "apple_orange_tomato banana_fruit\n",
      "Hello--Good-morning!-Today-is-Monday-27th-of-06-year-2022-and-a-Hello-great-\n",
      "start-to-is-the-Hello-week\n",
      "['Hello', 'Good', 'morning', 'Today', 'Monday', 'year', 'Hello', 'great', 'start', 'Hello', 'week']\n"
     ]
    }
   ],
   "source": [
    "# Regex problems-\n",
    "# 1. Write a Python program to check that a string contains only a certain set of characters (in this case a-z, A-Z and 0-9)\n",
    "\n",
    "obj = re.compile('[a-zA-Z0-9]+')\n",
    "print(obj.findall(string))\n",
    "\n",
    "\n",
    "# 2. Write a Python program that matches a string that has an a followed by zero or more b's\n",
    "\n",
    "str = \"abbbababbaaaabbbbabbab  aasdagsa_fatadsad\"\n",
    "\n",
    "obj = re.compile('ab*')\n",
    "print(obj.findall(str))\n",
    "\n",
    "# 3. Write a Python program that matches a string that has an a followed by zero or one 'b'.\n",
    "\n",
    "obj = re.compile('ab?')\n",
    "print(obj.findall(str))\n",
    "\n",
    "# 4. Write a Python program that matches a string that has an a followed by three 'b'.\n",
    "\n",
    "obj = re.compile('ab{3}')\n",
    "print(obj.findall(str))\n",
    "\n",
    "# 5. Write a Python program to find sequences of lowercase letters joined with a underscore.\n",
    "\n",
    "obj = re.compile('[a-z]+_[a-z]+')\n",
    "print(obj.findall(str))\n",
    "\n",
    "# 6.Write a Python program that matches a string that has an 'a' followed by anything, ending in 'b'.\n",
    "\n",
    "obj = re.compile('a.*b')\n",
    "print(obj.findall(str))\n",
    "\n",
    "# 7.Write a Python program that matches a word at the beginning of a string. \n",
    "\n",
    "obj = re.compile('^\\w+')\n",
    "print(obj.findall(string))\n",
    "\n",
    "# 8.Write a Python program to replace whitespaces with an underscore and vice versa.\n",
    "\n",
    "sting  = \"apple orange tomato_banana fruit\"\n",
    "\n",
    "obj = re.sub('_','-',sting)\n",
    "obj = re.sub(' ','_',obj)\n",
    "obj = re.sub('-',' ',obj)\n",
    "print(obj)\n",
    "\n",
    "# 9. Write a Python program to replace all occurrences of space, comma, or dot with a colon\n",
    "\n",
    "obj = re.sub(' |[,.]', '-', string) # or this (\\s|[,.])\n",
    "print(obj)\n",
    "\n",
    "# 10.Write a Python program to find all words which are at least 4 characters long in a string.\n",
    "\n",
    "obj = re.compile('[a-zA-Z]{4}[a-zA-z]*')\n",
    "print(obj.findall(string))\n"
   ]
  },
  {
   "cell_type": "code",
   "execution_count": null,
   "metadata": {},
   "outputs": [],
   "source": []
  }
 ],
 "metadata": {
  "kernelspec": {
   "display_name": "Python 3.10.5 64-bit",
   "language": "python",
   "name": "python3"
  },
  "language_info": {
   "codemirror_mode": {
    "name": "ipython",
    "version": 3
   },
   "file_extension": ".py",
   "mimetype": "text/x-python",
   "name": "python",
   "nbconvert_exporter": "python",
   "pygments_lexer": "ipython3",
   "version": "3.10.5"
  },
  "orig_nbformat": 4,
  "vscode": {
   "interpreter": {
    "hash": "e7370f93d1d0cde622a1f8e1c04877d8463912d04d973331ad4851f04de6915a"
   }
  }
 },
 "nbformat": 4,
 "nbformat_minor": 2
}
