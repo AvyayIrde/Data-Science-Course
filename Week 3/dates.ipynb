{
 "cells": [
  {
   "cell_type": "code",
   "execution_count": 56,
   "metadata": {},
   "outputs": [
    {
     "name": "stdout",
     "output_type": "stream",
     "text": [
      "<class 'set'>\n",
      "123\n",
      "183\n",
      "188\n",
      "['24 Jan 2001', '10 Sep 2004', '26 May 1982', '28 June 2002', '06 May 1972', '25 Oct 1987', '14 Oct 1996', '30 Nov 2007', '28 June 1994', '14 Jan 1981', '10 Oct 1985', '11 February 1985', '10 Feb 1983', '05 Feb 1992', '21 Oct 2012', '14 Feb 1995', '30 May 2016', '22 Jan 1996', '14 Oct 1992', '06 Oct 2003', '18 Oct 1999', '11 Nov 2004', '30 May 2001', '02 Feb 1978', '09 Sep 1989', '12 March 1980', '22 June 1990', '28 Sep 2015', '13 Jan 1972', '06 Mar 1974', '10 Oct 1974', '26 May 1974', '10 Feb 1990', '23 Aug 2000', '26 May 2001', '21 Oct 2007', '19 Oct 2016', '05 Mar 1974', '29 Jan 1994', '21 Oct 1978', '18 August 1975', '11 Nov 1996', '01 Oct 1979', '13 Oct 1986', '21 Oct 1995', '24 Jan 2011', '04 Oct 1972', '23 Aug 1993', '18 Oct 2006', '04 Dec 1988', '21 Oct 1983', '26 May 2010', '18 Jan 1990', '15 Jun 1985', '10 Dec 1982', '09 Dec 1988', '18 August 1995', '13 June 1974', '26 May 2008', '11 Nov 2002', '17 Aug 1985', '13 Oct 2016', '14 Jan 2008', '12 March 2004', '21 Oct 1977', '10 Aug 2000', '30 Nov 1972', '06 May 1993', '18 Jan 1995']\n",
      "188\n"
     ]
    }
   ],
   "source": [
    "import re\n",
    "from datetime import datetime\n",
    "\n",
    "all_dates = {\"dates\"}\n",
    "with open('data/dates.txt','r') as file:\n",
    "    data = file.read()\n",
    "    print(type(all_dates))\n",
    "\n",
    "    obj = re.compile('\\d+/\\d+/\\d+')\n",
    "    # print(obj.findall(data))\n",
    "    all_dates.update(set(obj.findall(data)))\n",
    "    print(len(all_dates))\n",
    "\n",
    "    obj = re.compile('\\d{2}/\\d{4}')\n",
    "    # print(obj.findall(data))\n",
    "    all_dates.update(set(obj.findall(data)))\n",
    "    print(len(all_dates))\n",
    "\n",
    "    obj = re.compile('[a-zA-z]+ \\d+[a-zA-Z]* \\d+')\n",
    "    # print(obj.findall(data))\n",
    "    all_dates.update(set(obj.findall(data)))\n",
    "    print(len(all_dates))\n",
    "\n",
    "    obj = re.compile('\\d+ [a-zA-Z]+ \\d{4}')\n",
    "    print(obj.findall(data))\n",
    "    # all_dates.update(set(obj.findall(data)))\n",
    "    print(len(all_dates))\n",
    "\n",
    "\n"
   ]
  },
  {
   "cell_type": "code",
   "execution_count": null,
   "metadata": {},
   "outputs": [],
   "source": []
  }
 ],
 "metadata": {
  "kernelspec": {
   "display_name": "Python 3.10.5 64-bit",
   "language": "python",
   "name": "python3"
  },
  "language_info": {
   "name": "python",
   "version": "3.10.5"
  },
  "orig_nbformat": 4,
  "vscode": {
   "interpreter": {
    "hash": "e7370f93d1d0cde622a1f8e1c04877d8463912d04d973331ad4851f04de6915a"
   }
  }
 },
 "nbformat": 4,
 "nbformat_minor": 2
}
