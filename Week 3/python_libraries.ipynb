{
 "cells": [
  {
   "cell_type": "markdown",
   "metadata": {},
   "source": [
    "###  date time module\n"
   ]
  },
  {
   "cell_type": "markdown",
   "metadata": {},
   "source": [
    "##### 1: Get Current Date and Time\n"
   ]
  },
  {
   "cell_type": "code",
   "execution_count": 9,
   "metadata": {},
   "outputs": [
    {
     "name": "stdout",
     "output_type": "stream",
     "text": [
      "2021-12-17 17:53:09.771345\n"
     ]
    }
   ],
   "source": [
    "import datetime\n",
    "datetime_object=datetime.datetime.now() # syntax to get date and time \n",
    "print(datetime_object)"
   ]
  },
  {
   "cell_type": "code",
   "execution_count": 7,
   "metadata": {},
   "outputs": [
    {
     "name": "stdout",
     "output_type": "stream",
     "text": [
      "2021-12-17 17:52:15.811377\n"
     ]
    }
   ],
   "source": [
    "from datetime import datetime \n",
    "datetime_object=datetime.now()\n",
    "print(datetime_object) "
   ]
  },
  {
   "cell_type": "code",
   "execution_count": 5,
   "metadata": {},
   "outputs": [
    {
     "name": "stdout",
     "output_type": "stream",
     "text": [
      "['MAXYEAR', 'MINYEAR', '__builtins__', '__cached__', '__doc__', '__file__', '__loader__', '__name__', '__package__', '__spec__', 'date', 'datetime', 'datetime_CAPI', 'sys', 'time', 'timedelta', 'timezone', 'tzinfo']\n"
     ]
    }
   ],
   "source": [
    "print(dir(datetime))"
   ]
  },
  {
   "cell_type": "code",
   "execution_count": 10,
   "metadata": {},
   "outputs": [
    {
     "name": "stdout",
     "output_type": "stream",
     "text": [
      "2021-12-17\n"
     ]
    }
   ],
   "source": [
    "date_object = datetime.date.today() # syntax to get current date only \n",
    "print(date_object)"
   ]
  },
  {
   "cell_type": "markdown",
   "metadata": {},
   "source": [
    "#### datetime.date Class\n",
    "##### 2: Date object to represent a date"
   ]
  },
  {
   "cell_type": "code",
   "execution_count": 11,
   "metadata": {},
   "outputs": [
    {
     "name": "stdout",
     "output_type": "stream",
     "text": [
      "2021-12-18\n"
     ]
    }
   ],
   "source": [
    "d = datetime.date(2021,12,18) # yyyy-mm-dd\n",
    "print(d)"
   ]
  },
  {
   "cell_type": "code",
   "execution_count": 12,
   "metadata": {},
   "outputs": [
    {
     "name": "stdout",
     "output_type": "stream",
     "text": [
      "2021-12-17 17:54:38.944710\n",
      "timestamp is: 1639743878.94471\n"
     ]
    }
   ],
   "source": [
    "'''Timestamp'''\n",
    "# converting datetime into timestamp\n",
    "from datetime import datetime\n",
    "now=datetime.now() \n",
    "print(now)\n",
    "timestamp=datetime.timestamp(now)\n",
    "print(\"timestamp is:\",timestamp)"
   ]
  },
  {
   "cell_type": "code",
   "execution_count": 13,
   "metadata": {},
   "outputs": [
    {
     "name": "stdout",
     "output_type": "stream",
     "text": [
      "2021-12-17 17:54:38.944710\n"
     ]
    }
   ],
   "source": [
    "# is going to convert timestamp to datetime object \n",
    "\n",
    "timestamp=1639743878.94471\n",
    "date_object=datetime.fromtimestamp(timestamp)\n",
    "print(date_object)"
   ]
  },
  {
   "cell_type": "code",
   "execution_count": 14,
   "metadata": {},
   "outputs": [
    {
     "name": "stdout",
     "output_type": "stream",
     "text": [
      "Current year: 2021\n",
      "Current month: 12\n",
      "Current day: 17\n"
     ]
    }
   ],
   "source": [
    "from datetime import date\n",
    "today = date.today() # date object of today's date\n",
    "print(\"Current year:\", today.year)\n",
    "print(\"Current month:\", today.month)\n",
    "print(\"Current day:\", today.day)"
   ]
  },
  {
   "cell_type": "code",
   "execution_count": 21,
   "metadata": {},
   "outputs": [],
   "source": [
    "# dir(today)"
   ]
  },
  {
   "cell_type": "code",
   "execution_count": 22,
   "metadata": {},
   "outputs": [
    {
     "name": "stdout",
     "output_type": "stream",
     "text": [
      "2021-12-17 18:02:48.262869\n",
      "2021\n",
      "12\n",
      "17\n",
      "18\n",
      "2\n",
      "48\n",
      "262869\n"
     ]
    }
   ],
   "source": [
    "now=datetime.now()\n",
    "print(now)\n",
    "print(now.year)\n",
    "print(now.month)\n",
    "print(now.day)\n",
    "print(now.hour)\n",
    "print(now.minute)\n",
    "print(now.second)\n",
    "print(now.microsecond)"
   ]
  },
  {
   "cell_type": "markdown",
   "metadata": {},
   "source": [
    "#### datetime.time\n",
    "##### 3: Time object to represent time"
   ]
  },
  {
   "cell_type": "code",
   "execution_count": 23,
   "metadata": {},
   "outputs": [
    {
     "name": "stdout",
     "output_type": "stream",
     "text": [
      "a = 2021-12-17 18:04:11.979901\n",
      "b = 11:28:56\n",
      "c = 11:28:56\n",
      "d = 11:28:56.234566\n"
     ]
    }
   ],
   "source": [
    "from datetime import datetime,time \n",
    "# time(hour = 0, minute = 0, second = 0)\n",
    "a = datetime.now()\n",
    "print(\"a =\", a)\n",
    "\n",
    "# time(hour, minute and second)\n",
    "b = time(11, 28, 56)\n",
    "print(\"b =\", b)\n",
    "\n",
    "# time(hour, minute and second)\n",
    "c = time(hour = 11, minute = 28, second = 56)\n",
    "print(\"c =\", c)\n",
    "\n",
    "# time(hour, minute, second, microsecond)\n",
    "d = time(11, 28, 56, 234566)\n",
    "print(\"d =\", d)"
   ]
  },
  {
   "cell_type": "code",
   "execution_count": 24,
   "metadata": {},
   "outputs": [
    {
     "name": "stdout",
     "output_type": "stream",
     "text": [
      "year= 2021\n",
      "year= 12\n",
      "year= 17\n",
      "hour = 18\n",
      "minute = 4\n",
      "second = 24\n",
      "microsecond = 13121\n"
     ]
    }
   ],
   "source": [
    "# Print hour, minute, second and microsecond\n",
    "\n",
    "a = datetime.now()\n",
    "print('year=',a.year)\n",
    "print('year=',a.month)\n",
    "print('year=',a.day)\n",
    "print(\"hour =\", a.hour )\n",
    "print(\"minute =\", a.minute)\n",
    "print(\"second =\", a.second)\n",
    "print(\"microsecond =\", a.microsecond)"
   ]
  },
  {
   "cell_type": "markdown",
   "metadata": {},
   "source": [
    "##### 4: Python datetime object"
   ]
  },
  {
   "cell_type": "code",
   "execution_count": 25,
   "metadata": {},
   "outputs": [
    {
     "name": "stdout",
     "output_type": "stream",
     "text": [
      "year = 2019\n",
      "month = 6\n",
      "date= 28\n",
      "hour = 23\n",
      "minute = 55\n",
      "seconds= 59\n",
      "Microsecond is: 342380\n",
      "timestamp = 1561746359.34238\n"
     ]
    }
   ],
   "source": [
    "# Print year, month, hour, minute and timestamp\n",
    "\n",
    "a = datetime(2019, 6, 28, 23, 55, 59, 342380)\n",
    "print(\"year =\", a.year)\n",
    "print(\"month =\", a.month)\n",
    "print(\"date=\",a.day)\n",
    "print(\"hour =\", a.hour)\n",
    "print(\"minute =\", a.minute)\n",
    "print(\"seconds=\",a.second)\n",
    "print(\"Microsecond is:\",a.microsecond)\n",
    "print(\"timestamp =\", datetime.timestamp(a)) # timestamp is computer interpreted value for date and time "
   ]
  },
  {
   "cell_type": "markdown",
   "metadata": {},
   "source": [
    "##### 5: Difference between two dates and times"
   ]
  },
  {
   "cell_type": "code",
   "execution_count": 27,
   "metadata": {},
   "outputs": [
    {
     "name": "stdout",
     "output_type": "stream",
     "text": [
      "t3 = 316 days, 0:00:00\n",
      "t6 = 397 days, 4:04:32\n",
      "type of t3 = <class 'datetime.timedelta'>\n",
      "type of t6 = <class 'datetime.timedelta'>\n"
     ]
    }
   ],
   "source": [
    "from datetime import date\n",
    "t1 = date(2019, 7,5)\n",
    "t2 = date(year =2018, day=23,month=8)\n",
    "t3 = t1 - t2\n",
    "print(\"t3 =\", t3)\n",
    "\n",
    "t4 = datetime(2019, 7,  12, 9,  59,  45)\n",
    "t5 = datetime(year = 2018, month = 6, day = 10, hour = 5, minute = 55, second = 13)\n",
    "t6 = t4 - t5\n",
    "print(\"t6 =\", t6)\n",
    "\n",
    "print(\"type of t3 =\", type(t3)) \n",
    "print(\"type of t6 =\", type(t6))  "
   ]
  },
  {
   "cell_type": "code",
   "execution_count": 28,
   "metadata": {},
   "outputs": [
    {
     "name": "stdout",
     "output_type": "stream",
     "text": [
      "years is: 1\n",
      "months is: 1\n",
      "days is: 2\n",
      "hour is: 4\n",
      "minute is: 4\n",
      "second is: 32\n"
     ]
    }
   ],
   "source": [
    "from dateutil.relativedelta import relativedelta #relativedelta will allow you to specify the differences individually w.r.t years,months, days\n",
    "rdelta=relativedelta(t4,t5)\n",
    "print('years is:',rdelta.years)\n",
    "print('months is:',rdelta.months)\n",
    "print('days is:',rdelta.days)\n",
    "print('hour is:',rdelta.hours)\n",
    "print('minute is:',rdelta.minutes)\n",
    "print('second is:',rdelta.seconds)\n",
    "# print(type(rdelta.years))"
   ]
  },
  {
   "cell_type": "code",
   "execution_count": 29,
   "metadata": {},
   "outputs": [
    {
     "name": "stdout",
     "output_type": "stream",
     "text": [
      "1900-01-01 01:01:01.001111\n",
      "2021-12-17 18:08:18.957388\n",
      "Total days:  44545 days, 17:07:17.956277\n",
      "years is: 121\n",
      "months is: 11\n",
      "days is: 16\n",
      "hours is: 17\n",
      "minutes: 7\n",
      "seconds: 17\n"
     ]
    }
   ],
   "source": [
    "dob =datetime(1900,1,1,1,1,1,1111) # another example\n",
    "now=datetime.now()\n",
    "print(dob)\n",
    "print(now)\n",
    "print(\"Total days: \",(now-dob))\n",
    "rdelta=relativedelta(now,dob)\n",
    "print('years is:',rdelta.years)\n",
    "print('months is:',rdelta.months)\n",
    "print('days is:',rdelta.days)\n",
    "print('hours is:',rdelta.hours)\n",
    "print('minutes:',rdelta.minutes)\n",
    "print('seconds:',rdelta.seconds)"
   ]
  },
  {
   "cell_type": "markdown",
   "metadata": {},
   "source": [
    "##### 6: Printing timedelta object\n"
   ]
  },
  {
   "cell_type": "code",
   "execution_count": 30,
   "metadata": {},
   "outputs": [
    {
     "name": "stdout",
     "output_type": "stream",
     "text": [
      "24 days, 5:00:33\n",
      "19 days, 3:00:54\n",
      "t3 = 5 days, 1:59:39\n"
     ]
    }
   ],
   "source": [
    "from datetime import timedelta\n",
    "\n",
    "t1 = timedelta(days=10,hours=5,seconds = 33,weeks=2)\n",
    "print(t1)\n",
    "t2 = timedelta(days=12,hours=3,seconds = 54,weeks=1)\n",
    "print(t2) \n",
    "t3 = t1-t2\n",
    "\n",
    "print(\"t3 =\", t3)\n",
    "#print(abs(t3))\n"
   ]
  },
  {
   "cell_type": "code",
   "execution_count": 31,
   "metadata": {},
   "outputs": [
    {
     "name": "stdout",
     "output_type": "stream",
     "text": [
      "total seconds = 3027633.233423\n"
     ]
    }
   ],
   "source": [
    "days=14\n",
    "hours = 1\n",
    "seconds = 33\n",
    "microseconds = 233423\n",
    "weeks=3\n",
    "t = timedelta(days=days,hours=hours,seconds=seconds,microseconds=microseconds,weeks=weeks)\n",
    "print(\"total seconds =\", t.total_seconds()) "
   ]
  },
  {
   "cell_type": "code",
   "execution_count": 32,
   "metadata": {},
   "outputs": [
    {
     "name": "stdout",
     "output_type": "stream",
     "text": [
      "Current Date: 2021-12-17 18:12:44.373634\n",
      "One year from now Date: 2022-12-17 18:12:44.373634\n",
      "Three days before Date: 1639485764.373634\n"
     ]
    }
   ],
   "source": [
    "current_datetime = datetime.now()\n",
    "\n",
    "# future dates\n",
    "one_year_future_date = current_datetime + timedelta(days=365)\n",
    "\n",
    "print('Current Date:', current_datetime)\n",
    "print('One year from now Date:', one_year_future_date)\n",
    "\n",
    "# past dates\n",
    "three_days_before_date = current_datetime - timedelta(days=3)\n",
    "print('Three days before Date:', three_days_before_date.timestamp()) "
   ]
  },
  {
   "cell_type": "code",
   "execution_count": 64,
   "metadata": {},
   "outputs": [
    {
     "name": "stdout",
     "output_type": "stream",
     "text": [
      "<class 'datetime.datetime'>\n"
     ]
    }
   ],
   "source": [
    "print(type(current_datetime))"
   ]
  },
  {
   "cell_type": "markdown",
   "metadata": {},
   "source": [
    "##### 7. Python format datetime\n",
    "\n",
    "##### Python strftime() - datetime object to string\n",
    "#####  Format date using strftime()"
   ]
  },
  {
   "cell_type": "code",
   "execution_count": 34,
   "metadata": {},
   "outputs": [
    {
     "name": "stdout",
     "output_type": "stream",
     "text": [
      "2021-12-17 18:16:36.804993\n",
      "time: 18:16:36\n",
      "s1: 12-17-2021, 18:16:36\n",
      "s2: 17-12-21, 18:16:36\n",
      "<class 'str'>\n",
      "<class 'str'>\n"
     ]
    }
   ],
   "source": [
    "# current date and time\n",
    "now = datetime.now() \n",
    "print(now)\n",
    "\n",
    "t = now.strftime(\"%H:%M:%S\") # string format time - converts datetime type to string type \n",
    "print(\"time:\", t)\n",
    "\n",
    "s1 = now.strftime(\"%m-%d-%Y, %H:%M:%S\")\n",
    "# mm/dd/YY H:M:S format\n",
    "print(\"s1:\", s1)\n",
    "\n",
    "s2 = now.strftime(\"%d-%m-%y, %H:%M:%S\")\n",
    "# dd/mm/YY H:M:S format\n",
    "print(\"s2:\", s2)\n",
    "print(type(s1))\n",
    "print(type(s2))"
   ]
  },
  {
   "cell_type": "markdown",
   "metadata": {},
   "source": [
    "##### 8.Python strptime() - string to datetime\n"
   ]
  },
  {
   "cell_type": "code",
   "execution_count": 36,
   "metadata": {},
   "outputs": [
    {
     "name": "stdout",
     "output_type": "stream",
     "text": [
      "date_string = 8 October,2021 11 21\n",
      "type of date_string = <class 'str'>\n",
      "date_object = 2021-10-08 11:21:00\n",
      "type of date_object = <class 'datetime.datetime'>\n"
     ]
    }
   ],
   "source": [
    "date_string = \"8 October,2021 11 21\" \n",
    "print(\"date_string =\", date_string)\n",
    "print(\"type of date_string =\", type(date_string))\n",
    "date_object = datetime.strptime(date_string, \"%d %B,%Y %H %M\") # strptime() stands for string parse time, converts string into datetime \n",
    "print(\"date_object =\", date_object)\n",
    "print(\"type of date_object =\", type(date_object))"
   ]
  },
  {
   "cell_type": "markdown",
   "metadata": {},
   "source": [
    "%Y - year [0001,..., 2018, 2019,..., 9999] # different representations of datetime object attributes \n",
    "\n",
    "%m - month [01, 02, ..., 11, 12]\n",
    "\n",
    "%d - day [01, 02, ..., 30, 31]\n",
    "\n",
    "%H - hour [00, 01, ..., 22, 23  # KEEP IN MIND \n",
    "\n",
    "%M - minute [00, 01, ..., 58, 59]\n",
    "\n",
    "%S - second [00, 01, ..., 58, 59]\n",
    "\n",
    "%B- months in text [january,february...]\n",
    "\n",
    "%h- months in text in short abbrevation [jan,feb,mar]"
   ]
  },
  {
   "cell_type": "markdown",
   "metadata": {},
   "source": [
    "##### 9. pytz module "
   ]
  },
  {
   "cell_type": "code",
   "execution_count": 37,
   "metadata": {},
   "outputs": [],
   "source": [
    "# import pytz #pip install pytz in command prompt \n",
    "# for i in pytz.all_timezones:\n",
    "#      print(i)"
   ]
  },
  {
   "cell_type": "code",
   "execution_count": 38,
   "metadata": {},
   "outputs": [
    {
     "name": "stdout",
     "output_type": "stream",
     "text": [
      "Local: 12/17/2021, 18:22:29\n",
      "NY: 12/17/2021, 07:52:46\n",
      "London: 12/17/2021, 12:52:46\n"
     ]
    }
   ],
   "source": [
    "# fyi snippet code to compare timezones using pytz and datetime \n",
    "\n",
    "from datetime import datetime\n",
    "import pytz\n",
    "\n",
    "local = datetime.now()\n",
    "print(\"Local:\", local.strftime(\"%m/%d/%Y, %H:%M:%S\"))\n",
    "\n",
    "\n",
    "tz_NY = pytz.timezone('America/New_York') \n",
    "datetime_NY = datetime.now(tz_NY)\n",
    "print(\"NY:\", datetime_NY.strftime(\"%m/%d/%Y, %H:%M:%S\"))\n",
    "\n",
    "tz_London = pytz.timezone('Europe/London')\n",
    "datetime_London = datetime.now(tz_London)\n",
    "print(\"London:\", datetime_London.strftime(\"%m/%d/%Y, %H:%M:%S\"))"
   ]
  },
  {
   "cell_type": "code",
   "execution_count": 47,
   "metadata": {},
   "outputs": [
    {
     "data": {
      "text/plain": [
       "datetime.datetime(2021, 6, 25, 18, 26, 1, 100320, tzinfo=<DstTzInfo 'Asia/Kolkata' IST+5:30:00 STD>)"
      ]
     },
     "execution_count": 47,
     "metadata": {},
     "output_type": "execute_result"
    }
   ],
   "source": [
    "# utc_time =datetime.utcnow() # utc to local time \n",
    "# # print(utc_time)\n",
    "# tz = pytz.timezone('Asia/Kolkata')\n",
    "# pytz.utc.localize(utc_time, is_dst=None).astimezone(tz)"
   ]
  },
  {
   "cell_type": "markdown",
   "metadata": {},
   "source": [
    "reference : https://www.programiz.com/python-programming/datetime"
   ]
  },
  {
   "cell_type": "markdown",
   "metadata": {},
   "source": [
    "### Regex a.k.a Regular expressions "
   ]
  },
  {
   "cell_type": "markdown",
   "metadata": {},
   "source": [
    "##### A RegEx, or Regular Expression, is a sequence of characters that forms a search pattern.\n",
    "\n",
    "##### RegEx can be used to check if a string contains the specified search pattern.\n",
    "\n",
    "##### Python has a built-in package called re, which can be used to work with Regular Expressions."
   ]
  },
  {
   "cell_type": "markdown",
   "metadata": {},
   "source": [
    "##### The re module offers a set of functions that allows us to search a string for a match:\n",
    "\n",
    "##### Function\tDescription-\n",
    "##### findall\tReturns a list containing all matches\n",
    "##### search\tReturns a Match object if there is a match anywhere in the string\n",
    "##### split\tReturns a list where the string has been split at each match\n",
    "##### sub\tReplaces one or many matches with a string"
   ]
  },
  {
   "cell_type": "markdown",
   "metadata": {},
   "source": [
    "##### compile()\n",
    "##### Regular expressions are compiled into pattern objects,\n",
    "##### which have methods for various operations such as searching for pattern matches or performing string substitutions."
   ]
  },
  {
   "cell_type": "code",
   "execution_count": 39,
   "metadata": {},
   "outputs": [],
   "source": [
    "import re # step 1. # import module "
   ]
  },
  {
   "cell_type": "code",
   "execution_count": 43,
   "metadata": {},
   "outputs": [
    {
     "name": "stdout",
     "output_type": "stream",
     "text": [
      "['e', 'e', 'a', 'e', 'e', 'a', 'e', 'a', 'e', 'e', 'b', 'c']\n"
     ]
    }
   ],
   "source": [
    "# compile() creates regular expression character class [a-e], \n",
    "# which is equivalent to [abcde]. \n",
    "# class [abcde] will match with string with 'a', 'b', 'c', 'd', 'e'. \n",
    "p = re.compile('[a-e]') # search pattern \n",
    "  \n",
    "# findall() searches for the Regular Expression and return a list upon finding \n",
    "print(p.findall(\"Hello,we are learning python regular expressions bc\")) "
   ]
  },
  {
   "cell_type": "markdown",
   "metadata": {},
   "source": [
    "##### metacharacters in regex syntax creation- \n",
    "\n",
    "##### [ ] Specifies a character class\n",
    "##### ^   Anchors a match at the start of a string and Complements a character class\n",
    "##### $   Anchors a match at end of the string \n",
    "##### .   Matches any character except newline\n",
    "##### ?   Matches zero or one occurrence.\n",
    "##### |   Means OR (Matches with any of the characters separated by it / Designates alternation\n",
    "##### *   Any number of occurrences (including 0 occurrences)\n",
    "##### +   Matches one or more repetitions\n",
    "##### {}  Matches an explicitly specified number of repetitions\n",
    "##### ()  Enclose a group of REs"
   ]
  },
  {
   "cell_type": "markdown",
   "metadata": {},
   "source": [
    "##### Metacharacters blackslash ‘\\’ has a very important role as it signals various sequences\n",
    "##### \\d   Matches any decimal digit, this is equivalent to the set class [0-9].\n",
    "##### \\D   Matches any non-digit character.\n",
    "##### \\s   Matches any whitespace character.\n",
    "##### \\S   Matches any non-whitespace character\n",
    "##### \\w   Matches any alphanumeric character, this is equivalent to the class [a-zA-Z0-9_].\n",
    "##### \\W   Matches any non-alphanumeric character. "
   ]
  },
  {
   "cell_type": "code",
   "execution_count": 44,
   "metadata": {},
   "outputs": [
    {
     "name": "stdout",
     "output_type": "stream",
     "text": [
      "['1', '1', '4', '1', '8', '8', '6']\n",
      "['12', '4', '1886']\n"
     ]
    }
   ],
   "source": [
    "# \\d is equivalent to [0-9]. \n",
    "p = re.compile('\\d') \n",
    "print(p.findall(\"I went to him at 11 A.M. on 4th July 1886\")) \n",
    "  \n",
    "# \\d+ will match a group on [0-9], group of one or greater size \n",
    "p = re.compile('\\d+') \n",
    "print(p.findall(\"I went to him at 12 A.M. on 4th July 1886\")) \n"
   ]
  },
  {
   "cell_type": "code",
   "execution_count": 57,
   "metadata": {},
   "outputs": [
    {
     "name": "stdout",
     "output_type": "stream",
     "text": [
      "['He', 'said', 'in', 'some_lang999']\n",
      "['1AM']\n",
      "[' ', ' **** ', ' ', '.']\n"
     ]
    }
   ],
   "source": [
    "\n",
    "# \\w is equivalent to [a-zA-Z0-9_].\\w+ matches to group of alphanumeric charcter. \n",
    "p = re.compile('\\w+') \n",
    "print(p.findall(\"He said * in & some_lang999\")) \n",
    "  \n",
    "p = re.compile('\\d..')\n",
    "print(p.findall(\"I went to him at 1AM., he said *** 11\\n in some_language.\")) \n",
    "  \n",
    "# \\W matches to non alphanumeric characters. \n",
    "p = re.compile('\\W+') \n",
    "print(p.findall(\"He said **** in some_language.\")) \n"
   ]
  },
  {
   "cell_type": "code",
   "execution_count": 61,
   "metadata": {},
   "outputs": [
    {
     "name": "stdout",
     "output_type": "stream",
     "text": [
      "['aab', 'aab', 'b', 'b', 'aaab', 'ab', 'b', 'b']\n"
     ]
    }
   ],
   "source": [
    "p = re.compile('a*b')  # any number of occurences of character a or even 0 occurences of character a \n",
    "print(p.findall(\"aabaabbbaaababbb\")) "
   ]
  },
  {
   "cell_type": "markdown",
   "metadata": {},
   "source": [
    "##### A set is a set of characters inside a pair of square brackets [] with a special meaning:\n",
    "\n",
    "##### [arn]\tReturns a match where one of the specified characters (a, r, or n) are present\t\n",
    "##### [a-n]\tReturns a match for any lower case character, alphabetically between a and n\t\n",
    "##### [^arn]\tReturns a match for any character EXCEPT a, r, and n\t\n",
    "##### [0123]\tReturns a match where any of the specified digits (0, 1, 2, or 3) are present\t\n",
    "##### [0-9]\tReturns a match for any digit between 0 and 9\t\n",
    "##### [0-5][0-9]\tReturns a match for any two-digit numbers from 00 and 59\t\n",
    "##### [a-zA-Z]\tReturns a match for any character alphabetically between a and z, lower case OR upper case\t\n",
    "##### [+]\tIn sets, +, *, ., |, (), $,{} has no special meaning, so [+] means: return a match for any + character in the string"
   ]
  },
  {
   "cell_type": "code",
   "execution_count": 65,
   "metadata": {},
   "outputs": [
    {
     "name": "stdout",
     "output_type": "stream",
     "text": [
      "Match at index 14, 21\n",
      "Full match: June 24\n",
      "Month: June\n",
      "Day: 24\n"
     ]
    }
   ],
   "source": [
    "# Lets use a regular expression to match a date string in the form of Month name followed by day number \n",
    "\n",
    "regex = r\"([a-zA-Z]+) (\\d+)\" # alternative way of creating your search pattern instead of using the compile method() \n",
    "  \n",
    "match = re.search(regex, \"I was born on June 24\") \n",
    "  \n",
    "if match != None: \n",
    "  \n",
    "    # We reach here when the expression \"([a-zA-Z]+) (\\d+)\" \n",
    "    # matches the date string. \n",
    "  \n",
    "    # This will print [14, 21), since it matches at index 14 \n",
    "    # and ends at 21.  \n",
    "    print(\"Match at index %s, %s\" % (match.start(), match.end()))\n",
    "  \n",
    "    # We us group() method to get all the matches and \n",
    "    # captured groups. The groups contain the matched values. \n",
    "    # In particular: \n",
    "    #    match.group(0) always returns the fully matched string \n",
    "    #    match.group(1) match.group(2), ... return the capture \n",
    "    #    groups in order from left to right in the input string \n",
    "    #    match.group() is equivalent to match.group(0) \n",
    "  \n",
    "    # So this will print \"June 24\" \n",
    "    print(\"Full match: %s\" % (match.group(0)))\n",
    "  \n",
    "    # So this will print \"June\" \n",
    "    print(\"Month: %s\" % (match.group(1))) \n",
    "  \n",
    "    # So this will print \"24\" \n",
    "    print(\"Day: %s\" % (match.group(2)))\n",
    "else: \n",
    "    print(\"The regex pattern does not match.\")\n",
    "# print(type(match))"
   ]
  },
  {
   "cell_type": "code",
   "execution_count": 68,
   "metadata": {},
   "outputs": [
    {
     "name": "stdout",
     "output_type": "stream",
     "text": [
      "['obo', 'op eats baby food.', ' FOOD ']\n"
     ]
    }
   ],
   "source": [
    "vowelregex=re.compile('[^RCBABY]+')\n",
    "a=vowelregex.findall('RoboCop eats baby food.BABY FOOD ') \n",
    "print(a)"
   ]
  },
  {
   "cell_type": "code",
   "execution_count": 72,
   "metadata": {},
   "outputs": [
    {
     "name": "stdout",
     "output_type": "stream",
     "text": [
      "We\n"
     ]
    }
   ],
   "source": [
    "beginsWithHello=re.compile('^We') # $ anchors the match at end of the string \n",
    "s=beginsWithHello.search('We are living in a beautiful world ')\n",
    "print(s.group())\n",
    "\n",
    "\n",
    "# ^ match the begginning of the text\n",
    "# $ match the end of text"
   ]
  },
  {
   "cell_type": "code",
   "execution_count": 77,
   "metadata": {},
   "outputs": [
    {
     "name": "stdout",
     "output_type": "stream",
     "text": [
      "+514-222-3333\n"
     ]
    }
   ],
   "source": [
    "phoneNumregex=re.compile('[+]\\d+.\\d+.\\d+')\n",
    "mo=phoneNumregex.search('My number is +514-222-3333.')\n",
    "# print(mo.group(1))\n",
    "# print(mo.group(2)) \n",
    "print(mo.group(0)) "
   ]
  },
  {
   "cell_type": "code",
   "execution_count": 79,
   "metadata": {},
   "outputs": [
    {
     "name": "stdout",
     "output_type": "stream",
     "text": [
      "['Batman ', ' Robin ', ' Tina Fey']\n"
     ]
    }
   ],
   "source": [
    "heroregex=re.compile('Batman | Robin | Tina Fey') \n",
    "x=heroregex.findall(' Batman had a hard time learning but learnt quickly than  Robin and Tina Fey')\n",
    "print(x)"
   ]
  },
  {
   "cell_type": "code",
   "execution_count": 80,
   "metadata": {},
   "outputs": [
    {
     "data": {
      "text/plain": [
       "['$at', 'hat', 'sat', ' at', ' at', 'cat']"
      ]
     },
     "execution_count": 80,
     "metadata": {},
     "output_type": "execute_result"
    }
   ],
   "source": [
    "#.matches any character except new line\n",
    "atRegex=re.compile('.at')\n",
    "atRegex.findall('The $at in the hatc sat on the floor at at \\nat \\nat cat' )"
   ]
  },
  {
   "cell_type": "code",
   "execution_count": 81,
   "metadata": {},
   "outputs": [
    {
     "data": {
      "text/plain": [
       "'CENSORED gave the secret document to CENSORED'"
      ]
     },
     "execution_count": 81,
     "metadata": {},
     "output_type": "execute_result"
    }
   ],
   "source": [
    "namesregex=re.compile('Agent \\w+')\n",
    "namesregex.sub('CENSORED','Agent Alice gave the secret document to Agent bob')  #sub(string to be replaced,string to replace)"
   ]
  },
  {
   "cell_type": "code",
   "execution_count": 84,
   "metadata": {},
   "outputs": [
    {
     "name": "stdout",
     "output_type": "stream",
     "text": [
      "['python', 'is', 'awesome']\n"
     ]
    }
   ],
   "source": [
    "#Split at each white-space character:\n",
    "str = \"python is awesome\"\n",
    "x = re.split(\"\\s\", str) #re.split(pattern, string)\n",
    "print(x)"
   ]
  },
  {
   "cell_type": "code",
   "execution_count": 83,
   "metadata": {},
   "outputs": [
    {
     "name": "stdout",
     "output_type": "stream",
     "text": [
      "['python', 'is', 'awesome']\n"
     ]
    }
   ],
   "source": [
    "# Split the string only at the first occurrence:\n",
    "str = \"python is awesome\"\n",
    "x = re.split(\" \", str)\n",
    "print(x)"
   ]
  },
  {
   "cell_type": "code",
   "execution_count": 85,
   "metadata": {},
   "outputs": [
    {
     "name": "stdout",
     "output_type": "stream",
     "text": [
      "python9is9awesome\n"
     ]
    }
   ],
   "source": [
    "#Replace every white-space character with the number 9:\n",
    "\n",
    "import re\n",
    "\n",
    "str = \"python is awesome\"\n",
    "x = re.sub(\"\\s\", \"9\", str)\n",
    "print(x)"
   ]
  },
  {
   "cell_type": "code",
   "execution_count": 86,
   "metadata": {},
   "outputs": [
    {
     "name": "stdout",
     "output_type": "stream",
     "text": [
      "python9is9awesome\n"
     ]
    }
   ],
   "source": [
    "str = \"python is awesome\"\n",
    "x = re.sub(\"\\s\", \"9\", str,2)\n",
    "print(x)\n"
   ]
  },
  {
   "cell_type": "code",
   "execution_count": null,
   "metadata": {},
   "outputs": [],
   "source": [
    "\"\"\"\n",
    "Regex problems-\n",
    "\n",
    "1. Write a Python program to check that a string contains only a certain set of characters (in this case a-z, A-Z and 0-9)\n",
    "2. Write a Python program that matches a string that has an a followed by zero or more b's\n",
    "3. Write a Python program that matches a string that has an a followed by zero or one 'b'.\n",
    "4. Write a Python program that matches a string that has an a followed by three 'b'.\n",
    "5. Write a Python program to find sequences of lowercase letters joined with a underscore.\n",
    "6. Write a Python program that matches a string that has an 'a' followed by anything, ending in 'b'.\n",
    "7. Write a Python program that matches a word at the beginning of a string. \n",
    "8. Write a Python program to replace whitespaces with an underscore and vice versa.\n",
    "9. Write a Python program to replace all occurrences of space, comma, or dot with a colon\n",
    "10. Write a Python program to find all words which are at least 4 characters long in a string.\n",
    "\n",
    "\"\"\""
   ]
  },
  {
   "cell_type": "code",
   "execution_count": 112,
   "metadata": {},
   "outputs": [],
   "source": [
    "import re"
   ]
  },
  {
   "cell_type": "code",
   "execution_count": 124,
   "metadata": {},
   "outputs": [
    {
     "name": "stdout",
     "output_type": "stream",
     "text": [
      "['Hello', 'we', 'are', 'recaping', 'regex', 'Today', 'is', 'Monday']\n"
     ]
    }
   ],
   "source": [
    "file_read_content=\"Hello we are recaping regex *** , Today is Monday!\"\n",
    "pattern=re.compile(r'\\w+') # we use the compile method to create the search pattern \n",
    "print(pattern.findall(file_read_content))"
   ]
  },
  {
   "cell_type": "code",
   "execution_count": 126,
   "metadata": {},
   "outputs": [
    {
     "name": "stdout",
     "output_type": "stream",
     "text": [
      "['a', 'a', 'a', 'a']\n"
     ]
    }
   ],
   "source": [
    "pattern=re.compile(r'ab*') # * denotes zero or more occurences \n",
    "print(pattern.findall(\"Hello we are recaping regex *** , Today is Monday!\"))"
   ]
  },
  {
   "cell_type": "code",
   "execution_count": 132,
   "metadata": {},
   "outputs": [
    {
     "name": "stdout",
     "output_type": "stream",
     "text": [
      "['a', 'ab', 'ab', '676']\n"
     ]
    }
   ],
   "source": [
    "pattern=re.compile(r'ab?|\\d+')\n",
    "print(pattern.findall(\"ritiak * _ rababbbbbitik 676\"))"
   ]
  },
  {
   "cell_type": "code",
   "execution_count": 137,
   "metadata": {},
   "outputs": [
    {
     "name": "stdout",
     "output_type": "stream",
     "text": [
      "['abbb']\n"
     ]
    }
   ],
   "source": [
    "pattern=re.compile(r'ab{3}') # explicitly fetch 3 values of b followed by a \n",
    "print(pattern.findall(\"ritiak * _ rabbbbbbitik 676\")) "
   ]
  },
  {
   "cell_type": "code",
   "execution_count": 141,
   "metadata": {},
   "outputs": [
    {
     "name": "stdout",
     "output_type": "stream",
     "text": [
      "['regex_']\n"
     ]
    }
   ],
   "source": [
    "pattern=re.compile(r'([a-z]+_)')\n",
    "print(pattern.findall(\"Hello we are recaping regex_ *** , Today is Monday!\"))"
   ]
  },
  {
   "cell_type": "code",
   "execution_count": 145,
   "metadata": {},
   "outputs": [
    {
     "name": "stdout",
     "output_type": "stream",
     "text": [
      "['a9b', 'abb', 'abb']\n"
     ]
    }
   ],
   "source": [
    "pattern=re.compile(r'(a.b)') # \n",
    "print(pattern.findall(\"ab a9b abbb abbbbb b__ f_\"))"
   ]
  },
  {
   "cell_type": "code",
   "execution_count": 146,
   "metadata": {},
   "outputs": [
    {
     "name": "stdout",
     "output_type": "stream",
     "text": [
      "Hello\n"
     ]
    }
   ],
   "source": [
    "pattern=re.compile(r'^Hello')\n",
    "x=pattern.search(\"Hello we are recaping regex *** , Today is Monday!\")\n",
    "print(x.group())"
   ]
  },
  {
   "cell_type": "code",
   "execution_count": 151,
   "metadata": {},
   "outputs": [
    {
     "name": "stdout",
     "output_type": "stream",
     "text": [
      "Hello_we_are_recaping_regex_***_,_Today_is_Monday!\n",
      "Hello we are recaping regex *** , Today is Monday!\n"
     ]
    }
   ],
   "source": [
    "print(re.sub(' ','_',\"Hello we are recaping regex *** , Today is Monday!\"))\n",
    "print(re.sub('_',' ',\"Hello we are recaping regex_*** ,_Today is Monday!\"))"
   ]
  },
  {
   "cell_type": "code",
   "execution_count": 152,
   "metadata": {},
   "outputs": [
    {
     "name": "stdout",
     "output_type": "stream",
     "text": [
      "a:b:ab:b:abb:b:abbbbb:b\n"
     ]
    }
   ],
   "source": [
    "print(re.sub('(\\s|[,.])',':',\"a,b ab.b abb,b abbbbb b\")) # [,.] / [arn]"
   ]
  },
  {
   "cell_type": "code",
   "execution_count": 103,
   "metadata": {},
   "outputs": [
    {
     "name": "stdout",
     "output_type": "stream",
     "text": [
      "['went', 'came', 'back']\n"
     ]
    }
   ],
   "source": [
    "p=re.compile('[a-zA-Z]{4}')\n",
    "print(p.findall(\"I went at 1am and came back at 12 PM\"))\n"
   ]
  },
  {
   "cell_type": "code",
   "execution_count": 1,
   "metadata": {},
   "outputs": [],
   "source": [
    "# Ref link - https://www.geeksforgeeks.org/regular-expression-python-examples-set-1/"
   ]
  },
  {
   "cell_type": "code",
   "execution_count": null,
   "metadata": {},
   "outputs": [],
   "source": [
    "#  The OS module in python which provides functions for interacting with the operating system. This module provides a portable way of using operating-system dependent functionality.\n",
    "\n",
    "# import os \n",
    "\n",
    "# pwd=os.getcwd()\n",
    "# print(pwd) # printing the current directory\n",
    "\n",
    "# def current_path():\n",
    "#     print(\"Current working directory before\")\n",
    "#     print(os.getcwd())\n",
    "\n",
    "# current_path()\n",
    "# os.chdir('../') # changing the directory \n",
    "# current_path()\n",
    "\n",
    "# directory='Friday'\n",
    "# parent_dir='C:/Users/Admin/Desktop/byte'\n",
    "\n",
    "# path=os.path.join(parent_dir,directory)\n",
    "# os.mkdir(path) # is used to create a directory named path with the specified numeric mode. \n",
    "# print(\"Directory created\",directory)\n",
    "\n",
    "# directory='Avi'\n",
    "# parent_dir=\"C:/Users/Admin/Desktop/Names\" # directory 'Avi' and 'Names' will be created too if it does not exist \n",
    "# path=os.path.join(parent_dir,directory)\n",
    "# os.makedirs(path) # is used to in python to crate a directory recursively \n",
    "# print('Directors created',directory)\n",
    "\n",
    "# path='C:/Users/Admin/Desktop'\n",
    "# dir_list=os.listdir(path) # is used to get the list of all files and directories in the specified directory. \n",
    "# print(path)\n",
    "# print(dir_list)\n",
    "\n",
    "# file='avi.txt'\n",
    "# location='C:/Users/Admin/Desktop/Names/Avi'\n",
    "# path=os.path.join(location,file)\n",
    "# os.remove(path) # is used to remove or delete a file path\n",
    "\n",
    "\n",
    "# directory='Avi'\n",
    "# location='C:/Users/Admin/Desktop/Names/'\n",
    "# path=os.path.join(location,directory)\n",
    "# os.rmdir(path) # used in python to remove or delete any empty directory"
   ]
  }
 ],
 "metadata": {
  "hide_input": false,
  "kernelspec": {
   "display_name": "Python 3",
   "language": "python",
   "name": "python3"
  },
  "language_info": {
   "codemirror_mode": {
    "name": "ipython",
    "version": 3
   },
   "file_extension": ".py",
   "mimetype": "text/x-python",
   "name": "python",
   "nbconvert_exporter": "python",
   "pygments_lexer": "ipython3",
   "version": "3.10.5"
  }
 },
 "nbformat": 4,
 "nbformat_minor": 4
}
