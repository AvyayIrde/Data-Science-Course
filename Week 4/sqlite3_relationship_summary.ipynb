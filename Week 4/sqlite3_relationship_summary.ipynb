{
 "cells": [
  {
   "cell_type": "code",
   "execution_count": 40,
   "id": "765a185e-1b8c-44fb-bd94-3609cc3bdd19",
   "metadata": {},
   "outputs": [],
   "source": [
    "import sqlite3\n",
    "# print(dir(sqlite3))\n",
    "# print(sqlite3.version) \n",
    "\n",
    "con=sqlite3.connect('project_employee.db') # step 1\n",
    "# print(dir(con))"
   ]
  },
  {
   "cell_type": "code",
   "execution_count": 41,
   "id": "8bf75608-f34a-4a08-9d01-74e94968f43f",
   "metadata": {},
   "outputs": [],
   "source": [
    "# step 2 \n",
    "cursor_obj=con.cursor() # this will create a cursor object which will\n",
    "# help to execute various sql commands "
   ]
  },
  {
   "cell_type": "code",
   "execution_count": 43,
   "id": "814f5273-7c11-448a-982a-41588046686f",
   "metadata": {},
   "outputs": [
    {
     "data": {
      "text/plain": [
       "<sqlite3.Cursor at 0x2b097a8fec0>"
      ]
     },
     "execution_count": 43,
     "metadata": {},
     "output_type": "execute_result"
    }
   ],
   "source": [
    "# step 3\n",
    "# create table employee   \n",
    "\n",
    "cursor_obj.execute('create table employee(id integer primary key autoincrement, name text,location text)')\n",
    "\n",
    "# this tells us that not every column with primary key constraint will automatically perform auto increment\n"
   ]
  },
  {
   "cell_type": "code",
   "execution_count": 45,
   "id": "8602fcc9-6299-4306-afc8-ff67f1d5cd4f",
   "metadata": {},
   "outputs": [
    {
     "data": {
      "text/plain": [
       "<sqlite3.Cursor at 0x2b097a8fec0>"
      ]
     },
     "execution_count": 45,
     "metadata": {},
     "output_type": "execute_result"
    }
   ],
   "source": [
    "# create table project with relationship\n",
    "\n",
    "cursor_obj.execute('create table project(id integer primary key autoincrement, p_name text, p_owner text,e_p_id int,foreign key (e_p_id) references employee(id))')"
   ]
  },
  {
   "cell_type": "code",
   "execution_count": 46,
   "id": "f27ac75a-9e97-4a88-94c2-d66a0b64509f",
   "metadata": {},
   "outputs": [],
   "source": [
    "# insert into employee \n",
    "\n",
    "cursor_obj.execute('insert into employee(name,location) values(\"ashwin\",\"bangalore\")')\n",
    "cursor_obj.execute('insert into employee(name,location) values(\"avyay\",\"mysore\")')\n",
    "cursor_obj.execute('insert into employee(name,location) values(\"vivek\",\"hubli\")')\n",
    "con.commit()"
   ]
  },
  {
   "cell_type": "code",
   "execution_count": 47,
   "id": "43bfac18-36c4-4737-a7b6-1577470ddfc6",
   "metadata": {},
   "outputs": [],
   "source": [
    "cursor_obj.execute('insert into project(p_name,p_owner,e_p_id) values(\"Web Scraping\",\"ABC client\",(select id from employee where id =1))')\n",
    "cursor_obj.execute('insert into project(p_name,p_owner,e_p_id) values(\"MVC\",\"XYZ client\",(select id from employee where id =2))')\n",
    "cursor_obj.execute('insert into project(p_name,p_owner,e_p_id) values(\"Regex\",\"LMN client\",(select id from employee where id =3))')\n",
    "con.commit()"
   ]
  },
  {
   "cell_type": "code",
   "execution_count": 65,
   "id": "e7d3cc2e-a0b9-488f-8aa0-664879fc8dc9",
   "metadata": {},
   "outputs": [],
   "source": [
    "result=cursor_obj.execute('select * from employee ')\n",
    "\n",
    "for i in result:\n",
    "    print(i)"
   ]
  },
  {
   "cell_type": "code",
   "execution_count": 52,
   "id": "9f3625a5-ff6a-42b9-b15c-509865ade378",
   "metadata": {},
   "outputs": [
    {
     "name": "stdout",
     "output_type": "stream",
     "text": [
      "(1, 'Web Scraping', 'ABC client', 1)\n",
      "(2, 'MVC', 'XYZ client', 2)\n",
      "(3, 'Regex', 'LMN client', 3)\n"
     ]
    }
   ],
   "source": [
    "result=cursor_obj.execute('select * from project ')\n",
    "\n",
    "for i in result:\n",
    "    print(i)"
   ]
  },
  {
   "cell_type": "code",
   "execution_count": 53,
   "id": "c00e8878-0aba-4346-b74e-23e5ccce9474",
   "metadata": {},
   "outputs": [
    {
     "data": {
      "text/plain": [
       "('vivek', 'hubli')"
      ]
     },
     "execution_count": 53,
     "metadata": {},
     "output_type": "execute_result"
    }
   ],
   "source": [
    "cursor_obj.execute('select name,location from employee where id=3').fetchone()"
   ]
  },
  {
   "cell_type": "code",
   "execution_count": 56,
   "id": "f063f0b5-f669-457d-8686-bf0dd82b2988",
   "metadata": {},
   "outputs": [],
   "source": [
    "result=cursor_obj.execute('select e.name,p_name,p_owner from employee as e,project where e_p_id=e.id')\n"
   ]
  },
  {
   "cell_type": "code",
   "execution_count": 57,
   "id": "fe0a27cc-a802-4a4e-ad28-1f02ba057db2",
   "metadata": {},
   "outputs": [
    {
     "name": "stdout",
     "output_type": "stream",
     "text": [
      "('ashwin', 'Web Scraping', 'ABC client')\n",
      "('avyay', 'MVC', 'XYZ client')\n",
      "('vivek', 'Regex', 'LMN client')\n"
     ]
    }
   ],
   "source": [
    "for i in result:\n",
    "    print(i)"
   ]
  },
  {
   "cell_type": "code",
   "execution_count": 62,
   "id": "393f1074-4ee3-4fca-986a-6eaeaf73ecc7",
   "metadata": {},
   "outputs": [],
   "source": [
    "result=cursor_obj.execute('select * from employee where id in (2,3)')"
   ]
  },
  {
   "cell_type": "code",
   "execution_count": 63,
   "id": "6d175eef-9f02-4c97-a77b-6f1d6ed760cd",
   "metadata": {},
   "outputs": [
    {
     "name": "stdout",
     "output_type": "stream",
     "text": [
      "(2, 'avyay', 'mysore')\n",
      "(3, 'vivek', 'hubli')\n"
     ]
    }
   ],
   "source": [
    "for i in result:\n",
    "    print(i)"
   ]
  },
  {
   "cell_type": "code",
   "execution_count": 64,
   "id": "1c3eabf0-26dd-4eea-ac91-67cd32c3f00a",
   "metadata": {},
   "outputs": [
    {
     "data": {
      "text/plain": [
       "<sqlite3.Cursor at 0x2b097a8fec0>"
      ]
     },
     "execution_count": 64,
     "metadata": {},
     "output_type": "execute_result"
    }
   ],
   "source": [
    "cursor_obj.execute('delete from employee') # delete all records\n",
    "cursor_obj.execute('delete from employee where id=2') # delete all records"
   ]
  },
  {
   "cell_type": "code",
   "execution_count": null,
   "id": "bfce242c-ba60-4b21-983d-916fe4777b05",
   "metadata": {},
   "outputs": [],
   "source": []
  }
 ],
 "metadata": {
  "kernelspec": {
   "display_name": "Python 3",
   "language": "python",
   "name": "python3"
  },
  "language_info": {
   "codemirror_mode": {
    "name": "ipython",
    "version": 3
   },
   "file_extension": ".py",
   "mimetype": "text/x-python",
   "name": "python",
   "nbconvert_exporter": "python",
   "pygments_lexer": "ipython3",
   "version": "3.10.5"
  }
 },
 "nbformat": 4,
 "nbformat_minor": 5
}
