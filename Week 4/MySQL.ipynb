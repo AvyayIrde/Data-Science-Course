{
 "cells": [
  {
   "cell_type": "code",
   "execution_count": 1,
   "metadata": {},
   "outputs": [],
   "source": [
    "import mysql.connector\n"
   ]
  },
  {
   "cell_type": "code",
   "execution_count": null,
   "metadata": {},
   "outputs": [],
   "source": [
    "def connect():\n",
    "    conn = None\n",
    "    try:\n",
    "        conn = mysql.connector.connect(\n",
    "            host=\"localhost\",\n",
    "            user=\"root\",\n",
    "            passwd=\"@vyay123\",\n",
    "            database=\"python_mysql\"\n",
    "        )\n",
    "    except:\n",
    "        print(\"Error in connecting to database\")"
   ]
  },
  {
   "cell_type": "code",
   "execution_count": 2,
   "metadata": {},
   "outputs": [],
   "source": [
    "from configparser import ConfigParser # Notice that we use ConfigureParser package to read the configuration file.\n",
    " \n",
    "def read_db_config(filename='data/config.ini', section='mysql'):\n",
    "    \"\"\" Read database configuration file and return a dictionary object\n",
    "    :param filename: name of the configuration file\n",
    "    :param section: section of database configuration\n",
    "    :return: a dictionary of database parameters\n",
    "    \"\"\"\n",
    "    # create parser and read ini configuration file\n",
    "    parser = ConfigParser()\n",
    "    parser.read(filename)\n",
    " \n",
    "    # get section, default to mysql\n",
    "    db = {}\n",
    "    if parser.has_section(section):\n",
    "        items = parser.items(section)\n",
    "        for item in items:\n",
    "            db[item[0]] = item[1]\n",
    "    else:\n",
    "        raise Exception('{0} not found in the {1} file'.format(section, filename))\n",
    " \n",
    "    return db # dictionary containing key-value pairs of the credentials to your Mysql server connection \n"
   ]
  },
  {
   "cell_type": "code",
   "execution_count": 3,
   "metadata": {},
   "outputs": [
    {
     "name": "stdout",
     "output_type": "stream",
     "text": [
      "{'host': 'localhost', 'user': 'root', 'password': '@vyay123', 'database': 'python_mysql'}\n"
     ]
    }
   ],
   "source": [
    "print(read_db_config())"
   ]
  },
  {
   "cell_type": "code",
   "execution_count": 1,
   "metadata": {},
   "outputs": [
    {
     "ename": "NameError",
     "evalue": "name 'read_db_config' is not defined",
     "output_type": "error",
     "traceback": [
      "\u001b[0;31m---------------------------------------------------------------------------\u001b[0m",
      "\u001b[0;31mNameError\u001b[0m                                 Traceback (most recent call last)",
      "\u001b[1;32m/home/avyay/OneDrive/Documents/Data-Science-Course/Week 4/MySQL.ipynb Cell 1'\u001b[0m in \u001b[0;36m<cell line: 28>\u001b[0;34m()\u001b[0m\n\u001b[1;32m     <a href='vscode-notebook-cell:/home/avyay/OneDrive/Documents/Data-Science-Course/Week%204/MySQL.ipynb#ch0000000?line=24'>25</a>\u001b[0m             \u001b[39mprint\u001b[39m(\u001b[39m'\u001b[39m\u001b[39mConnection closed.\u001b[39m\u001b[39m'\u001b[39m)\n\u001b[1;32m     <a href='vscode-notebook-cell:/home/avyay/OneDrive/Documents/Data-Science-Course/Week%204/MySQL.ipynb#ch0000000?line=27'>28</a>\u001b[0m \u001b[39mif\u001b[39;00m \u001b[39m__name__\u001b[39m \u001b[39m==\u001b[39m \u001b[39m'\u001b[39m\u001b[39m__main__\u001b[39m\u001b[39m'\u001b[39m:\n\u001b[0;32m---> <a href='vscode-notebook-cell:/home/avyay/OneDrive/Documents/Data-Science-Course/Week%204/MySQL.ipynb#ch0000000?line=28'>29</a>\u001b[0m     connect()\n",
      "\u001b[1;32m/home/avyay/OneDrive/Documents/Data-Science-Course/Week 4/MySQL.ipynb Cell 1'\u001b[0m in \u001b[0;36mconnect\u001b[0;34m()\u001b[0m\n\u001b[1;32m      <a href='vscode-notebook-cell:/home/avyay/OneDrive/Documents/Data-Science-Course/Week%204/MySQL.ipynb#ch0000000?line=4'>5</a>\u001b[0m \u001b[39mdef\u001b[39;00m \u001b[39mconnect\u001b[39m():\n\u001b[1;32m      <a href='vscode-notebook-cell:/home/avyay/OneDrive/Documents/Data-Science-Course/Week%204/MySQL.ipynb#ch0000000?line=5'>6</a>\u001b[0m     \u001b[39m\"\"\" Connect to MySQL database \"\"\"\u001b[39;00m\n\u001b[0;32m----> <a href='vscode-notebook-cell:/home/avyay/OneDrive/Documents/Data-Science-Course/Week%204/MySQL.ipynb#ch0000000?line=7'>8</a>\u001b[0m     db_config \u001b[39m=\u001b[39m read_db_config()\n\u001b[1;32m      <a href='vscode-notebook-cell:/home/avyay/OneDrive/Documents/Data-Science-Course/Week%204/MySQL.ipynb#ch0000000?line=8'>9</a>\u001b[0m     conn \u001b[39m=\u001b[39m \u001b[39mNone\u001b[39;00m\n\u001b[1;32m     <a href='vscode-notebook-cell:/home/avyay/OneDrive/Documents/Data-Science-Course/Week%204/MySQL.ipynb#ch0000000?line=9'>10</a>\u001b[0m     \u001b[39mtry\u001b[39;00m:\n",
      "\u001b[0;31mNameError\u001b[0m: name 'read_db_config' is not defined"
     ]
    }
   ],
   "source": [
    "'''Connection check to database through the configuartion file we created'''\n",
    "\n",
    "from mysql.connector import MySQLConnection, Error\n",
    " \n",
    "def connect():\n",
    "    \"\"\" Connect to MySQL database \"\"\"\n",
    " \n",
    "    db_config = read_db_config()\n",
    "    conn = None\n",
    "    try:\n",
    "        print('Connecting to MySQL database...')\n",
    "        conn = MySQLConnection(**db_config) # kwargs \n",
    " \n",
    "        if conn.is_connected():\n",
    "            print('Connection established.')\n",
    "        else:\n",
    "            print('Connection failed.')\n",
    " \n",
    "    except Error as error:\n",
    "        print(error)\n",
    " \n",
    "    finally:\n",
    "        if conn is not None and conn.is_connected():\n",
    "            conn.close()\n",
    "            print('Connection closed.')\n",
    " \n",
    " \n",
    "if __name__ == '__main__':\n",
    "    connect()"
   ]
  },
  {
   "cell_type": "code",
   "execution_count": null,
   "metadata": {},
   "outputs": [],
   "source": []
  }
 ],
 "metadata": {
  "kernelspec": {
   "display_name": "Python 3.10.5 64-bit",
   "language": "python",
   "name": "python3"
  },
  "language_info": {
   "codemirror_mode": {
    "name": "ipython",
    "version": 3
   },
   "file_extension": ".py",
   "mimetype": "text/x-python",
   "name": "python",
   "nbconvert_exporter": "python",
   "pygments_lexer": "ipython3",
   "version": "3.10.5"
  },
  "orig_nbformat": 4,
  "vscode": {
   "interpreter": {
    "hash": "e7370f93d1d0cde622a1f8e1c04877d8463912d04d973331ad4851f04de6915a"
   }
  }
 },
 "nbformat": 4,
 "nbformat_minor": 2
}
