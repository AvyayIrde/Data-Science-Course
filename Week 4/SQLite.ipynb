{
 "cells": [
  {
   "cell_type": "code",
   "execution_count": 16,
   "metadata": {},
   "outputs": [],
   "source": [
    "import sqlite3"
   ]
  },
  {
   "cell_type": "code",
   "execution_count": 17,
   "metadata": {},
   "outputs": [],
   "source": [
    "# print(sqlite3.version)\n",
    "\n",
    "con = sqlite3.connect('data/employee.db') #step 1\n",
    "# print(dir(con))\n",
    "cursor_obj = con.cursor() #step 2\n"
   ]
  },
  {
   "cell_type": "code",
   "execution_count": 18,
   "metadata": {},
   "outputs": [
    {
     "data": {
      "text/plain": [
       "<sqlite3.Cursor at 0x7f6b60820ac0>"
      ]
     },
     "execution_count": 18,
     "metadata": {},
     "output_type": "execute_result"
    }
   ],
   "source": [
    "cursor_obj.execute('create table employee(id integer primary key autoincrement, name text, location text)')\n",
    "\n",
    "#autoincrement does as the name suggests"
   ]
  },
  {
   "cell_type": "code",
   "execution_count": 19,
   "metadata": {},
   "outputs": [
    {
     "data": {
      "text/plain": [
       "<sqlite3.Cursor at 0x7f6b60820ac0>"
      ]
     },
     "execution_count": 19,
     "metadata": {},
     "output_type": "execute_result"
    }
   ],
   "source": [
    "cursor_obj.execute('create table project(id integer primary key autoincrement, p_name text, p_owner text, e_p_id int, FOREIGN KEY (e_p_id) REFERENCES employee(id))')"
   ]
  },
  {
   "cell_type": "code",
   "execution_count": 20,
   "metadata": {},
   "outputs": [],
   "source": [
    "cursor_obj.execute('insert into employee(name,location) values(\"avyay\",\"bangalore\")')\n",
    "cursor_obj.execute('insert into employee(name,location) values(\"vivek\",\"mysore\")')\n",
    "cursor_obj.execute('insert into employee(name,location) values(\"ashwin\",\"mangalore\")')\n",
    "con.commit()\n"
   ]
  },
  {
   "cell_type": "code",
   "execution_count": 21,
   "metadata": {},
   "outputs": [],
   "source": [
    "cursor_obj.execute('insert into project(p_name,p_owner,e_p_id) values(\"Web Scraping\",\"ABC client\",(select id from employee where id=2))')\n",
    "cursor_obj.execute('insert into project(p_name,p_owner,e_p_id) values(\"Python\",\"Tomato client\",(select id from employee where id=3))')\n",
    "cursor_obj.execute('insert into project(p_name,p_owner,e_p_id) values(\"REGEX\",\"BAD client\",(select id from employee where id=1))')\n",
    "con.commit()\n"
   ]
  },
  {
   "cell_type": "code",
   "execution_count": 24,
   "metadata": {},
   "outputs": [
    {
     "name": "stdout",
     "output_type": "stream",
     "text": [
      "(1, 'avyay', 'bangalore')\n",
      "(2, 'vivek', 'mysore')\n",
      "(3, 'ashwin', 'mangalore')\n"
     ]
    }
   ],
   "source": [
    "result = cursor_obj.execute('select * from employee')\n",
    "\n",
    "for i in result:\n",
    "    print(i)"
   ]
  },
  {
   "cell_type": "code",
   "execution_count": 25,
   "metadata": {},
   "outputs": [
    {
     "name": "stdout",
     "output_type": "stream",
     "text": [
      "(1, 'Web Scraping', 'ABC client', 2)\n",
      "(2, 'Python', 'Tomato client', 3)\n",
      "(3, 'REGEX', 'BAD client', 1)\n"
     ]
    }
   ],
   "source": [
    "result = cursor_obj.execute('select * from project')\n",
    "\n",
    "for i in result:\n",
    "    print(i)"
   ]
  },
  {
   "cell_type": "code",
   "execution_count": 31,
   "metadata": {},
   "outputs": [
    {
     "data": {
      "text/plain": [
       "[('vivek', 'Web Scraping', 'ABC client'),\n",
       " ('ashwin', 'Python', 'Tomato client'),\n",
       " ('avyay', 'REGEX', 'BAD client')]"
      ]
     },
     "execution_count": 31,
     "metadata": {},
     "output_type": "execute_result"
    }
   ],
   "source": [
    "cursor_obj.execute('select name,p_name,p_owner from employee as e, project where e_p_id=e.id').fetchall()\n"
   ]
  },
  {
   "cell_type": "markdown",
   "metadata": {},
   "source": [
    "Create a super store database with 2 tables supplier and supplier \n",
    "Attributes of supplier - supplier_id, supplier_name, location\n",
    "attributes of supplier_groups - group_id, group_name, \n",
    "\n",
    "Assuming each supplier belongs to one and only one supplier group. And each supplier group may have zero or many suppliers.\n",
    "\n",
    "Relationship between supplier_groups and suppliers is many to one"
   ]
  },
  {
   "cell_type": "code",
   "execution_count": 65,
   "metadata": {},
   "outputs": [
    {
     "name": "stdout",
     "output_type": "stream",
     "text": [
      "abc\n"
     ]
    }
   ],
   "source": [
    "import sqlite3\n",
    "from sqlite3 import Error\n",
    "\n",
    "class store:\n",
    "\n",
    "    def __init__(self,name):\n",
    "        self.name=name\n",
    "\n",
    "    def __str__(self):\n",
    "        return 'Hello, Welcome to ',self.name,' store'\n",
    "\n",
    "\n",
    "    def create_db(self): #step 1 create database\n",
    "        try:            \n",
    "            self.con = sqlite3.connect('data/store.db')\n",
    "            cur = self.con.cursor()\n",
    "            return cur\n",
    "        except Error:\n",
    "            print(Error)\n",
    "\n",
    "    def create_tables(self, cur):\n",
    "        try:\n",
    "            # cur.execute('drop table suppliers if not exists')\n",
    "            # cur.execute('drop table supplier_groups if not exists')\n",
    "            cur.execute('create table supplier_group(group_id integer PRIMARY KEY, group_name text not null)')\n",
    "            cur.execute('create table suppliers(supplier_id integer PRIMARY KEY, supplier_name text not null, location text not null, group_id integer not null, FOREIGN KEY(group_id) references supplier_group(group_id) ON UPDATE SET NULL ON DELETE SET NULL)')\n",
    "        except Error:\n",
    "            print(Error)\n",
    "\n",
    "    def insert_group(self, cur, group_name):\n",
    "        try:\n",
    "            cur.execute('INSERT INTO supplier_group(group_name) values(?)', (group_name,))\n",
    "            self.con.commit()\n",
    "        except:\n",
    "            print(Error)\n",
    "\n",
    "    def insert_supplier(self, cur, name, loc, group_id):\n",
    "        try:\n",
    "            cur.execute('INSERT INTO suppliers(supplier_name, location, group_id) \\\n",
    "                values(?,?,?)', (name,loc,group_id,))\n",
    "            self.con.commit()\n",
    "        except:\n",
    "            print(Error)\n",
    "\n",
    "    def delete(self, cur):\n",
    "        try:\n",
    "            cur.execute('DELETE FROM supplier_group WHERE group_id=3')\n",
    "            self.con.commit()\n",
    "        except Error:\n",
    "            print(Error)\n",
    "    \n",
    "\n",
    "\n",
    "if __name__==\"__main__\":\n",
    "    obj = store('abc')\n",
    "    print('abc')\n",
    "    cur = obj.create_db() \n",
    "    obj.create_tables(cur)\n",
    "\n",
    "\n"
   ]
  },
  {
   "cell_type": "code",
   "execution_count": 66,
   "metadata": {},
   "outputs": [],
   "source": [
    "obj.insert_group(cur, 'Petroleum')\n",
    "obj.insert_group(cur, 'Sugar')\n",
    "obj.insert_group(cur, 'Wheat')"
   ]
  },
  {
   "cell_type": "code",
   "execution_count": 67,
   "metadata": {},
   "outputs": [],
   "source": [
    "obj.insert_supplier(cur, 'HP', 'India', 1)\n",
    "obj.insert_supplier(cur, 'Petronas', 'UAE', 1)\n",
    "obj.insert_supplier(cur, 'Parrys', 'India', 2)\n",
    "obj.insert_supplier(cur, 'Ashirvad', 'India', 3)\n",
    "obj.insert_supplier(cur, 'Kellogs', 'USA', 3)\n"
   ]
  },
  {
   "cell_type": "code",
   "execution_count": 68,
   "metadata": {},
   "outputs": [],
   "source": [
    "obj.insert_supplier(cur, 'Tomoato shop', 'Mongolia', 4)\n"
   ]
  },
  {
   "cell_type": "code",
   "execution_count": 69,
   "metadata": {},
   "outputs": [],
   "source": [
    "obj.delete(cur)"
   ]
  },
  {
   "cell_type": "code",
   "execution_count": null,
   "metadata": {},
   "outputs": [],
   "source": [
    "'''create table suppliers(supplier_id integer PRIMARY KEY, \n",
    "supplier_name text not null, \n",
    "location text not null,\n",
    "group_id integer not null, \n",
    "FOREIGN KEY(group_id) references supplier_group(group_id))\n",
    "ON UPDATE SET NULL\n",
    "ON DELETE SET NULL)\n",
    "'''"
   ]
  }
 ],
 "metadata": {
  "kernelspec": {
   "display_name": "Python 3.10.5 64-bit",
   "language": "python",
   "name": "python3"
  },
  "language_info": {
   "codemirror_mode": {
    "name": "ipython",
    "version": 3
   },
   "file_extension": ".py",
   "mimetype": "text/x-python",
   "name": "python",
   "nbconvert_exporter": "python",
   "pygments_lexer": "ipython3",
   "version": "3.10.5"
  },
  "orig_nbformat": 4,
  "vscode": {
   "interpreter": {
    "hash": "e7370f93d1d0cde622a1f8e1c04877d8463912d04d973331ad4851f04de6915a"
   }
  }
 },
 "nbformat": 4,
 "nbformat_minor": 2
}
