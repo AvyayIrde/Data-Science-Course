{
 "cells": [
  {
   "cell_type": "code",
   "execution_count": 16,
   "metadata": {},
   "outputs": [],
   "source": [
    "import sqlite3"
   ]
  },
  {
   "cell_type": "code",
   "execution_count": 17,
   "metadata": {},
   "outputs": [],
   "source": [
    "# print(sqlite3.version)\n",
    "\n",
    "con = sqlite3.connect('data/employee.db') #step 1\n",
    "# print(dir(con))\n",
    "cursor_obj = con.cursor() #step 2\n"
   ]
  },
  {
   "cell_type": "code",
   "execution_count": 18,
   "metadata": {},
   "outputs": [
    {
     "data": {
      "text/plain": [
       "<sqlite3.Cursor at 0x7f6b60820ac0>"
      ]
     },
     "execution_count": 18,
     "metadata": {},
     "output_type": "execute_result"
    }
   ],
   "source": [
    "cursor_obj.execute('create table employee(id integer primary key autoincrement, name text, location text)')\n",
    "\n",
    "#autoincrement does as the name suggests"
   ]
  },
  {
   "cell_type": "code",
   "execution_count": 19,
   "metadata": {},
   "outputs": [
    {
     "data": {
      "text/plain": [
       "<sqlite3.Cursor at 0x7f6b60820ac0>"
      ]
     },
     "execution_count": 19,
     "metadata": {},
     "output_type": "execute_result"
    }
   ],
   "source": [
    "cursor_obj.execute('create table project(id integer primary key autoincrement, p_name text, p_owner text, e_p_id int, FOREIGN KEY (e_p_id) REFERENCES employee(id))')"
   ]
  },
  {
   "cell_type": "code",
   "execution_count": 20,
   "metadata": {},
   "outputs": [],
   "source": [
    "cursor_obj.execute('insert into employee(name,location) values(\"avyay\",\"bangalore\")')\n",
    "cursor_obj.execute('insert into employee(name,location) values(\"vivek\",\"mysore\")')\n",
    "cursor_obj.execute('insert into employee(name,location) values(\"ashwin\",\"mangalore\")')\n",
    "con.commit()\n"
   ]
  },
  {
   "cell_type": "code",
   "execution_count": 21,
   "metadata": {},
   "outputs": [],
   "source": [
    "cursor_obj.execute('insert into project(p_name,p_owner,e_p_id) values(\"Web Scraping\",\"ABC client\",(select id from employee where id=2))')\n",
    "cursor_obj.execute('insert into project(p_name,p_owner,e_p_id) values(\"Python\",\"Tomato client\",(select id from employee where id=3))')\n",
    "cursor_obj.execute('insert into project(p_name,p_owner,e_p_id) values(\"REGEX\",\"BAD client\",(select id from employee where id=1))')\n",
    "con.commit()\n"
   ]
  },
  {
   "cell_type": "code",
   "execution_count": 24,
   "metadata": {},
   "outputs": [
    {
     "name": "stdout",
     "output_type": "stream",
     "text": [
      "(1, 'avyay', 'bangalore')\n",
      "(2, 'vivek', 'mysore')\n",
      "(3, 'ashwin', 'mangalore')\n"
     ]
    }
   ],
   "source": [
    "result = cursor_obj.execute('select * from employee')\n",
    "\n",
    "for i in result:\n",
    "    print(i)"
   ]
  },
  {
   "cell_type": "code",
   "execution_count": 25,
   "metadata": {},
   "outputs": [
    {
     "name": "stdout",
     "output_type": "stream",
     "text": [
      "(1, 'Web Scraping', 'ABC client', 2)\n",
      "(2, 'Python', 'Tomato client', 3)\n",
      "(3, 'REGEX', 'BAD client', 1)\n"
     ]
    }
   ],
   "source": [
    "result = cursor_obj.execute('select * from project')\n",
    "\n",
    "for i in result:\n",
    "    print(i)"
   ]
  },
  {
   "cell_type": "code",
   "execution_count": 31,
   "metadata": {},
   "outputs": [
    {
     "data": {
      "text/plain": [
       "[('vivek', 'Web Scraping', 'ABC client'),\n",
       " ('ashwin', 'Python', 'Tomato client'),\n",
       " ('avyay', 'REGEX', 'BAD client')]"
      ]
     },
     "execution_count": 31,
     "metadata": {},
     "output_type": "execute_result"
    }
   ],
   "source": [
    "cursor_obj.execute('select name,p_name,p_owner from employee as e, project where e_p_id=e.id').fetchall()\n"
   ]
  },
  {
   "cell_type": "code",
   "execution_count": null,
   "metadata": {},
   "outputs": [],
   "source": []
  }
 ],
 "metadata": {
  "kernelspec": {
   "display_name": "Python 3.10.5 64-bit",
   "language": "python",
   "name": "python3"
  },
  "language_info": {
   "codemirror_mode": {
    "name": "ipython",
    "version": 3
   },
   "file_extension": ".py",
   "mimetype": "text/x-python",
   "name": "python",
   "nbconvert_exporter": "python",
   "pygments_lexer": "ipython3",
   "version": "3.10.5"
  },
  "orig_nbformat": 4,
  "vscode": {
   "interpreter": {
    "hash": "e7370f93d1d0cde622a1f8e1c04877d8463912d04d973331ad4851f04de6915a"
   }
  }
 },
 "nbformat": 4,
 "nbformat_minor": 2
}
