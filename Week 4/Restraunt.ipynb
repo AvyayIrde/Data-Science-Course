{
 "cells": [
  {
   "cell_type": "markdown",
   "metadata": {},
   "source": [
    "Write a python program which creates a database using SQLITE3 module with following instructions..\n",
    "\n",
    "->Create a table called MyRestaurants with the following attributes: \n",
    "\tName of the restaurant: a varchar field\n",
    "\tType of food they make: a varchar field\n",
    "\tDistance (in minutes) from your house: an integer\n",
    "\tDate of your last visit: a varchar field, interpreted as date\n",
    "\tWhether you like it or not: an integer, interpreted as a Boolean\n",
    "\n",
    "->Insert at least five tuples using the SQL INSERT command five (or more) times. \n",
    "\tYou should insert at least one restaurant you liked, at least one restaurant you did not like, and at least one restaurant where you leave the iLike field NULL.\n",
    "\n",
    "->Write a SQL query to return all restaurants in your table.\n",
    "\n",
    "->Modify your SQL query such that it prints \"I liked it\" or \"I hated it\" for each restaurant you liked or not. # HINT- USE SQL CASE COMMAND \n",
    " \tNote that you are not allowed to modify the table on disk. You should be able to answer this question using only a SELECT statement.\n",
    " \tA solution that creates and uses an extra table, howerver, will be accepted.\n",
    "\n",
    "->Write a SQL query that returns all restaurants that you like, but have not visited since more than 3 months ago. "
   ]
  },
  {
   "cell_type": "code",
   "execution_count": 3,
   "metadata": {},
   "outputs": [
    {
     "name": "stdout",
     "output_type": "stream",
     "text": [
      "Connecting to MySQL database...\n",
      "Connection established.\n",
      "Connection closed.\n"
     ]
    }
   ],
   "source": [
    "import mysql.connector\n",
    "from mysql.connector import MySQLConnection\n",
    "from configparser import ConfigParser\n",
    "\n",
    "def read_db_config(filename='data/config.ini', section='mysql'):\n",
    "    \"\"\" Read database configuration file and return a dictionary object\n",
    "    :param filename: name of the configuration file\n",
    "    :param section: section of database configuration\n",
    "    :return: a dictionary of database parameters\n",
    "    \"\"\"\n",
    "    # create parser and read ini configuration file\n",
    "    parser = ConfigParser()\n",
    "    parser.read(filename)\n",
    " \n",
    "    # get section, default to mysql\n",
    "    db = {}\n",
    "    if parser.has_section(section):\n",
    "        items = parser.items(section)\n",
    "        for item in items:\n",
    "            db[item[0]] = item[1]\n",
    "    else:\n",
    "        raise Exception('{0} not found in the {1} file'.format(section, filename))\n",
    " \n",
    "    return db # dictionary containing key-value pairs of the credentials to your Mysql server connection \n",
    "\n",
    "from mysql.connector import MySQLConnection, Error\n",
    " \n",
    "def connect():\n",
    "    \"\"\" Connect to MySQL database \"\"\"\n",
    " \n",
    "    db_config = read_db_config()\n",
    "    conn = None\n",
    "    try:\n",
    "        print('Connecting to MySQL database...')\n",
    "        conn = MySQLConnection(**db_config) # kwargs \n",
    " \n",
    "        if conn.is_connected():\n",
    "            print('Connection established.')\n",
    "        else:\n",
    "            print('Connection failed.')\n",
    " \n",
    "    except Error as error:\n",
    "        print(error)\n",
    " \n",
    "    finally:\n",
    "        if conn is not None and conn.is_connected():\n",
    "            conn.close()\n",
    "            print('Connection closed.')\n"
   ]
  },
  {
   "cell_type": "code",
   "execution_count": 11,
   "metadata": {},
   "outputs": [],
   "source": [
    "'''>Create a table called MyRestaurants with the following attributes: \n",
    "\tName of the restaurant: a varchar field\n",
    "\tType of food they make: a varchar field\n",
    "\tDistance (in minutes) from your house: an integer\n",
    "\tDate of your last visit: a varchar field, interpreted as date\n",
    "\tWhether you like it or not: an integer, interpreted as a Boolean'''\n",
    "def create_table():\n",
    "    db_con=read_db_config()\n",
    "    connection=MySQLConnection(**db_con)\n",
    "    cursor=connection.cursor()\n",
    "    query=\"CREATE TABLE RES(name varchar(225), type varchar(225), distance INTEGER, date varchar(225), liked INTEGER)\"\n",
    "    cursor.execute(query)\n",
    "    connection.close()\n"
   ]
  },
  {
   "cell_type": "code",
   "execution_count": 15,
   "metadata": {},
   "outputs": [],
   "source": [
    "'''->Insert at least five tuples using the SQL INSERT command five (or more) times. \n",
    "\tYou should insert at least one restaurant you liked, at least one restaurant you did not like, and at least one restaurant where you leave the iLike field NULL.'''\n",
    "\n",
    "def insert():\n",
    "    db_con=read_db_config()\n",
    "    connection=MySQLConnection(**db_con)\n",
    "    cursor=connection.cursor()\n",
    "    query = \"INSERT INTO RES(name, type, distance, date, liked) VALUES(%s, %s, %s, %s, %s)\"\n",
    "    restaurents =[(\"Dominos\", \"Pizza\", 10, \"April 22, 2022\", 1),\n",
    "                    (\"McDonalds\", \"Fast Food\", 5, \"January 22, 2022\", 1),\n",
    "                    (\"Pizza Hut\", \"Pizza\", 15, \"September 04, 2008\", 0),\n",
    "                    (\"Subway\", \"Sandwich\", 7, \"October 13, 2021\", 1),\n",
    "                    (\"Taco Bell\", \"Mexican\", 11, \"November 27, 2022\", None),\n",
    "                    (\"Wendy's\", \"Fast Food\", 9, \"December 31, 2021\", 1),\n",
    "                    (\"CTR\", \"Dosa\", 12, \"January 14, 2022\", 1)]\n",
    "    cursor.executemany(query, restaurents)\n",
    "    connection.commit()\n",
    "    connection.close()"
   ]
  },
  {
   "cell_type": "code",
   "execution_count": 18,
   "metadata": {},
   "outputs": [],
   "source": [
    "'''->Write a SQL query to return all restaurants in your table.'''\n",
    "\n",
    "def query():\n",
    "    db_con=read_db_config()\n",
    "    connection=MySQLConnection(**db_con)\n",
    "    cursor=connection.cursor()\n",
    "    query=\"SELECT * FROM RES\"\n",
    "    cursor.execute(query)\n",
    "    for row in cursor:\n",
    "        print(row)"
   ]
  },
  {
   "cell_type": "code",
   "execution_count": 33,
   "metadata": {},
   "outputs": [],
   "source": [
    "'''->Modify your SQL query such that it prints \"I liked it\" or \"I hated it\" for each restaurant you liked or not. # HINT- USE SQL CASE COMMAND \n",
    " \tNote that you are not allowed to modify the table on disk. You should be able to answer this question using only a SELECT statement.\n",
    " \tA solution that creates and uses an extra table, howerver, will be accepted.'''\n",
    "\n",
    "def do_they_like():\n",
    "    db_con=read_db_config()\n",
    "    connection=MySQLConnection(**db_con)\n",
    "    cursor=connection.cursor()\n",
    "    query='''SELECT name, CASE\n",
    "            WHEN liked=0 THEN 'I Hated it'\n",
    "            WHEN liked=1 THEN 'I Liked it'\n",
    "            ELSE 'I left it blank'\n",
    "            END as result FROM RES'''\n",
    "    # query = '''SELECT name,CASE WHEN liked=0 THEN 'I hated it' WHEN liked=1 THEN 'I liked it' ELSE 'No like No hate' END as result FROM RES'''\n",
    "    cursor.execute(query)\n",
    "    for row in cursor:\n",
    "        print(row)\n",
    "    connection.close()"
   ]
  },
  {
   "cell_type": "code",
   "execution_count": 35,
   "metadata": {},
   "outputs": [],
   "source": [
    "'''Write a SQL query that returns all restaurants that you like, but have not visited since more than 3 months ago. '''\n",
    "import datetime\n",
    "\n",
    "def have_i_gone():\n",
    "    db_con=read_db_config()\n",
    "    connection=MySQLConnection(**db_con)\n",
    "    cursor=connection.cursor()\n",
    "    query='''SELECT name FROM RES WHERE liked=1 AND date < %s'''\n",
    "    now=datetime.datetime.now()\n",
    "    three_months_ago=now-datetime.timedelta(days=90)\n",
    "    cursor.execute(query, (three_months_ago,))\n",
    "    for row in cursor:\n",
    "        print(row)\n",
    "    connection.close()"
   ]
  },
  {
   "cell_type": "code",
   "execution_count": 37,
   "metadata": {},
   "outputs": [],
   "source": [
    " \n",
    " \n",
    "if __name__ == '__main__':\n",
    "    # connect()\n",
    "    # create_table()\n",
    "    # insert()\n",
    "    # query()\n",
    "    # do_they_like()\n",
    "    have_i_gone()\n"
   ]
  },
  {
   "cell_type": "code",
   "execution_count": null,
   "metadata": {},
   "outputs": [],
   "source": []
  }
 ],
 "metadata": {
  "kernelspec": {
   "display_name": "Python 3.10.5 64-bit",
   "language": "python",
   "name": "python3"
  },
  "language_info": {
   "codemirror_mode": {
    "name": "ipython",
    "version": 3
   },
   "file_extension": ".py",
   "mimetype": "text/x-python",
   "name": "python",
   "nbconvert_exporter": "python",
   "pygments_lexer": "ipython3",
   "version": "3.10.5"
  },
  "orig_nbformat": 4,
  "vscode": {
   "interpreter": {
    "hash": "e7370f93d1d0cde622a1f8e1c04877d8463912d04d973331ad4851f04de6915a"
   }
  }
 },
 "nbformat": 4,
 "nbformat_minor": 2
}
