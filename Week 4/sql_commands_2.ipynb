{
 "cells": [
  {
   "cell_type": "markdown",
   "metadata": {},
   "source": [
    "### SQL Aliases\n",
    "\n",
    "#### SQL aliases are used to give a table, or a column in a table, a temporary name.\n",
    "\n",
    "#### Aliases are often used to make column names more readable.\n",
    "\n",
    "#### An alias only exists for the duration of the query.\n",
    "\n",
    "#### SELECT first_name AS FN, last_name AS LN FROM authors\n",
    "\n",
    "#### SELECT id, CONCAT(title,', ',isbn) AS data\n",
    "#### FROM books\n",
    "\n",
    "\n",
    "### Aliases can be useful when:\n",
    "\n",
    "#### There are more than one table involved in a query\n",
    "#### Column names are big or not very readable\n",
    "#### Two or more columns are combined together\n",
    "\n"
   ]
  },
  {
   "cell_type": "code",
   "execution_count": null,
   "metadata": {},
   "outputs": [],
   "source": []
  },
  {
   "cell_type": "markdown",
   "metadata": {},
   "source": [
    "### SQL JOIN"
   ]
  },
  {
   "cell_type": "markdown",
   "metadata": {},
   "source": [
    "####  INNER JOIN: keyword selects all rows from both the tables as long as the condition satisfies. \n",
    "#### This keyword will create the result-set by combining all rows from both the tables where the condition satisfies \n",
    "#### i.e value of the common field will be same. \n",
    "#### JOIN is same as INNER JOIN."
   ]
  },
  {
   "cell_type": "markdown",
   "metadata": {},
   "source": [
    "### Syntax: \n",
    "\n",
    "#### SELECT DISTINCT(a.id),a.first_name,a.last_name\n",
    "#### FROM authors a \n",
    "#### INNER JOIN book_author ba\n",
    "#### ON a.id = ba.author_id;\"\"\" "
   ]
  },
  {
   "cell_type": "code",
   "execution_count": null,
   "metadata": {},
   "outputs": [],
   "source": [
    "#### SQL syntax- \n",
    "SELECT col1,col2,col3\n",
    "FROM table1\n",
    "INNER JOIN table2\n",
    "ON comman1.attribute = comman2.attribute"
   ]
  },
  {
   "cell_type": "markdown",
   "metadata": {},
   "source": [
    "#### LEFT JOIN: This join returns all the rows of the table on the left side of the join and matching rows for the table on the right side of join. \n",
    "#### The rows for which there is no matching row on right side, the result-set will contain null. \n",
    "\n",
    "#### LEFT JOIN is also known as LEFT OUTER JOIN.\n",
    "\n",
    "### Syntax:\n",
    "\n",
    "#### SELECT DISTINCT(ba.author_id),a.first_name \n",
    "#### FROM authors a\n",
    "#### LEFT JOIN book_author ba\n",
    "#### ON a.id = ba.author_id; \n",
    "\n",
    "##### can have only 1 condition with the ON clause ,not possible to have 2.\n"
   ]
  },
  {
   "cell_type": "code",
   "execution_count": null,
   "metadata": {},
   "outputs": [],
   "source": []
  },
  {
   "cell_type": "markdown",
   "metadata": {},
   "source": [
    "#### RIGHT JOIN: RIGHT JOIN is similar to LEFT JOIN. \n",
    "\n",
    "#### This join returns all the rows of the table on the right side of the join and matching rows for the table on the left side of join. \n",
    "#### The rows for which there is no matching row on left side, the result-set will contain null. \n",
    "\n",
    "#### RIGHT JOIN is also known as RIGHT OUTER JOIN.\n",
    "\n",
    "### Syntax:\n",
    "#### SELECT DISTINCT(a.first_name),ba.author_id \n",
    "#### FROM authors a\n",
    "#### RIGHT JOIN book_author ba\n",
    "#### ON a.id = ba.author_id;\n",
    "\n",
    "\n",
    "### SQL syntax:\n",
    "\n",
    "SELECT table1.c1,table1.c2,table2.c1\n",
    "\n",
    "FROM table1\n",
    "\n",
    "RIGHT JOIN table2\n",
    "\n",
    "ON table1.matching_col=table2.matching_col\n"
   ]
  },
  {
   "cell_type": "code",
   "execution_count": null,
   "metadata": {},
   "outputs": [],
   "source": []
  },
  {
   "cell_type": "markdown",
   "metadata": {},
   "source": [
    "#### FULL JOIN: FULL JOIN creates the result-set by combining result of both LEFT JOIN and RIGHT JOIN. \n",
    "\n",
    "#### The result-set will contain all the rows from both the tables. \n",
    "#### The rows for which there is no matching,the result-set will contain NULL values.\n",
    "\n",
    "#### Syntax:\n",
    "\n",
    "SELECT table1.column1,table1.column2,table2.column1,....\n",
    "\n",
    "FROM table1 \n",
    "\n",
    "FULL JOIN table2\n",
    "\n",
    "ON table1.matching_column\n",
    "\n",
    "=table2.matching_column;\n",
    "\n"
   ]
  },
  {
   "cell_type": "code",
   "execution_count": null,
   "metadata": {},
   "outputs": [],
   "source": []
  },
  {
   "cell_type": "markdown",
   "metadata": {},
   "source": [
    "#### CARTESIAN JOIN: The CARTESIAN JOIN is also known as CROSS JOIN.\n",
    "\n",
    "#### In a CARTESIAN JOIN there is a join for each row of one table to every row of another table. \n",
    "#### This usually happens when the matching column or WHERE condition is not specified.\n",
    "\n",
    "#### In the absence of a WHERE condition the CARTESIAN JOIN will behave like a CARTESIAN PRODUCT . i.e., the number of rows in the result-set is the product of the number of rows of the two tables.\n",
    "\n",
    "#### In the presence of WHERE condition this JOIN will function like a INNER JOIN.\n",
    "\n",
    "#### Generally speaking, Cross join is similar to an inner join where the join-condition will always evaluate to True\n",
    "\n",
    "### Syntax:\n",
    "\n",
    "#### SELECT table1.column1 , table1.column2, table2.column1...\n",
    "\n",
    "#### FROM table1\n",
    "\n",
    "#### CROSS JOIN table2;"
   ]
  },
  {
   "cell_type": "code",
   "execution_count": null,
   "metadata": {},
   "outputs": [],
   "source": []
  },
  {
   "cell_type": "markdown",
   "metadata": {},
   "source": [
    "## SQL UNION Operator\n",
    "### The UNION operator is used to combine the result-set of two or more SELECT statements.\n",
    "\n",
    "#### Each SELECT statement within UNION must have the same number of columns\n",
    "#### The columns must also have similar data types\n",
    "#### The columns in each SELECT statement must also be in the same order\n",
    "\n",
    "### The UNION operator selects only distinct values by default. To allow duplicate values, use UNION ALL:\n",
    "\n",
    "#### SELECT a.first_name,ab.author_id FROM authors a, book_author ab\n",
    "#### WHERE ab.author_id=a.id\n",
    "#### UNION ALL\n",
    "#### SELECT b.title,ab.book_id FROM books b ,book_author ab\n",
    "#### WHERE ab.book_id=b.id"
   ]
  },
  {
   "cell_type": "code",
   "execution_count": null,
   "metadata": {},
   "outputs": [],
   "source": []
  },
  {
   "cell_type": "markdown",
   "metadata": {},
   "source": [
    "## GROUP BY Statement in SQL is used to arrange identical data into groups with the help of some functions.\n",
    "#### i.e if a particular column has same values in different rows then it will arrange these rows in a group.\n",
    "\n",
    "### Important Points:\n",
    "\n",
    "#### GROUP BY clause is used with the SELECT statement.\n",
    "#### In the query, GROUP BY clause is placed after the WHERE clause.\n",
    "#### In the query, GROUP BY clause is placed before ORDER BY clause if used any."
   ]
  },
  {
   "cell_type": "markdown",
   "metadata": {},
   "source": [
    "### Syntax-\n",
    "\n",
    "#### SELECT column1, function_name(column2)\n",
    "#### FROM table_name\n",
    "#### WHERE condition\n",
    "#### GROUP BY column1, column2\n",
    "#### ORDER BY column1, column2;\n",
    "\n",
    "#### -->function_name: Name of the function used for example, SUM() , AVG().\n",
    "#### -->table_name: Name of the table.\n",
    "#### -->condition: Condition used.\n",
    "\n",
    "#### SELECT b.title,a.first_name,a.id\n",
    "\n",
    "#### FROM books b,authors a,book_author ba\n",
    "\n",
    "#### WHERE a.id=ba.author_id and ba.book_id=b.id\n",
    "\n",
    "#### GROUP BY a.first_name\n",
    "\n",
    "#### --->Group By single column: Group By single column means, to place all the rows with same value of only that particular column in one group\n",
    "#### SELECT col1,SUM(col2) FROM table_name GROUP BY col1\n",
    "\n",
    "#### --->Group By multiple columns: Group by multiple column is say for example, GROUP BY column1, column2. \n",
    "#### This means to place all the rows with same values of both the columns column1 and column2 in one group.\n",
    "\n",
    "#### SELECT col1,col2 Count(*)\n",
    "\n",
    "#### FROM table_name\n",
    "\n",
    "#### GROUP BY col1,col2;"
   ]
  },
  {
   "cell_type": "code",
   "execution_count": null,
   "metadata": {},
   "outputs": [],
   "source": []
  },
  {
   "cell_type": "markdown",
   "metadata": {},
   "source": [
    "### The SQL HAVING Clause\n",
    "\n",
    "#### The HAVING clause was added to SQL because the WHERE keyword could not be used with aggregate functions.\n",
    "\n",
    "#### We can use HAVING clause to place conditions to decide which group will be the part of final result-set. \n",
    "#### Also we can not use the aggregate functions like SUM(), COUNT() etc. with WHERE clause. \n",
    "#### So we have to use HAVING clause if we want to use any of these functions in the conditions.\n",
    "\n",
    "#### SELECT column_name(s)\n",
    "#### FROM table_name\n",
    "#### WHERE condition\n",
    "#### GROUP BY column_name(s)\n",
    "#### HAVING condition\n",
    "#### ORDER BY column_name(s);\n",
    "\n",
    "#### SELECT b.title,a.first_name,a.id\n",
    "#### FROM books b,authors a,book_author ba\n",
    "#### WHERE a.id=ba.author_id and ba.book_id=b.id\n",
    "#### GROUP BY a.first_name\n",
    "#### HAVING COUNT(a.id)>1\n"
   ]
  },
  {
   "cell_type": "code",
   "execution_count": null,
   "metadata": {},
   "outputs": [],
   "source": []
  },
  {
   "cell_type": "markdown",
   "metadata": {},
   "source": [
    "## Subqueries: \n",
    "\n",
    "\n",
    "### A subquery (also called an inner query or a nested query) is a query within another SQL query and is used to return data \n",
    "### that will be used in the main query as a condition to further restrict the data to be retrieved .\n",
    "\n",
    "## In other words we can say that a Subquery is a query that is embedded in WHERE clause of another SQL query.\n",
    "\n",
    "## The subquery generally executes first, and its output is used to complete the query condition for the main or outer query.\n",
    "\n",
    "### Subquery must be enclosed in parentheses.\n",
    "### Subqueries are on the right side of the comparison operator.\n",
    "### ORDER BY command cannot be used in a Subquery. GROUPBY command can be used to perform same function as ORDER BY command.\n",
    "\n",
    "## General Syntax-\n",
    "\n",
    "#### SELECT column_name\n",
    "#### FROM table_name\n",
    "#### WHERE column_name expression operator \n",
    "#### ( SELECT COLUMN_NAME  from TABLE_NAME   WHERE ... );\n",
    "\n",
    "## There are two types of subqueries:\n",
    "\n",
    "#### Correlated subquery: A correlated subquery cannot be evaluated independently of the outer query because the subquery \n",
    "#### uses the values of the parent statement.\n",
    "\n",
    "#### Uncorrelated subquery: A non-correlated subquery can be considered as an independent query and the output of subquery \n",
    "#### is substituted in the main query.\n",
    "\n",
    "#### The EXISTS operator is used to test for the existence of any record in a subquery.\n",
    "\n",
    "#### The EXISTS operator returns true if the subquery returns one or more records.\n",
    "\n",
    "#### SELECT column_name(s)\n",
    "#### FROM table_name\n",
    "#### WHERE EXISTS\n",
    "#### (SELECT column_name FROM table_name WHERE condition);\n",
    "\n",
    "\n",
    "#### SELECT a.first_name, a.last_name \n",
    "#### FROM authors a ,book_author ba\n",
    "#### WHERE EXISTS (SELECT * \n",
    "#### FROM books b\n",
    "#### WHERE b.id=ba.book_id);\n",
    "\n",
    "### Using NOT with EXISTS is possible -- NOT EXISTS \n",
    "\n",
    "### Using EXISTS condition with DELETE statement is possible \n",
    "\n",
    "### Using EXISTS condition with UPDATE statement is possible "
   ]
  },
  {
   "cell_type": "code",
   "execution_count": null,
   "metadata": {},
   "outputs": [],
   "source": []
  },
  {
   "cell_type": "markdown",
   "metadata": {},
   "source": [
    "### Corelated Sub-Queries Reference Link-> '''https://www.geeksforgeeks.org/sql-correlated-subqueries/'''"
   ]
  },
  {
   "cell_type": "code",
   "execution_count": null,
   "metadata": {},
   "outputs": [],
   "source": []
  },
  {
   "cell_type": "markdown",
   "metadata": {},
   "source": [
    "## CASE: The CASE statement goes through conditions and returns a value when the first condition is met (like an IF-THEN-ELSE statement). \n",
    "\n",
    "### So, once a condition is true, it will stop reading and return the result.\n",
    "### If no conditions are true, it returns the value in the ELSE clause.\n",
    "\n",
    "### If there is no ELSE part and no conditions are true, it returns NULL.\n",
    "\n",
    "\n",
    "### Syntax:\n",
    "#### CASE\n",
    "#### WHEN condition1 THEN result1\n",
    "#### WHEN condition2 THEN result2\n",
    "#### WHEN conditionN THEN resultN\n",
    "#### ELSE result\n",
    "#### END;\n",
    "\n",
    "#### SELECT id,first_name,\n",
    "#### CASE WHEN first_name= \"Barbara\" THEN 'Correct'\n",
    "#### WHEN first_name = 'Francis' THEN 'Incorrect'\n",
    "#### ELSE 'Done'\n",
    "#### END AS data\n",
    "#### FROM authors;\n",
    "\n",
    "## The CASE statement is SQL’s way of handling if/then logic.\n",
    "\n",
    "        "
   ]
  },
  {
   "cell_type": "code",
   "execution_count": null,
   "metadata": {},
   "outputs": [],
   "source": [
    "# import sqlite3 # pip install sqlite3 "
   ]
  },
  {
   "cell_type": "markdown",
   "metadata": {},
   "source": [
    "### What if a column contains NULL VALUES? Any query pertaining to retrieval of numeric data fields may or may not contain NULL VALUES\n",
    "\n",
    "##### The MySQL IFNULL() function lets you return an alternative value if an expression is NULL:\n",
    "\n",
    "#### SELECT col1, col2* (col3 + IFNULL(col1, 0))\n",
    "#### FROM tablename;\n",
    "\n",
    "### The COALESCE() function examines the first expression, if the first expression is not null, it returns that expression; Otherwise, it does a COALESCE of the remaining expressions.\n",
    "\n",
    "#### The COALESCE() function accepts one parameter which is the list which can contain various values. The value returned by the MySQL COALESCE() function is the first non-null value in a list of expressions or NULL if all the values in a list are NULL.\n",
    "\n",
    "#### SELECT col1, col2 * (col3+ COALESCE(col1, 0))\n",
    "#### FROM tablename;\n",
    "\n",
    "### General Syntax- COALESCE (expr_1, expr_2, ... expr_n)"
   ]
  },
  {
   "cell_type": "code",
   "execution_count": null,
   "metadata": {},
   "outputs": [],
   "source": []
  },
  {
   "cell_type": "markdown",
   "metadata": {},
   "source": [
    "## SQL Dates\n",
    "\n",
    "#### The most difficult part when working with dates is to be sure that the format of the date you are trying to insert \n",
    "#### matches the format of the date column in the database.\n",
    "\n",
    "### MySQL comes with the following data types for storing a date or a date/time value in the database:\n",
    "\n",
    "#### DATE - format YYYY-MM-DD\n",
    "#### DATETIME - format: YYYY-MM-DD HH:MI:SS\n",
    "#### TIMESTAMP - format: YYYY-MM-DD HH:MI:SS\n",
    "#### YEAR - format YYYY or YY\n",
    "\n",
    "### You can compare two dates easily if there is no time component involved!\n",
    "### The SQL standard permits three types. DATE, TIME and TIMESTAMP. A TIMESTAMP includes a date and a time.\n",
    "\n",
    "#### https://www.geeksforgeeks.org/sql-date-functions-set-1/\n",
    "#### https://www.geeksforgeeks.org/sql-date-functions-set-2/?ref=rp\n",
    "\n"
   ]
  },
  {
   "cell_type": "code",
   "execution_count": null,
   "metadata": {},
   "outputs": [],
   "source": []
  },
  {
   "cell_type": "markdown",
   "metadata": {},
   "source": [
    "## SQL Comments\n",
    "\n",
    "### Comments are used to explain sections of SQL statements, or to prevent execution of SQL statements.\n",
    "\n",
    "### Single line comments start with --.\n",
    "#### Any text between -- and the end of the line will be ignored (will not be executed).\n",
    "\n",
    "#### SELECT * FROM books -- selecting all records from books table;\n",
    "\n",
    "### Multi-line comments start with /* and end with */.\n",
    "#### Any text between /* and */ will be ignored.\n",
    "\n",
    "#### /*Select all the columns\n",
    "#### of all the records\n",
    "#### in the authors table:*/\n",
    "#### SELECT * FROM authors;\n",
    "\n"
   ]
  },
  {
   "cell_type": "code",
   "execution_count": null,
   "metadata": {},
   "outputs": [],
   "source": []
  },
  {
   "cell_type": "markdown",
   "metadata": {},
   "source": [
    "## SQL constraints are used to specify rules for data in a table.\n",
    "\n",
    "### Constraints can be specified when the table is created with the CREATE TABLE statement, \n",
    "### or after the table is created with the ALTER TABLE statement.\n",
    "\n",
    "### CREATE TABLE table_name (\n",
    "### column1 datatype constraint,\n",
    "### column2 datatype constraint,\n",
    "### column3 datatype constraint,\n",
    "### );\n",
    "\n",
    "### Constraints are used to limit the type of data that can go into a table. \n",
    "### This ensures the accuracy and reliability of the data in the table.\n",
    "### If there is any violation between the constraint and the data action, the action is aborted.\n",
    "\n",
    "### Constraints can be column level or table level. Column level constraints apply to a column, and table level constraints apply to the whole table.\n",
    "\n",
    "### The following constraints are commonly used in SQL:\n",
    "\n",
    "#### NOT NULL - Ensures that a column cannot have a NULL value\n",
    "#### UNIQUE - Ensures that all values in a column are different\n",
    "#### PRIMARY KEY - A combination of a NOT NULL and UNIQUE. Uniquely identifies each row in a table\n",
    "#### FOREIGN KEY - Uniquely identifies a row/record in another table\n",
    "#### CHECK - Ensures that all values in a column satisfies a specific condition\n",
    "#### DEFAULT - Sets a default value for a column when no value is specified\n",
    "#### INDEX - Used to create and retrieve data from the database very quickly\n"
   ]
  },
  {
   "cell_type": "markdown",
   "metadata": {},
   "source": [
    "### SQL PRIMARY KEY Constraint\n",
    "### The PRIMARY KEY constraint uniquely identifies each record in a table.\n",
    "\n",
    "#### Primary keys must contain UNIQUE values, and cannot contain NULL values.\n",
    "\n",
    "#### A table can have only ONE primary key; and in the table, this primary key can consist of single or multiple columns\n",
    "\n",
    "### SQL PRIMARY KEY on CREATE TABLE\n",
    "\n",
    "#### CREATE TABLE Persons (\n",
    "#### ID int,\n",
    "#### LastName varchar(255) NOT NULL,\n",
    "#### FirstName varchar(255),\n",
    "#### Age int,\n",
    "#### PRIMARY KEY (ID)\n",
    "#### );\n",
    "\n",
    "#### CREATE TABLE Persons (\n",
    "#### ID int NOT NULL,\n",
    "#### LastName varchar(255) NOT NULL,\n",
    "#### FirstName varchar(255),\n",
    "#### Age int,\n",
    "#### CONSTRAINT PK_Person PRIMARY KEY (ID,LastName) --there is only ONE PRIMARY KEY (PK_Person). However, the VALUE of \n",
    "\n",
    "#### the primary key is made up of TWO COLUMNS (ID + LastName).\n",
    "#### );\n",
    "\n",
    "### SQL PRIMARY KEY on ALTER TABLE\n",
    "\n",
    "#### ALTER TABLE Persons\n",
    "#### ADD PRIMARY KEY (ID); --\n",
    "\n",
    "### DROP a PRIMARY KEY Constraint\n",
    "\n",
    "#### ALTER TABLE Persons\n",
    "#### DROP PRIMARY KEY;"
   ]
  },
  {
   "cell_type": "code",
   "execution_count": null,
   "metadata": {},
   "outputs": [],
   "source": []
  },
  {
   "cell_type": "markdown",
   "metadata": {},
   "source": [
    "### SQL FOREIGN KEY Constraint\n",
    "\n",
    "#### A FOREIGN KEY is a key used to link two tables together.\n",
    "\n",
    "### A FOREIGN KEY is a field (or collection of fields) in one table that refers to the PRIMARY KEY in another table.\n",
    "\n",
    "#### The table containing the foreign key is called the child table,and the table containing the candidate key is called the referenced or parent table.\n",
    "\n",
    "#### The FOREIGN KEY constraint is used to prevent actions that would destroy links between tables.\n",
    "\n",
    "#### The FOREIGN KEY constraint also prevents invalid data from being inserted into the foreign key column, because it has to be one of the values contained in the table it points to.\n",
    "\n",
    "### In the case of our python_mysql database; we have authors and book_author tables\n",
    "\n",
    "#### In the authors table, we have id has the PRIMARY KEY \n",
    "#### In the book_author table, we have author_id which is the FOREIGN KEY referencing the PRIMARY KEY id from the authors table.\n",
    "\n",
    "### SQL FOREIGN KEY on CREATE TABLE\n",
    "\n",
    "#### CREATE TABLE book_author(\n",
    "#### ID int NOT NULL,\n",
    "#### book_id int ,\n",
    "#### author_id int,\n",
    "#### PRIMARY KEY (ID),\n",
    "#### FOREIGN KEY (author_id) REFERENCES authors(id)\n",
    "#### FOREIGN KEY(book_id) REFERNCES books(id)\n",
    "#### );\n",
    "\n",
    "### SQL FOREIGN KEY on ALTER TABLE\n",
    "\n",
    "#### ALTER TABLE table_name\n",
    "#### ADD FOREIGN KEY (col_name) REFERENCES table_name(col_name);\n",
    "\n",
    "### SQL DROP a FOREIGN KEY Constraint\n",
    "\n",
    "#### ALTER TABLE table_name\n",
    "#### DROP FOREIGN KEY (col_name);"
   ]
  },
  {
   "cell_type": "markdown",
   "metadata": {},
   "source": [
    "## MySQL data types REf link-> '''https://www.w3schools.com/sql/sql_datatypes.asp'''"
   ]
  },
  {
   "cell_type": "markdown",
   "metadata": {},
   "source": [
    "## START SOLVING ON https://sqlzoo.net/ "
   ]
  },
  {
   "cell_type": "code",
   "execution_count": null,
   "metadata": {},
   "outputs": [],
   "source": []
  },
  {
   "cell_type": "code",
   "execution_count": null,
   "metadata": {},
   "outputs": [],
   "source": []
  },
  {
   "cell_type": "code",
   "execution_count": null,
   "metadata": {},
   "outputs": [],
   "source": []
  },
  {
   "cell_type": "code",
   "execution_count": null,
   "metadata": {},
   "outputs": [],
   "source": []
  },
  {
   "cell_type": "code",
   "execution_count": null,
   "metadata": {},
   "outputs": [],
   "source": []
  },
  {
   "cell_type": "code",
   "execution_count": null,
   "metadata": {},
   "outputs": [],
   "source": []
  },
  {
   "cell_type": "code",
   "execution_count": null,
   "metadata": {},
   "outputs": [],
   "source": []
  },
  {
   "cell_type": "code",
   "execution_count": null,
   "metadata": {},
   "outputs": [],
   "source": []
  },
  {
   "cell_type": "code",
   "execution_count": null,
   "metadata": {},
   "outputs": [],
   "source": []
  },
  {
   "cell_type": "code",
   "execution_count": null,
   "metadata": {},
   "outputs": [],
   "source": []
  },
  {
   "cell_type": "code",
   "execution_count": null,
   "metadata": {},
   "outputs": [],
   "source": []
  },
  {
   "cell_type": "code",
   "execution_count": null,
   "metadata": {},
   "outputs": [],
   "source": []
  },
  {
   "cell_type": "code",
   "execution_count": null,
   "metadata": {},
   "outputs": [],
   "source": []
  },
  {
   "cell_type": "code",
   "execution_count": null,
   "metadata": {},
   "outputs": [],
   "source": []
  },
  {
   "cell_type": "code",
   "execution_count": null,
   "metadata": {},
   "outputs": [],
   "source": []
  },
  {
   "cell_type": "code",
   "execution_count": null,
   "metadata": {},
   "outputs": [],
   "source": []
  },
  {
   "cell_type": "code",
   "execution_count": null,
   "metadata": {},
   "outputs": [],
   "source": []
  }
 ],
 "metadata": {
  "kernelspec": {
   "display_name": "Python 3.10.5 64-bit",
   "language": "python",
   "name": "python3"
  },
  "language_info": {
   "codemirror_mode": {
    "name": "ipython",
    "version": 3
   },
   "file_extension": ".py",
   "mimetype": "text/x-python",
   "name": "python",
   "nbconvert_exporter": "python",
   "pygments_lexer": "ipython3",
   "version": "3.10.5"
  },
  "vscode": {
   "interpreter": {
    "hash": "e7370f93d1d0cde622a1f8e1c04877d8463912d04d973331ad4851f04de6915a"
   }
  }
 },
 "nbformat": 4,
 "nbformat_minor": 4
}
