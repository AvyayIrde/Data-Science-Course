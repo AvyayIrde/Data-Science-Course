{
 "cells": [
  {
   "cell_type": "markdown",
   "metadata": {},
   "source": [
    "# SQLite\n",
    "\n",
    "SQLite is a python library that provides a lightweight disk-based database that doesn’t require a separate server process and\n",
    "allows accessing the database using a nonstandard variant of the SQL query language.\n",
    "    \n",
    "    Some applications can use SQLite for internal data storage.\n",
    "\n",
    "    It’s also possible to prototype an application using SQLite and\n",
    "    then port the code to a larger database such as PostgreSQL or Oracle."
   ]
  },
  {
   "cell_type": "markdown",
   "metadata": {},
   "source": [
    "### Create Connection\n",
    "    To use SQLite3 in Python, first of all, you will have to import the sqlite3 module and\n",
    "    then create a connection object which will connect us to the database and will let us execute the SQL statements.\n",
    "    A connection object is created using the connect() function:"
   ]
  },
  {
   "cell_type": "code",
   "execution_count": 1,
   "metadata": {},
   "outputs": [
    {
     "data": {
      "text/plain": [
       "<sqlite3.Connection at 0x2c702b26570>"
      ]
     },
     "execution_count": 1,
     "metadata": {},
     "output_type": "execute_result"
    }
   ],
   "source": [
    "import sqlite3\n",
    " \n",
    "con = sqlite3.connect('cohort44.db') # creating the file and connecting to it (change the name of the file if required)\n",
    "con # here con is the connection object "
   ]
  },
  {
   "cell_type": "markdown",
   "metadata": {},
   "source": [
    "### SQLite3 Cursor\n",
    "    To execute SQLite statements in Python, you need a cursor object. You can create it using the cursor() method.\n",
    "    The SQLite3 cursor is a method of the connection object.\n",
    "    To execute the SQLite3 statements, a connection is established at first and then an object of the cursor is created using the connection object as follows:"
   ]
  },
  {
   "cell_type": "code",
   "execution_count": 2,
   "metadata": {},
   "outputs": [],
   "source": [
    "cursorObj = con.cursor() # create a cursor pointer to the database "
   ]
  },
  {
   "cell_type": "markdown",
   "metadata": {},
   "source": [
    "### Create Database\n",
    "    When you create a connection with SQLite, a database file is automatically created if it doesn’t already exist.\n",
    "    This database file is created on disk.\n",
    "\n",
    "   "
   ]
  },
  {
   "cell_type": "markdown",
   "metadata": {},
   "source": [
    "### Create Table\n",
    "    To create a table in SQLite3, you can use the Create Table query in the execute() method. Consider the following steps:\n",
    "   - The connection object is created\n",
    "   - Cursor object is created using the connection object\n",
    "   - Using cursor object, execute method is called with create table query as the parameter\n",
    "\n",
    "    Let’s create employees with the following attributes:\n",
    "    employees (id, name, salary, department, position, hireDate)"
   ]
  },
  {
   "cell_type": "code",
   "execution_count": 31,
   "metadata": {},
   "outputs": [],
   "source": [
    "import sqlite3 \n",
    "from sqlite3 import Error\n",
    " \n",
    "# function defination \n",
    "def sql_connection():\n",
    "    try:\n",
    "        con = sqlite3.connect('cohort44_employees.db') # step 1 # Change to any database name of your choice \n",
    "        return con\n",
    "    \n",
    "    except Error:\n",
    "        print(Error)\n",
    "\n",
    "con = sql_connection() # function call "
   ]
  },
  {
   "cell_type": "code",
   "execution_count": 4,
   "metadata": {},
   "outputs": [],
   "source": [
    "def create_sql_table(con):\n",
    "    cursorObj = con.cursor() # step 2\n",
    "    cursorObj.execute(\"CREATE TABLE employees(id integer, name text, salary real, department text, position text, hireDate text,ph_no integer)\")\n",
    "\n",
    "\n",
    "create_sql_table(con)"
   ]
  },
  {
   "cell_type": "code",
   "execution_count": 5,
   "metadata": {},
   "outputs": [],
   "source": [
    "def insert_sql_table(con):\n",
    "    cursorObj = con.cursor() # just define it once  \n",
    "    cursorObj.execute(\"INSERT INTO employees(id, name, salary, department, position, hireDate,ph_no) VALUES(1,'ashwin',5000,'engineering','software developer','01-01-2021',8989)\")\n",
    "    con.commit()\n",
    "    \n",
    "insert_sql_table(con)\n",
    "    "
   ]
  },
  {
   "cell_type": "code",
   "execution_count": 6,
   "metadata": {},
   "outputs": [
    {
     "name": "stdout",
     "output_type": "stream",
     "text": [
      "(1, 'ashwin', 'software developer')\n"
     ]
    }
   ],
   "source": [
    "def select(con):\n",
    "    cursor=con.cursor()\n",
    "    data=cursor.execute(\"SELECT id,name,position FROM employees WHERE department='engineering'\") # retunrs a list of tuples / list of records \n",
    "    for i in data:\n",
    "        print(i)\n",
    "#     print(type(data))\n",
    "    \n",
    "select(con)   "
   ]
  },
  {
   "cell_type": "code",
   "execution_count": 35,
   "metadata": {},
   "outputs": [
    {
     "name": "stdout",
     "output_type": "stream",
     "text": [
      "(1, 'ashwin', 5000.0, 'engineering', 'software developer', '01-01-2021', 8989)\n",
      "(2, 'manjunath', 10000.0, 'hr', 'manager', '07-07-2021', 7878)\n",
      "(3, 'anupama', 40000.0, 'sales', 'sales manager', '05-06-2021', 56565)\n",
      "(4, 'mona', 30000.0, 'testing', 'tester', '08-01-2020', 67676)\n",
      "(5, 'minu', 100000.0, 'medicine', 'doctor', '30-06-2019', 22222)\n",
      "(6, 'vivek', 30000.0, 'engineering', 'sofware engineer', '5-07-2020', None)\n"
     ]
    }
   ],
   "source": [
    "def select(con):\n",
    "    cursor=con.cursor()\n",
    "    data=cursor.execute(\"SELECT * from employees\") # retunrs a list of tuples / list of records \n",
    "#     print(type(data))\n",
    "\n",
    "    for i in data:\n",
    "        print(i)\n",
    "#     print(type(data))\n",
    "    \n",
    "select(con)  "
   ]
  },
  {
   "cell_type": "code",
   "execution_count": 1,
   "metadata": {},
   "outputs": [],
   "source": [
    "# To view the database . You can download Db browser lite tool from here - https://sqlitebrowser.org/\n",
    "# After installation, navigate and open the database."
   ]
  },
  {
   "cell_type": "code",
   "execution_count": 2,
   "metadata": {},
   "outputs": [],
   "source": [
    "# Ref link - https://www.digitalocean.com/community/tutorials/how-to-use-the-sqlite3-module-in-python-3"
   ]
  }
 ],
 "metadata": {
  "hide_input": false,
  "kernelspec": {
   "display_name": "Python 3",
   "language": "python",
   "name": "python3"
  },
  "language_info": {
   "codemirror_mode": {
    "name": "ipython",
    "version": 3
   },
   "file_extension": ".py",
   "mimetype": "text/x-python",
   "name": "python",
   "nbconvert_exporter": "python",
   "pygments_lexer": "ipython3",
   "version": "3.10.5"
  }
 },
 "nbformat": 4,
 "nbformat_minor": 4
}
