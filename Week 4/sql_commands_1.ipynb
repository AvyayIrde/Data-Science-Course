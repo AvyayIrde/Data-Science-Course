{
 "cells": [
  {
   "cell_type": "markdown",
   "metadata": {},
   "source": [
    "### SQL NULL VALUES\n",
    "\n",
    "### A field with a NULL value is a field with no value.\n",
    "\n",
    "#### A NULL value is different from a zero value or a field that contains spaces. \n",
    "#### A field with a NULL value is one that has been left blank during record creation!\n",
    "\n",
    "#### We will have to use the IS NULL and IS NOT NULL operators\n",
    "\n",
    "#### SELECT column_names\n",
    "#### FROM table_name\n",
    "#### WHERE column_name IS NULL;\n",
    "\n",
    "#### SELECT column_names\n",
    "#### FROM table_name\n",
    "#### WHERE column_name IS NOT NULL;"
   ]
  },
  {
   "cell_type": "code",
   "execution_count": null,
   "metadata": {},
   "outputs": [],
   "source": [
    "def query_select():\n",
    "    try:\n",
    "        dbconfig = read_db_config()\n",
    "        conn = MySQLConnection(**dbconfig)\n",
    "        cursor = conn.cursor()\n",
    "        cursor.execute(\"SELECT first_name FROM authors WHERE last_name IS NOT NULL;\")\n",
    "        rows = cursor.fetchall()\n",
    "        for row in rows:\n",
    "            print(row)\n",
    " \n",
    "    except Error as e:\n",
    "        print(e)\n",
    " \n",
    "    finally: \n",
    "        cursor.close()\n",
    "        conn.close()\n",
    "query_select()"
   ]
  },
  {
   "cell_type": "markdown",
   "metadata": {},
   "source": [
    "### SQL UPDATE CLAUSE \n",
    "\n",
    "### The UPDATE statement is used to modify the existing records in a table.\n",
    "\n",
    "#### UPDATE table_name\n",
    "#### SET column1 = value1, column2 = value2, ...\n",
    "#### WHERE condition;\n",
    "\n",
    "## NOTE-The WHERE clause specifies which record(s) that should be updated.If you omit the WHERE clause, all records in the table will be updated!\n",
    "\n"
   ]
  },
  {
   "cell_type": "code",
   "execution_count": 23,
   "metadata": {},
   "outputs": [],
   "source": [
    "def query_select():\n",
    "    try:\n",
    "        dbconfig = read_db_config()\n",
    "        conn = MySQLConnection(**dbconfig)\n",
    "        cursor = conn.cursor()\n",
    "        cursor.execute(\"UPDATE authors SET first_name = 'Ashwin', last_name= 'Ravi' WHERE id = 2;\") #If you omit the WHERE clause, ALL records will be updated!\n",
    "        conn.commit() #make sure to commit when UPDATE \n",
    "  \n",
    "    except Error as e:\n",
    "        print(e)\n",
    " \n",
    "    finally: \n",
    "        cursor.close()\n",
    "        conn.close()\n",
    "query_select()"
   ]
  },
  {
   "cell_type": "code",
   "execution_count": 24,
   "metadata": {},
   "outputs": [
    {
     "name": "stdout",
     "output_type": "stream",
     "text": [
      "(2, 'Ashwin', 'Ravi', None)\n"
     ]
    }
   ],
   "source": [
    "def query_select():\n",
    "    try:\n",
    "        dbconfig = read_db_config()\n",
    "        conn = MySQLConnection(**dbconfig)\n",
    "        cursor = conn.cursor()\n",
    "        cursor.execute(\"SELECT * FROM authors WHERE id=2\")\n",
    "        rows = cursor.fetchall()\n",
    "        for row in rows:\n",
    "            print(row)\n",
    " \n",
    "    except Error as e:\n",
    "        print(e)\n",
    " \n",
    "    finally: \n",
    "        cursor.close()\n",
    "        conn.close()\n",
    "query_select()"
   ]
  },
  {
   "cell_type": "markdown",
   "metadata": {},
   "source": [
    "### SQL DELETE CLAUSE\n",
    "\n",
    "#### The DELETE statement is used to delete existing records in a table.\n",
    "#### DELETE FROM table_name WHERE condition;\n",
    "\n",
    "### It is possible to delete all rows in a table without deleting the table. This means that the table structure, attributes, and indexes will be intact.\n",
    "\n",
    "#### DELETE FROM table_name;"
   ]
  },
  {
   "cell_type": "code",
   "execution_count": null,
   "metadata": {},
   "outputs": [],
   "source": [
    "'''CODE DELETE FROM authors WHERE id=2'''"
   ]
  },
  {
   "cell_type": "code",
   "execution_count": 27,
   "metadata": {},
   "outputs": [],
   "source": [
    "def query_select():\n",
    "    try:\n",
    "        dbconfig = read_db_config()\n",
    "        conn = MySQLConnection(**dbconfig)\n",
    "        cursor = conn.cursor()\n",
    "        cursor.execute(\"DELETE FROM authors WHERE id=2;\")\n",
    "#         rows = cursor.fetchall()\n",
    "#         for row in rows:\n",
    "#             print(row)\n",
    "        conn.commit()\n",
    " \n",
    "    except Error as e:\n",
    "        print(e)\n",
    " \n",
    "    finally: \n",
    "        cursor.close()\n",
    "        conn.close()\n",
    "query_select()"
   ]
  },
  {
   "cell_type": "markdown",
   "metadata": {},
   "source": [
    "### SQL SELECT TOP/LIMIT  Clause\n",
    "\n",
    "#### The SELECT TOP clause is used to specify the number of records to return.\n",
    "\n",
    "#### The SELECT TOP clause is useful on large tables with thousands of records.\n",
    "\n",
    "#### For, MySQL server -> The right syntax is:\n",
    "\n",
    "#### SELECT column_name(s)\n",
    "#### FROM table_name\n",
    "#### LIMIT number;"
   ]
  },
  {
   "cell_type": "code",
   "execution_count": 28,
   "metadata": {},
   "outputs": [
    {
     "name": "stdout",
     "output_type": "stream",
     "text": [
      "(1, 'Herbert', 'Methley ', None)\n",
      "(3, 'Francis', 'Tugwell ', None)\n",
      "(4, 'Randolph', 'Henry Ash', None)\n",
      "(5, 'Christabel', 'LaMotte ', None)\n",
      "(7, 'Robert', 'Dale Owen', None)\n"
     ]
    }
   ],
   "source": [
    "def query_select():\n",
    "    try:\n",
    "        dbconfig = read_db_config()\n",
    "        conn = MySQLConnection(**dbconfig)\n",
    "        cursor = conn.cursor()\n",
    "        cursor.execute(\"SELECT * FROM authors LIMIT 5;\")\n",
    "        rows = cursor.fetchall()\n",
    "        for row in rows:\n",
    "            print(row)\n",
    " \n",
    "    except Error as e:\n",
    "        print(e)\n",
    " \n",
    "    finally: \n",
    "        cursor.close()\n",
    "        conn.close()\n",
    "query_select()"
   ]
  },
  {
   "cell_type": "markdown",
   "metadata": {},
   "source": [
    "### SQL MIN() and MAX() CLUASE\n",
    "\n",
    "#### The MIN() function returns the smallest value of the selected column.\n",
    "\n",
    "#### The MAX() function returns the largest value of the selected column.\n",
    "\n",
    "#### SELECT MIN(column_name)\n",
    "#### FROM table_name\n",
    "#### WHERE condition;"
   ]
  },
  {
   "cell_type": "code",
   "execution_count": 29,
   "metadata": {},
   "outputs": [
    {
     "name": "stdout",
     "output_type": "stream",
     "text": [
      "('1230082140880',)\n"
     ]
    }
   ],
   "source": [
    "def query_select():\n",
    "    try:\n",
    "        dbconfig = read_db_config()\n",
    "        conn = MySQLConnection(**dbconfig)\n",
    "        cursor = conn.cursor()\n",
    "        cursor.execute(\"SELECT MIN(isbn) FROM books;\") #  SQL statement finds the maximum value from column isbn from table books\n",
    "        rows = cursor.fetchall()\n",
    "        for row in rows:\n",
    "            print(row)\n",
    " \n",
    "    except Error as e:\n",
    "        print(e)\n",
    " \n",
    "    finally: \n",
    "        cursor.close()\n",
    "        conn.close()\n",
    "query_select()"
   ]
  },
  {
   "cell_type": "markdown",
   "metadata": {},
   "source": [
    "### The COUNT() function returns the number of rows that matches a specified criteria.\n",
    "\n",
    "### The AVG() function returns the average value of a numeric column.\n",
    "\n",
    "### The SUM() function returns the total sum of a numeric column.\n",
    "\n",
    "#### SELECT COUNT(column_name)\n",
    "#### FROM table_name\n",
    "#### WHERE condition;\n",
    "\n",
    "#### SELECT AVG(column_name)\n",
    "#### FROM table_name\n",
    "#### WHERE condition;\n",
    "\n",
    "#### SELECT SUM(column_name)\n",
    "#### FROM table_name\n",
    "#### WHERE condition;"
   ]
  },
  {
   "cell_type": "code",
   "execution_count": 36,
   "metadata": {},
   "outputs": [
    {
     "name": "stdout",
     "output_type": "stream",
     "text": [
      "(85,)\n"
     ]
    }
   ],
   "source": [
    "def query_select():\n",
    "    try:\n",
    "        dbconfig = read_db_config()\n",
    "        conn = MySQLConnection(**dbconfig)\n",
    "        cursor = conn.cursor()\n",
    "        cursor.execute(\"SELECT COUNT(id) FROM books;\")\n",
    "        rows = cursor.fetchall()\n",
    "        for row in rows:\n",
    "            print(row)\n",
    " \n",
    "    except Error as e:\n",
    "        print(e)\n",
    " \n",
    "    finally: \n",
    "        cursor.close()\n",
    "        conn.close()\n",
    "query_select()"
   ]
  },
  {
   "cell_type": "code",
   "execution_count": 37,
   "metadata": {},
   "outputs": [
    {
     "name": "stdout",
     "output_type": "stream",
     "text": [
      "(120948620360058.0,)\n"
     ]
    }
   ],
   "source": [
    "def query_select():\n",
    "    try:\n",
    "        dbconfig = read_db_config()\n",
    "        conn = MySQLConnection(**dbconfig)\n",
    "        cursor = conn.cursor()\n",
    "        cursor.execute(\"SELECT SUM(isbn) FROM books;\") #Note: NULL values are ignored.\n",
    "\n",
    "        rows = cursor.fetchall()\n",
    "        for row in rows:\n",
    "            print(row)\n",
    " \n",
    "    except Error as e:\n",
    "        print(e)\n",
    " \n",
    "    finally: \n",
    "        cursor.close()\n",
    "        conn.close()\n",
    "query_select()"
   ]
  },
  {
   "cell_type": "markdown",
   "metadata": {},
   "source": [
    "### SQL LIKE Operator\n",
    "\n",
    "### The LIKE operator is used in a WHERE clause to search for a specified pattern in a column.\n",
    "\n",
    "## There are two wildcards often used in conjunction with the LIKE operator:\n",
    "\n",
    "### % - The percent sign represents zero, one, or multiple characters\n",
    "### _ - The underscore represents a single character\n",
    "\n",
    "#### SELECT column1, column2, ...\n",
    "#### FROM table_name\n",
    "#### WHERE columnN LIKE pattern;"
   ]
  },
  {
   "cell_type": "code",
   "execution_count": 48,
   "metadata": {},
   "outputs": [
    {
     "data": {
      "image/png": "[encoded data removed]",
      "text/plain": [
       "<PIL.PngImagePlugin.PngImageFile image mode=RGBA size=880x495 at 0x42D1970>"
      ]
     },
     "execution_count": 48,
     "metadata": {},
     "output_type": "execute_result"
    }
   ],
   "source": [
    "from PIL import Image \n",
    "image1=Image.open(\"C:/Users/Admin/Pictures/Screenshots/Screenshot (40).png\")\n",
    "image1"
   ]
  },
  {
   "cell_type": "code",
   "execution_count": 46,
   "metadata": {},
   "outputs": [
    {
     "name": "stdout",
     "output_type": "stream",
     "text": [
      "(28, 'Beatrice', 'Quinn ', None)\n",
      "(37, 'Bill', 'Lewis ', None)\n",
      "(41, 'Barbara', 'Jones ', None)\n"
     ]
    }
   ],
   "source": [
    "def query_select():\n",
    "    try:\n",
    "        dbconfig = read_db_config()\n",
    "        conn = MySQLConnection(**dbconfig)\n",
    "        cursor = conn.cursor()\n",
    "        cursor.execute(\"SELECT * FROM authors WHERE first_name LIKE 'b_%';\") # selects all authors with a first_name starting with \"f\"\n",
    "        rows = cursor.fetchall()\n",
    "        for row in rows:\n",
    "            print(row)\n",
    " \n",
    "    except Error as e:\n",
    "        print(e)\n",
    " \n",
    "    finally: \n",
    "        cursor.close()\n",
    "        conn.close()\n",
    "query_select()"
   ]
  },
  {
   "cell_type": "code",
   "execution_count": null,
   "metadata": {},
   "outputs": [],
   "source": []
  }
 ],
 "metadata": {
  "kernelspec": {
   "display_name": "Python 3.10.5 64-bit",
   "language": "python",
   "name": "python3"
  },
  "language_info": {
   "codemirror_mode": {
    "name": "ipython",
    "version": 3
   },
   "file_extension": ".py",
   "mimetype": "text/x-python",
   "name": "python",
   "nbconvert_exporter": "python",
   "pygments_lexer": "ipython3",
   "version": "3.10.5"
  },
  "vscode": {
   "interpreter": {
    "hash": "e7370f93d1d0cde622a1f8e1c04877d8463912d04d973331ad4851f04de6915a"
   }
  }
 },
 "nbformat": 4,
 "nbformat_minor": 4
}
