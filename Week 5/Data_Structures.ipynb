{
 "cells": [
  {
   "cell_type": "markdown",
   "metadata": {},
   "source": [
    "# Linked Lists"
   ]
  },
  {
   "cell_type": "code",
   "execution_count": 17,
   "metadata": {},
   "outputs": [
    {
     "name": "stdout",
     "output_type": "stream",
     "text": [
      "Thursday\n",
      "Friday\n"
     ]
    }
   ],
   "source": [
    "class node():\n",
    "\n",
    "    def __init__(self, data=None, reference=None):\n",
    "        self.data = data\n",
    "        self.refer = reference # pointer to next node\n",
    "\n",
    "    def __str__(self):\n",
    "        if self.refer:\n",
    "            return f\"{self.data},{self.refer}\"\n",
    "        else:\n",
    "            return str(self.data)\n",
    "\n",
    "n1 = node(\"Wednesday\")\n",
    "n2 = node(\"Thursday\")\n",
    "n3 = node(\"Friday\")\n",
    "\n",
    "print(n2)\n",
    "\n",
    "## create chaining of nodes\n",
    "\n",
    "n1.refer = n2 # Wednesday -> Thursday\n",
    "n2.refer = n3 # Thursday -> Friday\n",
    "\n",
    "print(n1.refer.refer.data)\n"
   ]
  },
  {
   "cell_type": "code",
   "execution_count": 18,
   "metadata": {},
   "outputs": [
    {
     "name": "stdout",
     "output_type": "stream",
     "text": [
      "Wednesday\n",
      "Thursday\n",
      "Friday\n"
     ]
    }
   ],
   "source": [
    "\n",
    "def print_list(node):\n",
    "    while node:\n",
    "        print(node.data)\n",
    "        node = node.refer\n",
    "\n",
    "if __name__ == '__main__':\n",
    "    print_list(n1)"
   ]
  },
  {
   "cell_type": "code",
   "execution_count": 56,
   "metadata": {},
   "outputs": [
    {
     "name": "stdout",
     "output_type": "stream",
     "text": [
      "February\n"
     ]
    }
   ],
   "source": [
    "class node():\n",
    "\n",
    "    def __init__(self, data=None, reference=None):\n",
    "        self.data = data\n",
    "        self.refer = reference # pointer to next node\n",
    "\n",
    "    def __str__(self):\n",
    "        if self.refer:\n",
    "            return f\"{self.data},{self.refer}\"\n",
    "        else:\n",
    "            return str(self.data)\n",
    "\n",
    "    def delete_node(self,value):\n",
    "        if not self.refer:\n",
    "            pass\n",
    "        elif self.refer.data == value:\n",
    "            self.refer = self.refer.refer\n",
    "        else:\n",
    "            self.refer.delete_node(value)\n",
    "\n",
    "class LL:\n",
    "\n",
    "    def __init__(self):\n",
    "        self.head=None\n",
    "\n",
    "    # def print_list(self):\n",
    "    #     head = self.head\n",
    "    #     while head is not None:\n",
    "    #         print(head)\n",
    "    #         head = head.refer\n",
    "\n",
    "    def __str__(self):\n",
    "        if self.head:\n",
    "            return f\"<{self.head}>\"\n",
    "        else:\n",
    "            return f\"<>\"\n",
    "\n",
    "    def delete(self,value):\n",
    "        if not self.head:\n",
    "            pass\n",
    "        elif self.head.data==value:\n",
    "            self.head = self.head.refer\n",
    "        else:\n",
    "            self.head.delete_node(value) # recursive call\n",
    "        return self\n",
    "\n",
    "    # Insert in the front\n",
    "    def insert_front(self,new):\n",
    "        node_obj = node(new)\n",
    "        node_obj.refer = self.head\n",
    "        self.head = node_obj    # Makes new thing the head\n",
    "\n",
    "    # Insert in between\n",
    "    def between(self, ask_node, new):\n",
    "        if ask_node is None:\n",
    "            print('Make sure node is in the LL')\n",
    "            return\n",
    "        node_obj=node(new)\n",
    "        #make this node the next node for the previous node from user\n",
    "        node_obj.refer=ask_node.refer\n",
    "        ask_node.refer= node_obj\n",
    "\n",
    "    # Insertion at the end\n",
    "    def end(self,new):\n",
    "        node_obj = node(new)\n",
    "        if self.head is None:   #if LL is empty make this head\n",
    "            self.head = node_obj\n",
    "            return\n",
    "        else:\n",
    "            last = self.head\n",
    "            while(last.refer):         # traverse to the end of the LL\n",
    "                last = last.refer\n",
    "            last.refer = node_obj       #add to the end\n",
    "            \n",
    "    #Reversing\n",
    "    def reverse(self):\n",
    "        current = self.head         #Current = n1 = December\n",
    "        rev = None\n",
    "        while current:             \n",
    "            trav = current.refer    #n1.refer = n2  , trav = n2.refer = n3  , trav = n3.refer = n4  , trav = n4.refer = n5 \n",
    "            current.refer = rev     #n2 = none      , n3 = n1               , n4.refer = n2         , n5.refer = n3\n",
    "            rev = current           #rev = n1       , rev = n2              , rev = n3              , rev = n4\n",
    "            current = trav          #current = n2   , current = n3          , current = n4          , current = n5\n",
    "        self.head = rev\n",
    "        return self\n",
    "\n",
    "\n",
    "LL1 = LL()\n",
    "n1 = node(\"January\")\n",
    "n2 = node(\"February\")\n",
    "n3 = node(\"March\",)\n",
    "n4 = node(\"April\")\n",
    "n5 = node(\"May\")\n",
    "n6 = node(\"June\")\n",
    "\n",
    "LL1.head=n1\n",
    "\n",
    "## Chaining\n",
    "\n",
    "LL1.head.refer = n2\n",
    "LL1.head.refer.refer = n3\n",
    "LL1.head.refer.refer.refer = n4\n",
    "LL1.head.refer.refer.refer.refer = n5\n",
    "LL1.head.refer.refer.refer.refer.refer = n6\n",
    "\n",
    "print(LL1.head.refer.data)"
   ]
  },
  {
   "cell_type": "code",
   "execution_count": 57,
   "metadata": {},
   "outputs": [
    {
     "name": "stdout",
     "output_type": "stream",
     "text": [
      "<January,February,March,April,May,June>\n",
      "<December,January,February,March,April,May,June>\n",
      "<December,Tomato,January,February,March,April,May,June>\n",
      "<December,Tomato,January,February,March,April,May,June,July>\n",
      "<July,June,May,April,March,February,January,Tomato,December>\n"
     ]
    }
   ],
   "source": [
    "print(LL1)\n",
    "\n",
    "# delete = LL1.delete(\"April\")\n",
    "\n",
    "# print(delete)\n",
    "\n",
    "# Insertion, Deletion and reverse\n",
    "\n",
    "LL1.insert_front(\"December\")\n",
    "\n",
    "print(LL1)\n",
    "\n",
    "LL1.between(LL1.head,\"Tomato\")\n",
    "print(LL1)\n",
    "\n",
    "LL1.end('July')\n",
    "print(LL1)\n",
    "\n",
    "rev = LL1.reverse()\n",
    "print(rev)"
   ]
  },
  {
   "cell_type": "markdown",
   "metadata": {},
   "source": [
    "# Stacks and Queues\n",
    " Stacks - LIFO/FILO\n",
    " Queues - FIFO/LILO\n",
    " Function assosiated with a stack:\n",
    " 1. empty()\n",
    " 2. size()\n",
    " 3. top()\n",
    " 4. push()\n",
    " 5. pop()"
   ]
  },
  {
   "cell_type": "code",
   "execution_count": 7,
   "metadata": {},
   "outputs": [
    {
     "name": "stdout",
     "output_type": "stream",
     "text": [
      "[1, 2, 3]\n",
      "3\n",
      "2\n",
      "1\n"
     ]
    }
   ],
   "source": [
    "stack = []\n",
    "stack.append(1) #push operation\n",
    "stack.append(2)\n",
    "stack.append(3)\n",
    "print(stack)\n",
    "\n",
    "print(stack.pop()) #LIFO basically\n",
    "print(stack.pop()) #LIFO basically\n",
    "print(stack.pop()) #LIFO basically\n",
    "# print(stack.pop()) # Error as no more elements in list to pop out\n",
    "\n",
    "\n",
    "\n"
   ]
  },
  {
   "cell_type": "code",
   "execution_count": 8,
   "metadata": {},
   "outputs": [],
   "source": [
    "# Implementation using collections.deque\n",
    "# Deque is prefered over he list implementation inn the cases where we need quicker append and pop operations at the ends of the DS"
   ]
  },
  {
   "cell_type": "code",
   "execution_count": 18,
   "metadata": {},
   "outputs": [
    {
     "name": "stdout",
     "output_type": "stream",
     "text": [
      "<class 'collections.deque'>\n",
      "deque(['Vivek', 'Avyay', 'Ashwin', 'Dinesh'])\n",
      "Dinesh\n"
     ]
    }
   ],
   "source": [
    "from collections import deque #deque is a function from the module which inherits the propery of LIFO which can be used to implement stacks\n",
    "stack = deque()\n",
    "\n",
    "print(type(stack))\n",
    "# print(dir(stack))\n",
    "\n",
    "stack.append('Avyay')\n",
    "stack.append('Ashwin')\n",
    "stack.appendleft('Vivek')\n",
    "stack.append('Dinesh')\n",
    "\n",
    "print(stack)\n",
    "\n",
    "print(stack.pop())\n"
   ]
  },
  {
   "cell_type": "code",
   "execution_count": 31,
   "metadata": {},
   "outputs": [
    {
     "name": "stdout",
     "output_type": "stream",
     "text": [
      "['Monday', 'Tuesday', 'Wednesday', 'Thursday', 'Friday']\n",
      "Friday\n",
      "Thursday\n",
      "Wednesday\n",
      "Tuesday\n",
      "['Monday']\n"
     ]
    }
   ],
   "source": [
    "# Next implementation using queue module\n",
    "from queue import LifoQueue\n",
    "\n",
    "stack = LifoQueue(maxsize=6)  # Max of 6 elements can be defined in this stack \n",
    "\n",
    "# print(dir(stack))\n",
    "# print(stack.qsize()) # Number of elements in the stack\n",
    "# print(stack.full())\n",
    "# print(stack.empty())\n",
    "\n",
    "stack.put('Monday')\n",
    "stack.put('Tuesday')\n",
    "stack.put('Wednesday')\n",
    "stack.put('Thursday')\n",
    "stack.put('Friday')\n",
    "\n",
    "# print(stack.full())\n",
    "# print(stack.empty())\n",
    "\n",
    "print(stack.queue)\n",
    "\n",
    "print(stack.get())\n",
    "print(stack.get())\n",
    "print(stack.get())\n",
    "print(stack.get())\n",
    "# print(stack.get())\n",
    "\n",
    "print(stack.queue)\n"
   ]
  },
  {
   "cell_type": "code",
   "execution_count": 50,
   "metadata": {},
   "outputs": [
    {
     "name": "stdout",
     "output_type": "stream",
     "text": [
      "11-->10-->9-->8-->7-->6-->5-->4-->3-->2-->1-->\n",
      "11\n",
      "10-->9-->8-->7-->6-->5-->4-->3-->2-->1-->\n",
      "10\n",
      "9\n",
      "8\n",
      "7\n",
      "6\n",
      "5-->4-->3-->2-->1-->\n",
      "5\n",
      "TOP element =  5\n"
     ]
    }
   ],
   "source": [
    "#Implementation of stack using linked list\n",
    "\n",
    "class node:\n",
    "    def __init__(self, data=None, refer=None):\n",
    "        self.data = data\n",
    "        self.refer = refer\n",
    "        \n",
    "\n",
    "class stack:\n",
    "    def __init__(self):\n",
    "        self.head = node('head')  #self.head.data = 'head'; self.head.refer=None\n",
    "        self.size=0\n",
    "\n",
    "    def __str__(self): # This function prints all elements of the stack\n",
    "        now = self.head.refer\n",
    "        result = \"\"\n",
    "        while now:\n",
    "            result += str(now.data)+'-->'\n",
    "            now=now.refer\n",
    "        return result\n",
    "\n",
    "    def size_(self):\n",
    "        return self.size\n",
    "\n",
    "    def empty(self):\n",
    "        return self.size==0\n",
    "\n",
    "    def top(self):\n",
    "        if self.empty():\n",
    "            raise Exception('Peeking from an empty stack')\n",
    "        return self.head.refer.data\n",
    "\n",
    "    def push(self,new):     #inserting into the stack\n",
    "        new_node = node(new)\n",
    "        new_node.refer = self.head.refer\n",
    "        self.head.refer = new_node\n",
    "        self.size +=1\n",
    "\n",
    "    def pop(self):\n",
    "        if self.empty():\n",
    "            raise Exception('Popping from an empty stack')\n",
    "        remove = self.head.refer\n",
    "        self.head.refer = self.head.refer.refer\n",
    "        self.size-=1\n",
    "        return remove.data\n",
    "\n",
    "\n",
    "if __name__==\"__main__\":\n",
    "    stack = stack()\n",
    "    for i in range(1,12):\n",
    "        stack.push(str(i))\n",
    "    print(stack)\n",
    "    print(stack.pop())\n",
    "    print(stack)\n",
    "\n",
    "    for i in range(1,6):\n",
    "        remove = stack.pop()\n",
    "        print(remove)\n",
    "\n",
    "    print(stack)\n",
    "\n",
    "    print(stack.size_())\n",
    "\n",
    "    print(\"TOP element = \",stack.top())"
   ]
  },
  {
   "cell_type": "markdown",
   "metadata": {},
   "source": [
    "# Queues\n",
    "Non primitive data stucture that orgainises elements in a partiuclar order. FIFO - First in First Out.\n",
    "Insertion and deletion happen at differnt ends of the queue.\n",
    " 1. enqueue()\n",
    " 2. dequeue()\n",
    " 3. front()\n",
    " 4. rear()\n",
    " 5. size()\n",
    " 6. empty()"
   ]
  },
  {
   "cell_type": "code",
   "execution_count": 53,
   "metadata": {},
   "outputs": [
    {
     "name": "stdout",
     "output_type": "stream",
     "text": [
      "[1, 2, 3, 4]\n",
      "1\n",
      "[2, 3, 4]\n",
      "2\n",
      "[3, 4]\n",
      "3\n",
      "[4]\n"
     ]
    }
   ],
   "source": [
    "# Implementation using list\n",
    " \n",
    "queue = []\n",
    "\n",
    "queue.append(1)\n",
    "queue.append(2)\n",
    "queue.append(3)\n",
    "queue.append(4)\n",
    "\n",
    "print(queue)\n",
    "\n",
    "print(queue.pop(0))\n",
    "print(queue)\n",
    "\n",
    "print(queue.pop(0))\n",
    "print(queue)\n",
    "\n",
    "print(queue.pop(0))\n",
    "print(queue)\n",
    "\n"
   ]
  },
  {
   "cell_type": "code",
   "execution_count": 57,
   "metadata": {},
   "outputs": [
    {
     "name": "stdout",
     "output_type": "stream",
     "text": [
      "deque([1, 2, 3, 4])\n",
      "1\n",
      "deque([2, 3, 4])\n",
      "2\n",
      "deque([3, 4])\n"
     ]
    }
   ],
   "source": [
    "# Implelentation using collections.deque\n",
    "\n",
    "from collections import deque\n",
    "\n",
    "queue = deque\n",
    "\n",
    "queue = deque()\n",
    "\n",
    "# print(dir(queue))\n",
    "\n",
    "queue.append(1)\n",
    "queue.append(2)\n",
    "queue.append(3)\n",
    "queue.append(4)\n",
    "\n",
    "print(queue)\n",
    "\n",
    "print(queue.popleft())\n",
    "print(queue)\n",
    "\n",
    "print(queue.popleft())\n",
    "print(queue)"
   ]
  },
  {
   "cell_type": "code",
   "execution_count": 61,
   "metadata": {},
   "outputs": [
    {
     "name": "stdout",
     "output_type": "stream",
     "text": [
      "deque([1, 2])\n",
      "1\n",
      "2\n",
      "True\n"
     ]
    }
   ],
   "source": [
    "# Implementation using the queue module\n",
    "\n",
    "from queue import Queue\n",
    "\n",
    "q = Queue(maxsize=6)\n",
    "\n",
    "# print(dir(queue))\n",
    "\n",
    "q.put(1)\n",
    "q.put(2)\n",
    "\n",
    "print(q.queue)\n",
    "\n",
    "print(q.get())\n",
    "print(q.get())\n",
    "print(q.empty())"
   ]
  },
  {
   "cell_type": "code",
   "execution_count": 80,
   "metadata": {},
   "outputs": [
    {
     "name": "stdout",
     "output_type": "stream",
     "text": [
      "1,2,3,4,\n",
      "2,3,4,\n",
      "3,4,\n",
      "False\n",
      "3,4,\n"
     ]
    }
   ],
   "source": [
    "# Implementation using Node class of LL\n",
    "\n",
    "class node:\n",
    "    def __init__(self, data=None, refer=None):\n",
    "        self.data = data\n",
    "        self.refer = refer\n",
    "\n",
    "\n",
    "class queue:\n",
    "    def __init__(self):\n",
    "        self.front = self.rear = None\n",
    "        self.size = 0\n",
    "\n",
    "    def __str__(self):\n",
    "        now = self.front\n",
    "        result = \"\"\n",
    "        while now:\n",
    "            result += str(now.data)+','\n",
    "            now=now.refer\n",
    "        return result\n",
    "    \n",
    "    def empty(self):\n",
    "        return self.front==None\n",
    "\n",
    "    def enqueue(self,new):\n",
    "        new_node = node(new)\n",
    "        if self.rear==None:\n",
    "            self.front=self.rear=new_node\n",
    "            # self.front.refer=self.rear\n",
    "            return\n",
    "        self.rear.refer = new_node\n",
    "        self.rear = new_node\n",
    "    \n",
    "\n",
    "    def dequeue(self):\n",
    "        if self.empty():\n",
    "            raise Exception('Empty')\n",
    "        temp = self.front\n",
    "        self.front=temp.refer\n",
    "        if self.front ==None:\n",
    "            self.rear =None\n",
    "\n",
    "if __name__=='__main__':\n",
    "    q = queue()\n",
    "    q.enqueue(1)\n",
    "    q.enqueue(2)\n",
    "    q.enqueue(3)\n",
    "    q.enqueue(4)\n",
    "    print(q)\n",
    "    # print(q.front.refer.data)\n",
    "    q.dequeue()\n",
    "    print(q)\n",
    "\n",
    "    q.dequeue()\n",
    "    print(q)\n",
    "    \n",
    "    print(q.empty())\n",
    "    print(q)\n",
    "    # print(q.front.refer.data)\n",
    "    \n"
   ]
  },
  {
   "cell_type": "code",
   "execution_count": null,
   "metadata": {},
   "outputs": [],
   "source": []
  }
 ],
 "metadata": {
  "kernelspec": {
   "display_name": "Python 3.10.5 64-bit",
   "language": "python",
   "name": "python3"
  },
  "language_info": {
   "codemirror_mode": {
    "name": "ipython",
    "version": 3
   },
   "file_extension": ".py",
   "mimetype": "text/x-python",
   "name": "python",
   "nbconvert_exporter": "python",
   "pygments_lexer": "ipython3",
   "version": "3.10.5"
  },
  "orig_nbformat": 4,
  "vscode": {
   "interpreter": {
    "hash": "e7370f93d1d0cde622a1f8e1c04877d8463912d04d973331ad4851f04de6915a"
   }
  }
 },
 "nbformat": 4,
 "nbformat_minor": 2
}
