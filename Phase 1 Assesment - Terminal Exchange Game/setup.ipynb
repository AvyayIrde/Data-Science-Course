{
 "cells": [
  {
   "cell_type": "code",
   "execution_count": 2,
   "metadata": {},
   "outputs": [],
   "source": [
    "from symtable import Symbol\n",
    "import requests\n",
    "import json\n",
    "import mysql.connector\n",
    "import bcrypt\n",
    "\n",
    "# def timezone_search():\n",
    "#     url = \"http://api.marketstack.com/v1/timezones\"\n",
    "#     parameters = {\n",
    "#         'access_key': 'afb37f15ee86604d6975ff76d5105304'\n",
    "#     }\n",
    "#     response = requests.get(url, params=parameters)\n",
    "#     data = json.loads(response.text)\n",
    "#     return data"
   ]
  },
  {
   "cell_type": "code",
   "execution_count": 3,
   "metadata": {},
   "outputs": [
    {
     "name": "stdout",
     "output_type": "stream",
     "text": [
      "{\n",
      "    \"bestMatches\": [\n",
      "        {\n",
      "            \"1. symbol\": \"TATACOFFEE.BSE\",\n",
      "            \"2. name\": \"TATA COFFEE LTD.\",\n",
      "            \"3. type\": \"Equity\",\n",
      "            \"4. region\": \"India/Bombay\",\n",
      "            \"5. marketOpen\": \"09:15\",\n",
      "            \"6. marketClose\": \"15:30\",\n",
      "            \"7. timezone\": \"UTC+5.5\",\n",
      "            \"8. currency\": \"INR\",\n",
      "            \"9. matchScore\": \"0.8696\"\n",
      "        }\n",
      "    ]\n",
      "}\n"
     ]
    }
   ],
   "source": [
    "url = \"https://alpha-vantage.p.rapidapi.com/query\"\n",
    "\n",
    "querystring = {\n",
    "    \"keywords\":\"tatacoffee\",\n",
    "    \"function\":\"SYMBOL_SEARCH\",\n",
    "    \"datatype\":\"json\"\n",
    "}\n",
    "\n",
    "headers = {\n",
    "\t\"X-RapidAPI-Key\": \"4e11ba9a03msh6ad5ea7d0116106p196642jsn92155f1df104\",\n",
    "\t\"X-RapidAPI-Host\": \"alpha-vantage.p.rapidapi.com\"\n",
    "}\n",
    "\n",
    "response = requests.request(\"GET\", url, headers=headers, params=querystring)\n",
    "\n",
    "print(response.text)"
   ]
  },
  {
   "cell_type": "code",
   "execution_count": 5,
   "metadata": {},
   "outputs": [
    {
     "name": "stdout",
     "output_type": "stream",
     "text": [
      "{\n",
      "    \"Global Quote\": {\n",
      "        \"01. symbol\": \"TATACOFFEE.BSE\",\n",
      "        \"02. open\": \"210.2000\",\n",
      "        \"03. high\": \"214.8500\",\n",
      "        \"04. low\": \"209.2500\",\n",
      "        \"05. price\": \"211.4500\",\n",
      "        \"06. volume\": \"72806\",\n",
      "        \"07. latest trading day\": \"2022-07-14\",\n",
      "        \"08. previous close\": \"211.1000\",\n",
      "        \"09. change\": \"0.3500\",\n",
      "        \"10. change percent\": \"0.1658%\"\n",
      "    }\n",
      "}\n"
     ]
    }
   ],
   "source": [
    "url = \"https://alpha-vantage.p.rapidapi.com/query\"\n",
    "\n",
    "querystring = {\n",
    "    \"function\":\"GLOBAL_QUOTE\",\n",
    "    \"symbol\":\"TATACOFFEE.BSE\",\n",
    "    \"datatype\":\"json\"\n",
    "}\n",
    "\n",
    "headers = {\n",
    "\t\"X-RapidAPI-Key\": \"4e11ba9a03msh6ad5ea7d0116106p196642jsn92155f1df104\",\n",
    "\t\"X-RapidAPI-Host\": \"alpha-vantage.p.rapidapi.com\"\n",
    "}\n",
    "\n",
    "response = requests.request(\"GET\", url, headers=headers, params=querystring)\n",
    "\n",
    "print(response.text)"
   ]
  },
  {
   "cell_type": "code",
   "execution_count": null,
   "metadata": {},
   "outputs": [],
   "source": [
    "query=\"CREATE TABLE 'USER'(username VARCHAR(255) PRIMARY KEY, password VARCHAR(500), balance INTEGER);\""
   ]
  },
  {
   "cell_type": "code",
   "execution_count": null,
   "metadata": {},
   "outputs": [],
   "source": []
  }
 ],
 "metadata": {
  "kernelspec": {
   "display_name": "Python 3.10.5 64-bit",
   "language": "python",
   "name": "python3"
  },
  "language_info": {
   "codemirror_mode": {
    "name": "ipython",
    "version": 3
   },
   "file_extension": ".py",
   "mimetype": "text/x-python",
   "name": "python",
   "nbconvert_exporter": "python",
   "pygments_lexer": "ipython3",
   "version": "3.10.5"
  },
  "orig_nbformat": 4,
  "vscode": {
   "interpreter": {
    "hash": "e7370f93d1d0cde622a1f8e1c04877d8463912d04d973331ad4851f04de6915a"
   }
  }
 },
 "nbformat": 4,
 "nbformat_minor": 2
}
