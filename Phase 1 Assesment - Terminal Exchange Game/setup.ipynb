{
 "cells": [
  {
   "cell_type": "code",
   "execution_count": 1,
   "metadata": {},
   "outputs": [],
   "source": [
    "from symtable import Symbol\n",
    "import requests\n",
    "import json\n",
    "import mysql.connector\n",
    "import bcrypt\n",
    "\n",
    "def timezone_search():\n",
    "    url = \"http://api.marketstack.com/v1/timezones\"\n",
    "    parameters = {\n",
    "        'access_key': 'afb37f15ee86604d6975ff76d5105304'\n",
    "    }\n",
    "    response = requests.get(url, params=parameters)\n",
    "    data = json.loads(response.text)\n",
    "    return data"
   ]
  },
  {
   "cell_type": "code",
   "execution_count": 60,
   "metadata": {},
   "outputs": [
    {
     "name": "stdout",
     "output_type": "stream",
     "text": [
      "{\n",
      "    \"bestMatches\": [\n",
      "        {\n",
      "            \"1. symbol\": \"TATACOFFEE.BSE\",\n",
      "            \"2. name\": \"TATA COFFEE LTD.\",\n",
      "            \"3. type\": \"Equity\",\n",
      "            \"4. region\": \"India/Bombay\",\n",
      "            \"5. marketOpen\": \"09:15\",\n",
      "            \"6. marketClose\": \"15:30\",\n",
      "            \"7. timezone\": \"UTC+5.5\",\n",
      "            \"8. currency\": \"INR\",\n",
      "            \"9. matchScore\": \"0.8696\"\n",
      "        }\n",
      "    ]\n",
      "}\n"
     ]
    }
   ],
   "source": [
    "url = \"https://alpha-vantage.p.rapidapi.com/query\"\n",
    "\n",
    "querystring = {\n",
    "    \"keywords\":\"tatacoffee\",\n",
    "    \"function\":\"SYMBOL_SEARCH\",\n",
    "    \"datatype\":\"json\"\n",
    "    }\n",
    "\n",
    "headers = {\n",
    "\t\"X-RapidAPI-Key\": \"4e11ba9a03msh6ad5ea7d0116106p196642jsn92155f1df104\",\n",
    "\t\"X-RapidAPI-Host\": \"alpha-vantage.p.rapidapi.com\"\n",
    "}\n",
    "\n",
    "response = requests.request(\"GET\", url, headers=headers, params=querystring)\n",
    "\n",
    "print(response.text)"
   ]
  },
  {
   "cell_type": "code",
   "execution_count": 2,
   "metadata": {},
   "outputs": [
    {
     "name": "stdout",
     "output_type": "stream",
     "text": [
      "{'pagination': {'limit': 100, 'offset': 0, 'count': 57, 'total': 57}, 'data': [{'timezone': 'America/New_York', 'abbr': 'EST', 'abbr_dst': 'EDT'}, {'timezone': 'America/Argentina/Buenos_Aires', 'abbr': '-03', 'abbr_dst': '-03'}, {'timezone': 'Europe/Vienna', 'abbr': 'CET', 'abbr_dst': 'CEST'}, {'timezone': 'Asia/Bahrain', 'abbr': '+03', 'abbr_dst': '+03'}, {'timezone': 'Europe/Brussels', 'abbr': 'CET', 'abbr_dst': 'CEST'}, {'timezone': 'America/Sao_Paulo', 'abbr': '-03', 'abbr_dst': '-03'}, {'timezone': 'America/Toronto', 'abbr': 'EST', 'abbr_dst': 'EDT'}, {'timezone': 'America/Vancouver', 'abbr': 'PST', 'abbr_dst': 'PDT'}, {'timezone': 'America/Santiago', 'abbr': '-03', 'abbr_dst': '-04'}, {'timezone': 'Asia/Shanghai', 'abbr': 'CST', 'abbr_dst': 'CST'}, {'timezone': 'Europe/Copenhagen', 'abbr': 'CET', 'abbr_dst': 'CEST'}, {'timezone': 'Africa/Cairo', 'abbr': 'EET', 'abbr_dst': 'EET'}, {'timezone': 'Europe/Tallinn', 'abbr': 'EET', 'abbr_dst': 'EEST'}, {'timezone': 'Europe/Helsinki', 'abbr': 'EET', 'abbr_dst': 'EEST'}, {'timezone': 'Europe/Paris', 'abbr': 'CET', 'abbr_dst': 'CEST'}, {'timezone': 'Europe/Berlin', 'abbr': 'CET', 'abbr_dst': 'CEST'}, {'timezone': 'Europe/Athens', 'abbr': 'EET', 'abbr_dst': 'EEST'}, {'timezone': 'Asia/Hong_Kong', 'abbr': 'HKT', 'abbr_dst': 'HKT'}, {'timezone': 'Europe/Budapest', 'abbr': 'CET', 'abbr_dst': 'CEST'}, {'timezone': 'Atlantic/Reykjavik', 'abbr': 'GMT', 'abbr_dst': 'GMT'}, {'timezone': 'Asia/Kolkata', 'abbr': 'IST', 'abbr_dst': 'IST'}, {'timezone': 'Asia/Jakarta', 'abbr': 'WIB', 'abbr_dst': 'WIB'}, {'timezone': 'Europe/Dublin', 'abbr': 'GMT', 'abbr_dst': 'IST'}, {'timezone': 'Asia/Jerusalem', 'abbr': 'IST', 'abbr_dst': 'IDT'}, {'timezone': 'Europe/Rome', 'abbr': 'CET', 'abbr_dst': 'CEST'}, {'timezone': 'Asia/Tokyo', 'abbr': 'JST', 'abbr_dst': 'JST'}, {'timezone': 'Europe/Riga', 'abbr': 'EET', 'abbr_dst': 'EEST'}, {'timezone': 'Europe/Vilnius', 'abbr': 'EET', 'abbr_dst': 'EEST'}, {'timezone': 'Europe/Luxembourg', 'abbr': 'CET', 'abbr_dst': 'CEST'}, {'timezone': 'Asia/Kuala_Lumpur', 'abbr': '+08', 'abbr_dst': '+08'}, {'timezone': 'America/Mexico_City', 'abbr': 'CST', 'abbr_dst': 'CDT'}, {'timezone': 'Europe/Amsterdam', 'abbr': 'CET', 'abbr_dst': 'CEST'}, {'timezone': 'Pacific/Auckland', 'abbr': 'NZDT', 'abbr_dst': 'NZST'}, {'timezone': 'Africa/Lagos', 'abbr': 'WAT', 'abbr_dst': 'WAT'}, {'timezone': 'Europe/Oslo', 'abbr': 'CET', 'abbr_dst': 'CEST'}, {'timezone': 'Asia/Karachi', 'abbr': 'PKT', 'abbr_dst': 'PKT'}, {'timezone': 'Asia/Manila', 'abbr': 'PST', 'abbr_dst': 'PST'}, {'timezone': 'Europe/Warsaw', 'abbr': 'CET', 'abbr_dst': 'CEST'}, {'timezone': 'Europe/Lisbon', 'abbr': 'WET', 'abbr_dst': 'WEST'}, {'timezone': 'Asia/Qatar', 'abbr': '+03', 'abbr_dst': '+03'}, {'timezone': 'Europe/Moscow', 'abbr': 'MSK', 'abbr_dst': 'MSK'}, {'timezone': 'Asia/Riyadh', 'abbr': '+03', 'abbr_dst': '+03'}, {'timezone': 'Europe/Belgrade', 'abbr': 'CET', 'abbr_dst': 'CEST'}, {'timezone': 'Asia/Singapore', 'abbr': '+08', 'abbr_dst': '+08'}, {'timezone': 'Africa/Johannesburg', 'abbr': 'SAST', 'abbr_dst': 'SAST'}, {'timezone': 'Asia/Seoul', 'abbr': 'KST', 'abbr_dst': 'KST'}, {'timezone': 'Europe/Madrid', 'abbr': 'CET', 'abbr_dst': 'CEST'}, {'timezone': 'Europe/Stockholm', 'abbr': 'CET', 'abbr_dst': 'CEST'}, {'timezone': 'Europe/Zurich', 'abbr': 'CET', 'abbr_dst': 'CEST'}, {'timezone': 'Asia/Taipei', 'abbr': 'CST', 'abbr_dst': 'CST'}, {'timezone': 'Asia/Bangkok', 'abbr': '+07', 'abbr_dst': '+07'}, {'timezone': 'Europe/Istanbul', 'abbr': '+03', 'abbr_dst': '+03'}, {'timezone': 'Asia/Dubai', 'abbr': '+04', 'abbr_dst': '+04'}, {'timezone': 'Europe/London', 'abbr': 'GMT', 'abbr_dst': 'BST'}, {'timezone': 'Asia/Ho_Chi_Minh', 'abbr': '+07', 'abbr_dst': '+07'}, {'timezone': 'Australia/Sydney', 'abbr': 'AEST', 'abbr_dst': 'AEDT'}, {'timezone': 'America/Chicago', 'abbr': 'CDT', 'abbr_dst': 'CDT'}]}\n"
     ]
    }
   ],
   "source": [
    "if __name__ == '__main__':\n",
    "    test = timezone_search()\n",
    "    print(test)"
   ]
  },
  {
   "cell_type": "code",
   "execution_count": null,
   "metadata": {},
   "outputs": [],
   "source": []
  },
  {
   "cell_type": "code",
   "execution_count": null,
   "metadata": {},
   "outputs": [],
   "source": []
  }
 ],
 "metadata": {
  "kernelspec": {
   "display_name": "Python 3.10.5 64-bit",
   "language": "python",
   "name": "python3"
  },
  "language_info": {
   "codemirror_mode": {
    "name": "ipython",
    "version": 3
   },
   "file_extension": ".py",
   "mimetype": "text/x-python",
   "name": "python",
   "nbconvert_exporter": "python",
   "pygments_lexer": "ipython3",
   "version": "3.10.5"
  },
  "orig_nbformat": 4,
  "vscode": {
   "interpreter": {
    "hash": "e7370f93d1d0cde622a1f8e1c04877d8463912d04d973331ad4851f04de6915a"
   }
  }
 },
 "nbformat": 4,
 "nbformat_minor": 2
}
