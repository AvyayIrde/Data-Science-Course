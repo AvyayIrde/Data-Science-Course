{
 "cells": [
  {
   "cell_type": "code",
   "execution_count": 2,
   "metadata": {},
   "outputs": [],
   "source": [
    "from symtable import Symbol\n",
    "import requests\n",
    "import json\n",
    "import mysql.connector\n",
    "import bcrypt\n",
    "\n",
    "# def timezone_search():\n",
    "#     url = \"http://api.marketstack.com/v1/timezones\"\n",
    "#     parameters = {\n",
    "#         'access_key': 'afb37f15ee86604d6975ff76d5105304'\n",
    "#     }\n",
    "#     response = requests.get(url, params=parameters)\n",
    "#     data = json.loads(response.text)\n",
    "#     return data"
   ]
  },
  {
   "cell_type": "code",
   "execution_count": 3,
   "metadata": {},
   "outputs": [
    {
     "name": "stdout",
     "output_type": "stream",
     "text": [
      "{\n",
      "    \"bestMatches\": [\n",
      "        {\n",
      "            \"1. symbol\": \"TATACOFFEE.BSE\",\n",
      "            \"2. name\": \"TATA COFFEE LTD.\",\n",
      "            \"3. type\": \"Equity\",\n",
      "            \"4. region\": \"India/Bombay\",\n",
      "            \"5. marketOpen\": \"09:15\",\n",
      "            \"6. marketClose\": \"15:30\",\n",
      "            \"7. timezone\": \"UTC+5.5\",\n",
      "            \"8. currency\": \"INR\",\n",
      "            \"9. matchScore\": \"0.8696\"\n",
      "        }\n",
      "    ]\n",
      "}\n"
     ]
    }
   ],
   "source": [
    "url = \"https://alpha-vantage.p.rapidapi.com/query\"\n",
    "\n",
    "querystring = {\n",
    "    \"keywords\":\"tatacoffee\",\n",
    "    \"function\":\"SYMBOL_SEARCH\",\n",
    "    \"datatype\":\"json\"\n",
    "}\n",
    "\n",
    "headers = {\n",
    "\t\"X-RapidAPI-Key\": \"4e11ba9a03msh6ad5ea7d0116106p196642jsn92155f1df104\",\n",
    "\t\"X-RapidAPI-Host\": \"alpha-vantage.p.rapidapi.com\"\n",
    "}\n",
    "\n",
    "response = requests.request(\"GET\", url, headers=headers, params=querystring)\n",
    "\n",
    "print(response.text)"
   ]
  },
  {
   "cell_type": "code",
   "execution_count": 6,
   "metadata": {},
   "outputs": [
    {
     "name": "stdout",
     "output_type": "stream",
     "text": [
      "{\n",
      "    \"Global Quote\": {\n",
      "        \"01. symbol\": \"TATACOFFEE.BSE\",\n",
      "        \"02. open\": \"209.6500\",\n",
      "        \"03. high\": \"217.8000\",\n",
      "        \"04. low\": \"209.6500\",\n",
      "        \"05. price\": \"217.2000\",\n",
      "        \"06. volume\": \"96934\",\n",
      "        \"07. latest trading day\": \"2022-07-15\",\n",
      "        \"08. previous close\": \"211.4500\",\n",
      "        \"09. change\": \"5.7500\",\n",
      "        \"10. change percent\": \"2.7193%\"\n",
      "    }\n",
      "}\n",
      "217.2000\n"
     ]
    }
   ],
   "source": [
    "url = \"https://alpha-vantage.p.rapidapi.com/query\"\n",
    "\n",
    "querystring = {\n",
    "    \"function\":\"GLOBAL_QUOTE\",\n",
    "    \"symbol\":\"TATACOFFEE.BSE\",\n",
    "    \"datatype\":\"json\"\n",
    "}\n",
    "\n",
    "headers = {\n",
    "\t\"X-RapidAPI-Key\": \"4e11ba9a03msh6ad5ea7d0116106p196642jsn92155f1df104\",\n",
    "\t\"X-RapidAPI-Host\": \"alpha-vantage.p.rapidapi.com\"\n",
    "}\n",
    "\n",
    "response = requests.request(\"GET\", url, headers=headers, params=querystring)\n",
    "data = json.loads(response.text)\n",
    "# data['Global Quote']['05. price']\n",
    "\n",
    "print(response.text)\n",
    "print(data['Global Quote']['05. price'])"
   ]
  },
  {
   "cell_type": "code",
   "execution_count": null,
   "metadata": {},
   "outputs": [],
   "source": [
    "query=\"CREATE TABLE 'USER'(username VARCHAR(255) PRIMARY KEY, password VARCHAR(500), balance INTEGER);\""
   ]
  },
  {
   "cell_type": "code",
   "execution_count": null,
   "metadata": {
    "vscode": {
     "languageId": "sql"
    }
   },
   "outputs": [],
   "source": [
    "CREATE TABLE STOCKS(company_name VARCHAR(255), symbol VARCHAR(255) PRIMARY KEY, timezone VARCHAR(255), currency VARCHAR(255), price INTEGER)"
   ]
  },
  {
   "cell_type": "code",
   "execution_count": null,
   "metadata": {
    "vscode": {
     "languageId": "sql"
    }
   },
   "outputs": [],
   "source": [
    "CREATE TABLE TRADES(id INTEGER  NOT NULL,\n",
    "                    username VARCHAR(255) NOT NULL,\n",
    "                    stock_symbol VARCHAR(255) NOT NULL,\n",
    "                    price FLOAT, \n",
    "                    quantity INTEGER, \n",
    "                    transaction_ammount FLOAT,\n",
    "                    time_stamp TIMESTAMP NOT NULL DEFAULT CURRENT_TIMESTAMP ON UPDATE CURRENT_TIMESTAMP,\n",
    "                    PRIMARY KEY(id),\n",
    "                    FOREIGN KEY (username) REFERENCES USERS(username),\n",
    "                    FOREIGN KEY (stock_symbol) REFERENCES STOCKS(symbol));"
   ]
  },
  {
   "cell_type": "code",
   "execution_count": 8,
   "metadata": {},
   "outputs": [
    {
     "name": "stdout",
     "output_type": "stream",
     "text": [
      "2\n",
      "2\n",
      "5\n",
      "5\n",
      "3\n",
      "8\n"
     ]
    }
   ],
   "source": [
    "result = [(2,), (2,), (5,),(5,),(3,),(8,)]\n",
    "\n",
    "\n",
    "for i in range(0,len(result)):\n",
    "    print(result[i][0])"
   ]
  },
  {
   "cell_type": "code",
   "execution_count": 23,
   "metadata": {},
   "outputs": [
    {
     "name": "stdout",
     "output_type": "stream",
     "text": [
      "[{'symbol': 'SMSN.LON', 'quantity': -3}, {'symbol': 'SMSN.LON', 'quantity': -3}, {'symbol': 'SMSN.LON', 'quantity': -3}, {'symbol': 'SMSN.LON', 'quantity': -3}]\n"
     ]
    }
   ],
   "source": [
    "# query = \"SELECT stock_symbol, quantity FROM TRADES WHERE username = %s\"\n",
    "# cursor.execute(query,(user.username,))\n",
    "# result = cursor.fetchall()\n",
    "\n",
    "result = [('AAPL',5),('SMSN.LON',8),('AAPL',-2),('SMSN.LON',-3)]\n",
    "dict = {}\n",
    "lis = []\n",
    "for i in range(0,len(result)):\n",
    "    if result[i][0] not in dict:\n",
    "        dict['symbol'] = result[i][0]\n",
    "        dict['quantity'] = result[i][1]\n",
    "        # print(result[i][0])\n",
    "        # print(result[i][1])\n",
    "    else:\n",
    "        dict['quantity'] += result[i][1]\n",
    "    lis.append(dict)\n",
    "print(lis)\n",
    "\n"
   ]
  },
  {
   "cell_type": "code",
   "execution_count": null,
   "metadata": {},
   "outputs": [],
   "source": []
  }
 ],
 "metadata": {
  "kernelspec": {
   "display_name": "Python 3.10.5 64-bit",
   "language": "python",
   "name": "python3"
  },
  "language_info": {
   "codemirror_mode": {
    "name": "ipython",
    "version": 3
   },
   "file_extension": ".py",
   "mimetype": "text/x-python",
   "name": "python",
   "nbconvert_exporter": "python",
   "pygments_lexer": "ipython3",
   "version": "3.10.5"
  },
  "orig_nbformat": 4,
  "vscode": {
   "interpreter": {
    "hash": "e7370f93d1d0cde622a1f8e1c04877d8463912d04d973331ad4851f04de6915a"
   }
  }
 },
 "nbformat": 4,
 "nbformat_minor": 2
}
