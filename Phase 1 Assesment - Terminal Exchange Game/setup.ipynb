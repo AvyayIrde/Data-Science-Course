{
 "cells": [
  {
   "cell_type": "code",
   "execution_count": 2,
   "metadata": {},
   "outputs": [],
   "source": [
    "from symtable import Symbol\n",
    "import requests\n",
    "import json\n",
    "import mysql.connector\n",
    "import bcrypt\n",
    "\n",
    "# def timezone_search():\n",
    "#     url = \"http://api.marketstack.com/v1/timezones\"\n",
    "#     parameters = {\n",
    "#         'access_key': 'afb37f15ee86604d6975ff76d5105304'\n",
    "#     }\n",
    "#     response = requests.get(url, params=parameters)\n",
    "#     data = json.loads(response.text)\n",
    "#     return data"
   ]
  },
  {
   "cell_type": "code",
   "execution_count": 3,
   "metadata": {},
   "outputs": [
    {
     "name": "stdout",
     "output_type": "stream",
     "text": [
      "{\n",
      "    \"bestMatches\": [\n",
      "        {\n",
      "            \"1. symbol\": \"TATACOFFEE.BSE\",\n",
      "            \"2. name\": \"TATA COFFEE LTD.\",\n",
      "            \"3. type\": \"Equity\",\n",
      "            \"4. region\": \"India/Bombay\",\n",
      "            \"5. marketOpen\": \"09:15\",\n",
      "            \"6. marketClose\": \"15:30\",\n",
      "            \"7. timezone\": \"UTC+5.5\",\n",
      "            \"8. currency\": \"INR\",\n",
      "            \"9. matchScore\": \"0.8696\"\n",
      "        }\n",
      "    ]\n",
      "}\n"
     ]
    }
   ],
   "source": [
    "url = \"https://alpha-vantage.p.rapidapi.com/query\"\n",
    "\n",
    "querystring = {\n",
    "    \"keywords\":\"tatacoffee\",\n",
    "    \"function\":\"SYMBOL_SEARCH\",\n",
    "    \"datatype\":\"json\"\n",
    "}\n",
    "\n",
    "headers = {\n",
    "\t\"X-RapidAPI-Key\": \"4e11ba9a03msh6ad5ea7d0116106p196642jsn92155f1df104\",\n",
    "\t\"X-RapidAPI-Host\": \"alpha-vantage.p.rapidapi.com\"\n",
    "}\n",
    "\n",
    "response = requests.request(\"GET\", url, headers=headers, params=querystring)\n",
    "\n",
    "print(response.text)"
   ]
  },
  {
   "cell_type": "code",
   "execution_count": 6,
   "metadata": {},
   "outputs": [
    {
     "name": "stdout",
     "output_type": "stream",
     "text": [
      "{\n",
      "    \"Global Quote\": {\n",
      "        \"01. symbol\": \"TATACOFFEE.BSE\",\n",
      "        \"02. open\": \"209.6500\",\n",
      "        \"03. high\": \"217.8000\",\n",
      "        \"04. low\": \"209.6500\",\n",
      "        \"05. price\": \"217.2000\",\n",
      "        \"06. volume\": \"96934\",\n",
      "        \"07. latest trading day\": \"2022-07-15\",\n",
      "        \"08. previous close\": \"211.4500\",\n",
      "        \"09. change\": \"5.7500\",\n",
      "        \"10. change percent\": \"2.7193%\"\n",
      "    }\n",
      "}\n",
      "217.2000\n"
     ]
    }
   ],
   "source": [
    "url = \"https://alpha-vantage.p.rapidapi.com/query\"\n",
    "\n",
    "querystring = {\n",
    "    \"function\":\"GLOBAL_QUOTE\",\n",
    "    \"symbol\":\"TATACOFFEE.BSE\",\n",
    "    \"datatype\":\"json\"\n",
    "}\n",
    "\n",
    "headers = {\n",
    "\t\"X-RapidAPI-Key\": \"4e11ba9a03msh6ad5ea7d0116106p196642jsn92155f1df104\",\n",
    "\t\"X-RapidAPI-Host\": \"alpha-vantage.p.rapidapi.com\"\n",
    "}\n",
    "\n",
    "response = requests.request(\"GET\", url, headers=headers, params=querystring)\n",
    "data = json.loads(response.text)\n",
    "# data['Global Quote']['05. price']\n",
    "\n",
    "print(response.text)\n",
    "print(data['Global Quote']['05. price'])"
   ]
  },
  {
   "cell_type": "code",
   "execution_count": null,
   "metadata": {},
   "outputs": [],
   "source": [
    "query=\"CREATE TABLE 'USER'(username VARCHAR(255) PRIMARY KEY, password VARCHAR(500), balance INTEGER);\""
   ]
  },
  {
   "cell_type": "code",
   "execution_count": null,
   "metadata": {
    "vscode": {
     "languageId": "sql"
    }
   },
   "outputs": [],
   "source": [
    "CREATE TABLE STOCKS(company_name VARCHAR(255), symbol VARCHAR(255) PRIMARY KEY, timezone VARCHAR(255), currency VARCHAR(255), price INTEGER)"
   ]
  },
  {
   "cell_type": "code",
   "execution_count": null,
   "metadata": {
    "vscode": {
     "languageId": "sql"
    }
   },
   "outputs": [],
   "source": [
    "CREATE TABLE TRADES(id INTEGER  NOT NULL,\n",
    "                    username VARCHAR(255) NOT NULL,\n",
    "                    stock_symbol VARCHAR(255) NOT NULL,\n",
    "                    price FLOAT, \n",
    "                    quantity INTEGER, \n",
    "                    transaction_ammount FLOAT,\n",
    "                    time_stamp TIMESTAMP NOT NULL DEFAULT CURRENT_TIMESTAMP ON UPDATE CURRENT_TIMESTAMP,\n",
    "                    PRIMARY KEY(id),\n",
    "                    FOREIGN KEY (username) REFERENCES USERS(username),\n",
    "                    FOREIGN KEY (stock_symbol) REFERENCES STOCKS(symbol));"
   ]
  },
  {
   "cell_type": "code",
   "execution_count": 8,
   "metadata": {},
   "outputs": [
    {
     "name": "stdout",
     "output_type": "stream",
     "text": [
      "2\n",
      "2\n",
      "5\n",
      "5\n",
      "3\n",
      "8\n"
     ]
    }
   ],
   "source": [
    "result = [(2,), (2,), (5,),(5,),(3,),(8,)]\n",
    "\n",
    "\n",
    "for i in range(0,len(result)):\n",
    "    print(result[i][0])"
   ]
  },
  {
   "cell_type": "code",
   "execution_count": 54,
   "metadata": {},
   "outputs": [
    {
     "name": "stdout",
     "output_type": "stream",
     "text": [
      "5\n",
      "13\n",
      "9\n",
      "3\n",
      "[{'symbol': 'AAPL', 'quantity': 5}, {'symbol': 'SMSN.LON', 'quantity': 8}, {'symbol': 'AAPL', 'quantity': -2}, {'symbol': 'SMSN.LON', 'quantity': -3}]\n"
     ]
    }
   ],
   "source": [
    "# query = \"SELECT stock_symbol, quantity FROM TRADES WHERE username = %s\"\n",
    "# cursor.execute(query,(user.username,))\n",
    "# result = cursor.fetchall()\n",
    "\n",
    "result = [('AAPL',5),('SMSN.LON',8),('AAPL',-2),('SMSN.LON',-3)]\n",
    "lis = []\n",
    "s=[]\n",
    "q=0\n",
    "for item in result:\n",
    "    dict = {}\n",
    "    dict['symbol'] = item[0]\n",
    "    dict['quantity'] = item[1]\n",
    "    s.append(item[0])\n",
    "    for i in range(0,len(s)):\n",
    "        if dict['symbol']==s[i]:\n",
    "            q+=dict['quantity']\n",
    "    print(q)\n",
    "    # print(dict)\n",
    "    lis.append(dict)\n",
    "print(lis)"
   ]
  },
  {
   "cell_type": "code",
   "execution_count": 50,
   "metadata": {},
   "outputs": [],
   "source": [
    "for item in lis:\n",
    "    if item['symbol'] in s:\n",
    "        item['quantity']"
   ]
  },
  {
   "cell_type": "code",
   "execution_count": 61,
   "metadata": {},
   "outputs": [
    {
     "name": "stdout",
     "output_type": "stream",
     "text": [
      "3\n"
     ]
    }
   ],
   "source": [
    "result = [('AAPL',5),('AAPL',-2)]\n",
    "dict = {}\n",
    "# dict['symbol'] = result[0][0]\n",
    "# dict['quantity'] = result[0][2]\n",
    "quantity=0\n",
    "for item in result:\n",
    "    quantity += item[1]\n",
    "\n",
    "print(quantity)\n",
    "\n"
   ]
  },
  {
   "cell_type": "code",
   "execution_count": 95,
   "metadata": {},
   "outputs": [
    {
     "ename": "ProgrammingError",
     "evalue": "Failed processing format-parameters; Python 'tuple' cannot be converted to a MySQL type",
     "output_type": "error",
     "traceback": [
      "\u001b[0;31m---------------------------------------------------------------------------\u001b[0m",
      "\u001b[0;31mAttributeError\u001b[0m                            Traceback (most recent call last)",
      "File \u001b[0;32m~/.local/lib/python3.10/site-packages/mysql/connector/conversion.py:182\u001b[0m, in \u001b[0;36mMySQLConverter.to_mysql\u001b[0;34m(self, value)\u001b[0m\n\u001b[1;32m    181\u001b[0m \u001b[39mtry\u001b[39;00m:\n\u001b[0;32m--> 182\u001b[0m     \u001b[39mreturn\u001b[39;00m \u001b[39mgetattr\u001b[39;49m(\u001b[39mself\u001b[39;49m, \u001b[39m\"\u001b[39;49m\u001b[39m_\u001b[39;49m\u001b[39m{0}\u001b[39;49;00m\u001b[39m_to_mysql\u001b[39;49m\u001b[39m\"\u001b[39;49m\u001b[39m.\u001b[39;49mformat(type_name))(value)\n\u001b[1;32m    183\u001b[0m \u001b[39mexcept\u001b[39;00m \u001b[39mAttributeError\u001b[39;00m:\n",
      "\u001b[0;31mAttributeError\u001b[0m: 'MySQLConverter' object has no attribute '_tuple_to_mysql'",
      "\nDuring handling of the above exception, another exception occurred:\n",
      "\u001b[0;31mTypeError\u001b[0m                                 Traceback (most recent call last)",
      "File \u001b[0;32m~/.local/lib/python3.10/site-packages/mysql/connector/cursor.py:431\u001b[0m, in \u001b[0;36mMySQLCursor._process_params\u001b[0;34m(self, params)\u001b[0m\n\u001b[1;32m    429\u001b[0m quote \u001b[39m=\u001b[39m \u001b[39mself\u001b[39m\u001b[39m.\u001b[39m_connection\u001b[39m.\u001b[39mconverter\u001b[39m.\u001b[39mquote\n\u001b[0;32m--> 431\u001b[0m res \u001b[39m=\u001b[39m [to_mysql(i) \u001b[39mfor\u001b[39;00m i \u001b[39min\u001b[39;00m res]\n\u001b[1;32m    432\u001b[0m res \u001b[39m=\u001b[39m [escape(i) \u001b[39mfor\u001b[39;00m i \u001b[39min\u001b[39;00m res]\n",
      "File \u001b[0;32m~/.local/lib/python3.10/site-packages/mysql/connector/cursor.py:431\u001b[0m, in \u001b[0;36m<listcomp>\u001b[0;34m(.0)\u001b[0m\n\u001b[1;32m    429\u001b[0m quote \u001b[39m=\u001b[39m \u001b[39mself\u001b[39m\u001b[39m.\u001b[39m_connection\u001b[39m.\u001b[39mconverter\u001b[39m.\u001b[39mquote\n\u001b[0;32m--> 431\u001b[0m res \u001b[39m=\u001b[39m [to_mysql(i) \u001b[39mfor\u001b[39;00m i \u001b[39min\u001b[39;00m res]\n\u001b[1;32m    432\u001b[0m res \u001b[39m=\u001b[39m [escape(i) \u001b[39mfor\u001b[39;00m i \u001b[39min\u001b[39;00m res]\n",
      "File \u001b[0;32m~/.local/lib/python3.10/site-packages/mysql/connector/conversion.py:186\u001b[0m, in \u001b[0;36mMySQLConverter.to_mysql\u001b[0;34m(self, value)\u001b[0m\n\u001b[1;32m    185\u001b[0m     \u001b[39mreturn\u001b[39;00m \u001b[39mstr\u001b[39m(value)\u001b[39m.\u001b[39mencode()\n\u001b[0;32m--> 186\u001b[0m \u001b[39mraise\u001b[39;00m \u001b[39mTypeError\u001b[39;00m(\u001b[39m\"\u001b[39m\u001b[39mPython \u001b[39m\u001b[39m'\u001b[39m\u001b[39m{0}\u001b[39;00m\u001b[39m'\u001b[39m\u001b[39m cannot be converted to a \u001b[39m\u001b[39m\"\u001b[39m\n\u001b[1;32m    187\u001b[0m                 \u001b[39m\"\u001b[39m\u001b[39mMySQL type\u001b[39m\u001b[39m\"\u001b[39m\u001b[39m.\u001b[39mformat(type_name))\n",
      "\u001b[0;31mTypeError\u001b[0m: Python 'tuple' cannot be converted to a MySQL type",
      "\nDuring handling of the above exception, another exception occurred:\n",
      "\u001b[0;31mProgrammingError\u001b[0m                          Traceback (most recent call last)",
      "\u001b[1;32m/home/avyay/OneDrive/Documents/Data-Science-Course/Phase 1 Assesment - Terminal Exchange Game/setup.ipynb Cell 11\u001b[0m in \u001b[0;36m<cell line: 30>\u001b[0;34m()\u001b[0m\n\u001b[1;32m     <a href='vscode-notebook-cell:/home/avyay/OneDrive/Documents/Data-Science-Course/Phase%201%20Assesment%20-%20Terminal%20Exchange%20Game/setup.ipynb#ch0000011?line=30'>31</a>\u001b[0m \u001b[39mdict\u001b[39m \u001b[39m=\u001b[39m {}\n\u001b[1;32m     <a href='vscode-notebook-cell:/home/avyay/OneDrive/Documents/Data-Science-Course/Phase%201%20Assesment%20-%20Terminal%20Exchange%20Game/setup.ipynb#ch0000011?line=31'>32</a>\u001b[0m query \u001b[39m=\u001b[39m \u001b[39m\"\u001b[39m\u001b[39mSELECT quantity FROM TRADES WHERE username = \u001b[39m\u001b[39m%s\u001b[39;00m\u001b[39m AND stock_symbol = \u001b[39m\u001b[39m%s\u001b[39;00m\u001b[39m\"\u001b[39m\n\u001b[0;32m---> <a href='vscode-notebook-cell:/home/avyay/OneDrive/Documents/Data-Science-Course/Phase%201%20Assesment%20-%20Terminal%20Exchange%20Game/setup.ipynb#ch0000011?line=32'>33</a>\u001b[0m cursor\u001b[39m.\u001b[39;49mexecute(query,(user,item))\n\u001b[1;32m     <a href='vscode-notebook-cell:/home/avyay/OneDrive/Documents/Data-Science-Course/Phase%201%20Assesment%20-%20Terminal%20Exchange%20Game/setup.ipynb#ch0000011?line=33'>34</a>\u001b[0m resultq \u001b[39m=\u001b[39m cursor\u001b[39m.\u001b[39mfetchall()\n\u001b[1;32m     <a href='vscode-notebook-cell:/home/avyay/OneDrive/Documents/Data-Science-Course/Phase%201%20Assesment%20-%20Terminal%20Exchange%20Game/setup.ipynb#ch0000011?line=34'>35</a>\u001b[0m \u001b[39m# print(resultq)\u001b[39;00m\n",
      "File \u001b[0;32m~/.local/lib/python3.10/site-packages/mysql/connector/cursor.py:556\u001b[0m, in \u001b[0;36mMySQLCursor.execute\u001b[0;34m(self, operation, params, multi)\u001b[0m\n\u001b[1;32m    553\u001b[0m     stmt \u001b[39m=\u001b[39m _bytestr_format_dict(\n\u001b[1;32m    554\u001b[0m         stmt, \u001b[39mself\u001b[39m\u001b[39m.\u001b[39m_process_params_dict(params))\n\u001b[1;32m    555\u001b[0m \u001b[39melif\u001b[39;00m \u001b[39misinstance\u001b[39m(params, (\u001b[39mlist\u001b[39m, \u001b[39mtuple\u001b[39m)):\n\u001b[0;32m--> 556\u001b[0m     psub \u001b[39m=\u001b[39m _ParamSubstitutor(\u001b[39mself\u001b[39;49m\u001b[39m.\u001b[39;49m_process_params(params))\n\u001b[1;32m    557\u001b[0m     stmt \u001b[39m=\u001b[39m RE_PY_PARAM\u001b[39m.\u001b[39msub(psub, stmt)\n\u001b[1;32m    558\u001b[0m     \u001b[39mif\u001b[39;00m psub\u001b[39m.\u001b[39mremaining \u001b[39m!=\u001b[39m \u001b[39m0\u001b[39m:\n",
      "File \u001b[0;32m~/.local/lib/python3.10/site-packages/mysql/connector/cursor.py:435\u001b[0m, in \u001b[0;36mMySQLCursor._process_params\u001b[0;34m(self, params)\u001b[0m\n\u001b[1;32m    433\u001b[0m     res \u001b[39m=\u001b[39m [quote(i) \u001b[39mfor\u001b[39;00m i \u001b[39min\u001b[39;00m res]\n\u001b[1;32m    434\u001b[0m \u001b[39mexcept\u001b[39;00m \u001b[39mException\u001b[39;00m \u001b[39mas\u001b[39;00m err:\n\u001b[0;32m--> 435\u001b[0m     \u001b[39mraise\u001b[39;00m errors\u001b[39m.\u001b[39mProgrammingError(\n\u001b[1;32m    436\u001b[0m         \u001b[39m\"\u001b[39m\u001b[39mFailed processing format-parameters; \u001b[39m\u001b[39m%s\u001b[39;00m\u001b[39m\"\u001b[39m \u001b[39m%\u001b[39m err)\n\u001b[1;32m    437\u001b[0m \u001b[39melse\u001b[39;00m:\n\u001b[1;32m    438\u001b[0m     \u001b[39mreturn\u001b[39;00m \u001b[39mtuple\u001b[39m(res)\n",
      "\u001b[0;31mProgrammingError\u001b[0m: Failed processing format-parameters; Python 'tuple' cannot be converted to a MySQL type"
     ]
    }
   ],
   "source": [
    "from configparser import ConfigParser\n",
    "from mysql.connector import MySQLConnection\n",
    "\n",
    "def read_db_config(filename='data/config.ini', section='mysql'):    \n",
    "        # create parser and read ini configuration file\n",
    "        parser = ConfigParser()\n",
    "        parser.read(filename)\n",
    "        # get section, default to mysql\n",
    "        db = {}\n",
    "        if parser.has_section(section):\n",
    "            items = parser.items(section)\n",
    "            for item in items:\n",
    "                db[item[0]] = item[1]\n",
    "        else:\n",
    "            raise Exception('{0} not found in the {1} file'.format(section, filename))    \n",
    "        return db # dictionary containing key-value pairs of the credentials to your Mysql server connection \n",
    "user='Avyay'\n",
    "db_config = read_db_config()\n",
    "conn = MySQLConnection(**db_config)\n",
    "cursor = conn.cursor()\n",
    "query = \"SELECT stock_symbol FROM TRADES WHERE username = %s\"\n",
    "cursor.execute(query,(user,))\n",
    "result = cursor.fetchall()\n",
    "symbols = set\n",
    "# print(result)\n",
    "for item in result:\n",
    "    symbols.add(item[0])\n",
    "# print(symbols)\n",
    "lis = []\n",
    "for item in symbols:\n",
    "    dict = {}\n",
    "    query = \"SELECT quantity FROM TRADES WHERE username = %s AND stock_symbol = %s\"\n",
    "    cursor.execute(query,(user,item))\n",
    "    resultq = cursor.fetchall()\n",
    "    # print(resultq)\n",
    "    qty=0\n",
    "    for q in resultq:\n",
    "        # print(q[0])\n",
    "        qty+=q[0]\n",
    "    dict['symbol']=item\n",
    "    query = 'SELECT company_name FROM STOCKS WHERE symbol = %s'\n",
    "    cursor.execute(query,(dict['symbol'],))\n",
    "    name = cursor.fetchone()\n",
    "    dict['company name'] = name[0]\n",
    "    dict['quantity']=qty\n",
    "    lis.append(dict)\n",
    "print(lis)\n"
   ]
  },
  {
   "cell_type": "code",
   "execution_count": 103,
   "metadata": {},
   "outputs": [
    {
     "name": "stdout",
     "output_type": "stream",
     "text": [
      "['__and__', '__class__', '__class_getitem__', '__contains__', '__delattr__', '__dir__', '__doc__', '__eq__', '__format__', '__ge__', '__getattribute__', '__gt__', '__hash__', '__iand__', '__init__', '__init_subclass__', '__ior__', '__isub__', '__iter__', '__ixor__', '__le__', '__len__', '__lt__', '__ne__', '__new__', '__or__', '__rand__', '__reduce__', '__reduce_ex__', '__repr__', '__ror__', '__rsub__', '__rxor__', '__setattr__', '__sizeof__', '__str__', '__sub__', '__subclasshook__', '__xor__', 'add', 'clear', 'copy', 'difference', 'difference_update', 'discard', 'intersection', 'intersection_update', 'isdisjoint', 'issubset', 'issuperset', 'pop', 'remove', 'symmetric_difference', 'symmetric_difference_update', 'union', 'update']\n"
     ]
    }
   ],
   "source": [
    "symbols = set\n",
    "symbols.add(\"Tomato\")\n",
    "type(symbols)\n",
    "print(dir(symbols))"
   ]
  },
  {
   "cell_type": "code",
   "execution_count": null,
   "metadata": {},
   "outputs": [],
   "source": []
  }
 ],
 "metadata": {
  "kernelspec": {
   "display_name": "Python 3.10.5 64-bit",
   "language": "python",
   "name": "python3"
  },
  "language_info": {
   "codemirror_mode": {
    "name": "ipython",
    "version": 3
   },
   "file_extension": ".py",
   "mimetype": "text/x-python",
   "name": "python",
   "nbconvert_exporter": "python",
   "pygments_lexer": "ipython3",
   "version": "3.10.5"
  },
  "orig_nbformat": 4,
  "vscode": {
   "interpreter": {
    "hash": "e7370f93d1d0cde622a1f8e1c04877d8463912d04d973331ad4851f04de6915a"
   }
  }
 },
 "nbformat": 4,
 "nbformat_minor": 2
}
