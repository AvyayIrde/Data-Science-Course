{
 "cells": [
  {
   "cell_type": "code",
   "execution_count": 8,
   "metadata": {},
   "outputs": [],
   "source": [
    "from symtable import Symbol\n",
    "import requests\n",
    "import json\n",
    "import mysql.connector\n",
    "import bcrypt\n",
    "\n",
    "# def timezone_search():\n",
    "#     url = \"http://api.marketstack.com/v1/timezones\"\n",
    "#     parameters = {\n",
    "#         'access_key': 'afb37f15ee86604d6975ff76d5105304'\n",
    "#     }\n",
    "#     response = requests.get(url, params=parameters)\n",
    "#     data = json.loads(response.text)\n",
    "#     return data"
   ]
  },
  {
   "cell_type": "code",
   "execution_count": 9,
   "metadata": {},
   "outputs": [
    {
     "name": "stdout",
     "output_type": "stream",
     "text": [
      "{\n",
      "    \"bestMatches\": [\n",
      "        {\n",
      "            \"1. symbol\": \"TATACOFFEE.BSE\",\n",
      "            \"2. name\": \"TATA COFFEE LTD.\",\n",
      "            \"3. type\": \"Equity\",\n",
      "            \"4. region\": \"India/Bombay\",\n",
      "            \"5. marketOpen\": \"09:15\",\n",
      "            \"6. marketClose\": \"15:30\",\n",
      "            \"7. timezone\": \"UTC+5.5\",\n",
      "            \"8. currency\": \"INR\",\n",
      "            \"9. matchScore\": \"0.8696\"\n",
      "        }\n",
      "    ]\n",
      "}\n"
     ]
    }
   ],
   "source": [
    "url = \"https://alpha-vantage.p.rapidapi.com/query\"\n",
    "\n",
    "querystring = {\n",
    "    \"keywords\":\"tatacoffee\",\n",
    "    \"function\":\"SYMBOL_SEARCH\",\n",
    "    \"datatype\":\"json\"\n",
    "}\n",
    "\n",
    "headers = {\n",
    "\t\"X-RapidAPI-Key\": \"4e11ba9a03msh6ad5ea7d0116106p196642jsn92155f1df104\",\n",
    "\t\"X-RapidAPI-Host\": \"alpha-vantage.p.rapidapi.com\"\n",
    "}\n",
    "\n",
    "response = requests.request(\"GET\", url, headers=headers, params=querystring)\n",
    "\n",
    "print(response.text)"
   ]
  },
  {
   "cell_type": "code",
   "execution_count": 10,
   "metadata": {},
   "outputs": [
    {
     "name": "stdout",
     "output_type": "stream",
     "text": [
      "{\n",
      "    \"Global Quote\": {\n",
      "        \"01. symbol\": \"TATACOFFEE.BSE\",\n",
      "        \"02. open\": \"225.0000\",\n",
      "        \"03. high\": \"225.6000\",\n",
      "        \"04. low\": \"219.0500\",\n",
      "        \"05. price\": \"219.8000\",\n",
      "        \"06. volume\": \"112379\",\n",
      "        \"07. latest trading day\": \"2022-07-22\",\n",
      "        \"08. previous close\": \"224.3000\",\n",
      "        \"09. change\": \"-4.5000\",\n",
      "        \"10. change percent\": \"-2.0062%\"\n",
      "    }\n",
      "}\n",
      "219.8000\n"
     ]
    }
   ],
   "source": [
    "url = \"https://alpha-vantage.p.rapidapi.com/query\"\n",
    "\n",
    "querystring = {\n",
    "    \"function\":\"GLOBAL_QUOTE\",\n",
    "    \"symbol\":\"TATACOFFEE.BSE\",\n",
    "    \"datatype\":\"json\"\n",
    "}\n",
    "\n",
    "headers = {\n",
    "\t\"X-RapidAPI-Key\": \"4e11ba9a03msh6ad5ea7d0116106p196642jsn92155f1df104\",\n",
    "\t\"X-RapidAPI-Host\": \"alpha-vantage.p.rapidapi.com\"\n",
    "}\n",
    "\n",
    "response = requests.request(\"GET\", url, headers=headers, params=querystring)\n",
    "data = json.loads(response.text)\n",
    "# data['Global Quote']['05. price']\n",
    "\n",
    "print(response.text)\n",
    "print(data['Global Quote']['05. price'])"
   ]
  },
  {
   "cell_type": "code",
   "execution_count": 11,
   "metadata": {},
   "outputs": [],
   "source": [
    "query=\"CREATE TABLE 'USER'(username VARCHAR(255) PRIMARY KEY, password VARCHAR(500), balance INTEGER);\""
   ]
  },
  {
   "cell_type": "code",
   "execution_count": 12,
   "metadata": {
    "vscode": {
     "languageId": "sql"
    }
   },
   "outputs": [
    {
     "ename": "SyntaxError",
     "evalue": "invalid syntax (2204232693.py, line 1)",
     "output_type": "error",
     "traceback": [
      "\u001b[0;36m  Input \u001b[0;32mIn [12]\u001b[0;36m\u001b[0m\n\u001b[0;31m    CREATE TABLE STOCKS(company_name VARCHAR(255), symbol VARCHAR(255) PRIMARY KEY, timezone VARCHAR(255), currency VARCHAR(255), price INTEGER)\u001b[0m\n\u001b[0m           ^\u001b[0m\n\u001b[0;31mSyntaxError\u001b[0m\u001b[0;31m:\u001b[0m invalid syntax\n"
     ]
    }
   ],
   "source": [
    "CREATE TABLE STOCKS(company_name VARCHAR(255), symbol VARCHAR(255) PRIMARY KEY, timezone VARCHAR(255), currency VARCHAR(255), price INTEGER)"
   ]
  },
  {
   "cell_type": "code",
   "execution_count": null,
   "metadata": {
    "vscode": {
     "languageId": "sql"
    }
   },
   "outputs": [],
   "source": [
    "CREATE TABLE TRADES(id INTEGER  NOT NULL,\n",
    "                    username VARCHAR(255) NOT NULL,\n",
    "                    stock_symbol VARCHAR(255) NOT NULL,\n",
    "                    price FLOAT, \n",
    "                    quantity INTEGER, \n",
    "                    transaction_ammount FLOAT,\n",
    "                    time_stamp TIMESTAMP NOT NULL DEFAULT CURRENT_TIMESTAMP ON UPDATE CURRENT_TIMESTAMP,\n",
    "                    PRIMARY KEY(id),\n",
    "                    FOREIGN KEY (username) REFERENCES USERS(username),\n",
    "                    FOREIGN KEY (stock_symbol) REFERENCES STOCKS(symbol));"
   ]
  },
  {
   "cell_type": "code",
   "execution_count": null,
   "metadata": {},
   "outputs": [
    {
     "name": "stdout",
     "output_type": "stream",
     "text": [
      "2\n",
      "2\n",
      "5\n",
      "5\n",
      "3\n",
      "8\n"
     ]
    }
   ],
   "source": [
    "result = [(2,), (2,), (5,),(5,),(3,),(8,)]\n",
    "\n",
    "\n",
    "for i in range(0,len(result)):\n",
    "    print(result[i][0])"
   ]
  },
  {
   "cell_type": "code",
   "execution_count": null,
   "metadata": {},
   "outputs": [
    {
     "name": "stdout",
     "output_type": "stream",
     "text": [
      "5\n",
      "13\n",
      "9\n",
      "3\n",
      "[{'symbol': 'AAPL', 'quantity': 5}, {'symbol': 'SMSN.LON', 'quantity': 8}, {'symbol': 'AAPL', 'quantity': -2}, {'symbol': 'SMSN.LON', 'quantity': -3}]\n"
     ]
    }
   ],
   "source": [
    "# query = \"SELECT stock_symbol, quantity FROM TRADES WHERE username = %s\"\n",
    "# cursor.execute(query,(user.username,))\n",
    "# result = cursor.fetchall()\n",
    "\n",
    "result = [('AAPL',5),('SMSN.LON',8),('AAPL',-2),('SMSN.LON',-3)]\n",
    "lis = []\n",
    "s=[]\n",
    "q=0\n",
    "for item in result:\n",
    "    dict = {}\n",
    "    dict['symbol'] = item[0]\n",
    "    dict['quantity'] = item[1]\n",
    "    s.append(item[0])\n",
    "    for i in range(0,len(s)):\n",
    "        if dict['symbol']==s[i]:\n",
    "            q+=dict['quantity']\n",
    "    print(q)\n",
    "    # print(dict)\n",
    "    lis.append(dict)\n",
    "print(lis)"
   ]
  },
  {
   "cell_type": "code",
   "execution_count": null,
   "metadata": {},
   "outputs": [],
   "source": [
    "for item in lis:\n",
    "    if item['symbol'] in s:\n",
    "        item['quantity']"
   ]
  },
  {
   "cell_type": "code",
   "execution_count": null,
   "metadata": {},
   "outputs": [
    {
     "name": "stdout",
     "output_type": "stream",
     "text": [
      "3\n"
     ]
    }
   ],
   "source": [
    "result = [('AAPL',5),('AAPL',-2)]\n",
    "dict = {}\n",
    "# dict['symbol'] = result[0][0]\n",
    "# dict['quantity'] = result[0][2]\n",
    "quantity=0\n",
    "for item in result:\n",
    "    quantity += item[1]\n",
    "\n",
    "print(quantity)\n",
    "\n"
   ]
  },
  {
   "cell_type": "code",
   "execution_count": 13,
   "metadata": {},
   "outputs": [],
   "source": [
    "from configparser import ConfigParser\n",
    "from mysql.connector import MySQLConnection\n",
    "\n",
    "def read_db_config(filename='data/config.ini', section='mysql'):    \n",
    "        # create parser and read ini configuration file\n",
    "        parser = ConfigParser()\n",
    "        parser.read(filename)\n",
    "        # get section, default to mysql\n",
    "        db = {}\n",
    "        if parser.has_section(section):\n",
    "            items = parser.items(section)\n",
    "            for item in items:\n",
    "                db[item[0]] = item[1]\n",
    "        else:\n",
    "            raise Exception('{0} not found in the {1} file'.format(section, filename))    \n",
    "        return db # dictionary containing key-value pairs of the credentials to your Mysql server connection \n",
    "# user='Avyay'\n",
    "# db_config = read_db_config()\n",
    "# conn = MySQLConnection(**db_config)\n",
    "# cursor = conn.cursor()\n",
    "# query = \"SELECT stock_symbol FROM TRADES WHERE username = %s\"\n",
    "# cursor.execute(query,(user,))\n",
    "# result = cursor.fetchall()\n",
    "# symbols = set\n",
    "# # print(result)\n",
    "# for item in result:\n",
    "#     symbols.add(item[0])\n",
    "# # print(symbols)\n",
    "# lis = []\n",
    "# for item in symbols:\n",
    "#     dict = {}\n",
    "#     query = \"SELECT quantity FROM TRADES WHERE username = %s AND stock_symbol = %s\"\n",
    "#     cursor.execute(query,(user,item))\n",
    "#     resultq = cursor.fetchall()\n",
    "#     # print(resultq)\n",
    "#     qty=0\n",
    "#     for q in resultq:\n",
    "#         # print(q[0])\n",
    "#         qty+=q[0]\n",
    "#     dict['symbol']=item\n",
    "#     query = 'SELECT company_name FROM STOCKS WHERE symbol = %s'\n",
    "#     cursor.execute(query,(dict['symbol'],))\n",
    "#     name = cursor.fetchone()\n",
    "#     dict['company name'] = name[0]\n",
    "#     dict['quantity']=qty\n",
    "#     lis.append(dict)\n",
    "# print(lis)\n"
   ]
  },
  {
   "cell_type": "code",
   "execution_count": 15,
   "metadata": {},
   "outputs": [],
   "source": [
    "# symbols = set\n",
    "# symbols.add(\"Tomato\")\n",
    "# type(symbols)\n",
    "# print(dir(symbols))"
   ]
  },
  {
   "cell_type": "code",
   "execution_count": 17,
   "metadata": {},
   "outputs": [],
   "source": [
    "search='Avyay'\n",
    "db_config = read_db_config()\n",
    "conn = MySQLConnection(**db_config)\n",
    "cursor = conn.cursor()\n",
    "query = \"SELECT * FROM TRADES WHERE username = %s\"\n",
    "cursor.execute(query,(search,))\n",
    "result = cursor.fetchall()\n"
   ]
  },
  {
   "cell_type": "code",
   "execution_count": 19,
   "metadata": {},
   "outputs": [
    {
     "name": "stdout",
     "output_type": "stream",
     "text": [
      "     0      1         2         3    4         5                   6\n",
      "0    1  Avyay  SMSN.LON  1135.500    2  -2271.00 2022-07-18 20:46:48\n",
      "1    2  Avyay  SMSN.LON  1135.500    2  -2271.00 2022-07-18 20:48:40\n",
      "2    3  Avyay      AAPL   150.170    2   -300.34 2022-07-18 23:10:25\n",
      "3    4  Avyay  SMSN.LON  1135.500    5  -5677.50 2022-07-18 23:10:59\n",
      "4    5  Avyay      AAPL   150.170   -1    150.17 2022-07-19 00:51:33\n",
      "5    6  Avyay      AAPL   150.170   -1    150.17 2022-07-19 00:51:33\n",
      "6    7  Avyay  SMSN.LON  1135.500   -9  10219.50 2022-07-19 00:51:33\n",
      "7    8  Avyay   TWR.DEX    37.515  100  -3751.50 2022-07-19 10:57:01\n",
      "8    9  Avyay   TWR.DEX    37.515 -100   3751.50 2022-07-19 10:59:15\n",
      "9   10  Avyay      AAPL   147.070    5   -735.35 2022-07-19 23:39:10\n",
      "10  11  Avyay      TSLA   721.640    5  -3608.20 2022-07-19 23:44:29\n",
      "11  12  Avyay  SMSN.LON  1160.000   60 -69600.00 2022-07-21 12:08:42\n"
     ]
    }
   ],
   "source": [
    "import pandas as pd\n",
    "\n",
    "dataframe = pd.DataFrame(result)\n",
    "\n",
    "print(dataframe)"
   ]
  },
  {
   "cell_type": "code",
   "execution_count": 20,
   "metadata": {},
   "outputs": [
    {
     "name": "stdout",
     "output_type": "stream",
     "text": [
      "['__annotations__', '__builtins__', '__call__', '__class__', '__closure__', '__code__', '__defaults__', '__delattr__', '__dict__', '__dir__', '__doc__', '__eq__', '__format__', '__ge__', '__get__', '__getattribute__', '__globals__', '__gt__', '__hash__', '__init__', '__init_subclass__', '__kwdefaults__', '__le__', '__lt__', '__module__', '__name__', '__ne__', '__new__', '__qualname__', '__reduce__', '__reduce_ex__', '__repr__', '__setattr__', '__sizeof__', '__str__', '__subclasshook__']\n"
     ]
    }
   ],
   "source": [
    "from tabulate import tabulate\n",
    "\n",
    "print(dir(tabulate))"
   ]
  },
  {
   "cell_type": "code",
   "execution_count": null,
   "metadata": {},
   "outputs": [],
   "source": []
  }
 ],
 "metadata": {
  "kernelspec": {
   "display_name": "Python 3.10.5 64-bit",
   "language": "python",
   "name": "python3"
  },
  "language_info": {
   "codemirror_mode": {
    "name": "ipython",
    "version": 3
   },
   "file_extension": ".py",
   "mimetype": "text/x-python",
   "name": "python",
   "nbconvert_exporter": "python",
   "pygments_lexer": "ipython3",
   "version": "3.10.5"
  },
  "orig_nbformat": 4,
  "vscode": {
   "interpreter": {
    "hash": "e7370f93d1d0cde622a1f8e1c04877d8463912d04d973331ad4851f04de6915a"
   }
  }
 },
 "nbformat": 4,
 "nbformat_minor": 2
}
